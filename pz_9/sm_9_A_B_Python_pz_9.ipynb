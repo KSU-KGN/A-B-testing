{
  "cells": [
    {
      "cell_type": "markdown",
      "metadata": {
        "id": "P8x5TKkEiz3H"
      },
      "source": [
        "# A/B tests с Python\n",
        "\n"
      ]
    },
    {
      "cell_type": "markdown",
      "source": [
        "# Урок 9. Python применение продвинутых методов\n",
        "# Задание 1 (с семинара)\n",
        "Оцените результаты эксперимента:<br>\n",
        "Стат значимо ли отличается метрика конверсии в двух группах ?<br>\n",
        "Какие рекомендации дадите менеджеру?\n"
      ],
      "metadata": {
        "id": "WplbmOQKlQ9V"
      }
    },
    {
      "cell_type": "markdown",
      "source": [
        "a_b test ecom.xlsx<br>\n",
        "Для этого проекта вы будете работать над тем, чтобы понять результаты A/B тестирования, выполняемого на веб-сайте электронной коммерции. Компания разработала новую веб-страницу, чтобы попытаться увеличить число пользователей, которые «конвертируют», то есть количество пользователей, которые решат заплатить за продукт компании. Ваша цель - работать с этой записной книжкой, чтобы помочь компании понять, должны ли они внедрить эту новую страницу, сохранить старую страницу или, возможно, запустить эксперимент дольше, чтобы принять решение."
      ],
      "metadata": {
        "id": "QjPm8SoFmHJC"
      }
    },
    {
      "cell_type": "markdown",
      "metadata": {
        "id": "3rFDZCpXiz3K"
      },
      "source": [
        "\n",
        "<a id=\"Libraries\"></a>\n",
        "##  Загрузка библиотек"
      ]
    },
    {
      "cell_type": "code",
      "execution_count": 1,
      "metadata": {
        "id": "oqZPz9Bmiz3L"
      },
      "outputs": [],
      "source": [
        "from scipy.stats import ttest_1samp\n",
        "import numpy as np\n",
        "\n",
        "import warnings\n",
        "warnings.filterwarnings('ignore')\n",
        "warnings.warn('DelftStack')\n",
        "warnings.warn('Do not show this message')\n",
        "\n"
      ]
    },
    {
      "cell_type": "code",
      "execution_count": 2,
      "metadata": {
        "id": "squsMqBBiz3M"
      },
      "outputs": [],
      "source": [
        "import matplotlib.pyplot as plt\n",
        "import seaborn as sns\n",
        "import pandas as pd\n"
      ]
    },
    {
      "cell_type": "markdown",
      "source": [
        "#Поработаем с датасетом"
      ],
      "metadata": {
        "id": "kL2JLgNCMHlB"
      }
    },
    {
      "cell_type": "markdown",
      "source": [
        "##Подготовка данных"
      ],
      "metadata": {
        "id": "oVKHHkxyMWzC"
      }
    },
    {
      "cell_type": "code",
      "source": [
        "#Подгружаем данные\n",
        "data = pd.read_excel('a_b test ecom.xlsx')"
      ],
      "metadata": {
        "id": "vRqm5Nj1X-8y"
      },
      "execution_count": 3,
      "outputs": []
    },
    {
      "cell_type": "code",
      "source": [
        "data.head(10)"
      ],
      "metadata": {
        "colab": {
          "base_uri": "https://localhost:8080/",
          "height": 363
        },
        "id": "R30ZVe9uZGpb",
        "outputId": "25ffff93-cc0c-4e93-890b-465b3361887e"
      },
      "execution_count": 4,
      "outputs": [
        {
          "output_type": "execute_result",
          "data": {
            "text/plain": [
              "       id     time  con_treat      page  converted\n",
              "0  851104  11:48.6    control  old_page          0\n",
              "1  804228  01:45.2    control  old_page          0\n",
              "2  661590  55:06.2  treatment  new_page          0\n",
              "3  853541  28:03.1  treatment  new_page          0\n",
              "4  864975  52:26.2    control  old_page          1\n",
              "5  936923  20:49.1    control  old_page          0\n",
              "6  679687  26:46.9  treatment  new_page          1\n",
              "7  719014  48:29.5    control  old_page          0\n",
              "8  817355  58:09.0  treatment  new_page          1\n",
              "9  839785  11:06.6  treatment  new_page          1"
            ],
            "text/html": [
              "\n",
              "  <div id=\"df-75761c00-43eb-43a0-9dd9-818c435e83f1\">\n",
              "    <div class=\"colab-df-container\">\n",
              "      <div>\n",
              "<style scoped>\n",
              "    .dataframe tbody tr th:only-of-type {\n",
              "        vertical-align: middle;\n",
              "    }\n",
              "\n",
              "    .dataframe tbody tr th {\n",
              "        vertical-align: top;\n",
              "    }\n",
              "\n",
              "    .dataframe thead th {\n",
              "        text-align: right;\n",
              "    }\n",
              "</style>\n",
              "<table border=\"1\" class=\"dataframe\">\n",
              "  <thead>\n",
              "    <tr style=\"text-align: right;\">\n",
              "      <th></th>\n",
              "      <th>id</th>\n",
              "      <th>time</th>\n",
              "      <th>con_treat</th>\n",
              "      <th>page</th>\n",
              "      <th>converted</th>\n",
              "    </tr>\n",
              "  </thead>\n",
              "  <tbody>\n",
              "    <tr>\n",
              "      <th>0</th>\n",
              "      <td>851104</td>\n",
              "      <td>11:48.6</td>\n",
              "      <td>control</td>\n",
              "      <td>old_page</td>\n",
              "      <td>0</td>\n",
              "    </tr>\n",
              "    <tr>\n",
              "      <th>1</th>\n",
              "      <td>804228</td>\n",
              "      <td>01:45.2</td>\n",
              "      <td>control</td>\n",
              "      <td>old_page</td>\n",
              "      <td>0</td>\n",
              "    </tr>\n",
              "    <tr>\n",
              "      <th>2</th>\n",
              "      <td>661590</td>\n",
              "      <td>55:06.2</td>\n",
              "      <td>treatment</td>\n",
              "      <td>new_page</td>\n",
              "      <td>0</td>\n",
              "    </tr>\n",
              "    <tr>\n",
              "      <th>3</th>\n",
              "      <td>853541</td>\n",
              "      <td>28:03.1</td>\n",
              "      <td>treatment</td>\n",
              "      <td>new_page</td>\n",
              "      <td>0</td>\n",
              "    </tr>\n",
              "    <tr>\n",
              "      <th>4</th>\n",
              "      <td>864975</td>\n",
              "      <td>52:26.2</td>\n",
              "      <td>control</td>\n",
              "      <td>old_page</td>\n",
              "      <td>1</td>\n",
              "    </tr>\n",
              "    <tr>\n",
              "      <th>5</th>\n",
              "      <td>936923</td>\n",
              "      <td>20:49.1</td>\n",
              "      <td>control</td>\n",
              "      <td>old_page</td>\n",
              "      <td>0</td>\n",
              "    </tr>\n",
              "    <tr>\n",
              "      <th>6</th>\n",
              "      <td>679687</td>\n",
              "      <td>26:46.9</td>\n",
              "      <td>treatment</td>\n",
              "      <td>new_page</td>\n",
              "      <td>1</td>\n",
              "    </tr>\n",
              "    <tr>\n",
              "      <th>7</th>\n",
              "      <td>719014</td>\n",
              "      <td>48:29.5</td>\n",
              "      <td>control</td>\n",
              "      <td>old_page</td>\n",
              "      <td>0</td>\n",
              "    </tr>\n",
              "    <tr>\n",
              "      <th>8</th>\n",
              "      <td>817355</td>\n",
              "      <td>58:09.0</td>\n",
              "      <td>treatment</td>\n",
              "      <td>new_page</td>\n",
              "      <td>1</td>\n",
              "    </tr>\n",
              "    <tr>\n",
              "      <th>9</th>\n",
              "      <td>839785</td>\n",
              "      <td>11:06.6</td>\n",
              "      <td>treatment</td>\n",
              "      <td>new_page</td>\n",
              "      <td>1</td>\n",
              "    </tr>\n",
              "  </tbody>\n",
              "</table>\n",
              "</div>\n",
              "      <button class=\"colab-df-convert\" onclick=\"convertToInteractive('df-75761c00-43eb-43a0-9dd9-818c435e83f1')\"\n",
              "              title=\"Convert this dataframe to an interactive table.\"\n",
              "              style=\"display:none;\">\n",
              "        \n",
              "  <svg xmlns=\"http://www.w3.org/2000/svg\" height=\"24px\"viewBox=\"0 0 24 24\"\n",
              "       width=\"24px\">\n",
              "    <path d=\"M0 0h24v24H0V0z\" fill=\"none\"/>\n",
              "    <path d=\"M18.56 5.44l.94 2.06.94-2.06 2.06-.94-2.06-.94-.94-2.06-.94 2.06-2.06.94zm-11 1L8.5 8.5l.94-2.06 2.06-.94-2.06-.94L8.5 2.5l-.94 2.06-2.06.94zm10 10l.94 2.06.94-2.06 2.06-.94-2.06-.94-.94-2.06-.94 2.06-2.06.94z\"/><path d=\"M17.41 7.96l-1.37-1.37c-.4-.4-.92-.59-1.43-.59-.52 0-1.04.2-1.43.59L10.3 9.45l-7.72 7.72c-.78.78-.78 2.05 0 2.83L4 21.41c.39.39.9.59 1.41.59.51 0 1.02-.2 1.41-.59l7.78-7.78 2.81-2.81c.8-.78.8-2.07 0-2.86zM5.41 20L4 18.59l7.72-7.72 1.47 1.35L5.41 20z\"/>\n",
              "  </svg>\n",
              "      </button>\n",
              "      \n",
              "  <style>\n",
              "    .colab-df-container {\n",
              "      display:flex;\n",
              "      flex-wrap:wrap;\n",
              "      gap: 12px;\n",
              "    }\n",
              "\n",
              "    .colab-df-convert {\n",
              "      background-color: #E8F0FE;\n",
              "      border: none;\n",
              "      border-radius: 50%;\n",
              "      cursor: pointer;\n",
              "      display: none;\n",
              "      fill: #1967D2;\n",
              "      height: 32px;\n",
              "      padding: 0 0 0 0;\n",
              "      width: 32px;\n",
              "    }\n",
              "\n",
              "    .colab-df-convert:hover {\n",
              "      background-color: #E2EBFA;\n",
              "      box-shadow: 0px 1px 2px rgba(60, 64, 67, 0.3), 0px 1px 3px 1px rgba(60, 64, 67, 0.15);\n",
              "      fill: #174EA6;\n",
              "    }\n",
              "\n",
              "    [theme=dark] .colab-df-convert {\n",
              "      background-color: #3B4455;\n",
              "      fill: #D2E3FC;\n",
              "    }\n",
              "\n",
              "    [theme=dark] .colab-df-convert:hover {\n",
              "      background-color: #434B5C;\n",
              "      box-shadow: 0px 1px 3px 1px rgba(0, 0, 0, 0.15);\n",
              "      filter: drop-shadow(0px 1px 2px rgba(0, 0, 0, 0.3));\n",
              "      fill: #FFFFFF;\n",
              "    }\n",
              "  </style>\n",
              "\n",
              "      <script>\n",
              "        const buttonEl =\n",
              "          document.querySelector('#df-75761c00-43eb-43a0-9dd9-818c435e83f1 button.colab-df-convert');\n",
              "        buttonEl.style.display =\n",
              "          google.colab.kernel.accessAllowed ? 'block' : 'none';\n",
              "\n",
              "        async function convertToInteractive(key) {\n",
              "          const element = document.querySelector('#df-75761c00-43eb-43a0-9dd9-818c435e83f1');\n",
              "          const dataTable =\n",
              "            await google.colab.kernel.invokeFunction('convertToInteractive',\n",
              "                                                     [key], {});\n",
              "          if (!dataTable) return;\n",
              "\n",
              "          const docLinkHtml = 'Like what you see? Visit the ' +\n",
              "            '<a target=\"_blank\" href=https://colab.research.google.com/notebooks/data_table.ipynb>data table notebook</a>'\n",
              "            + ' to learn more about interactive tables.';\n",
              "          element.innerHTML = '';\n",
              "          dataTable['output_type'] = 'display_data';\n",
              "          await google.colab.output.renderOutput(dataTable, element);\n",
              "          const docLink = document.createElement('div');\n",
              "          docLink.innerHTML = docLinkHtml;\n",
              "          element.appendChild(docLink);\n",
              "        }\n",
              "      </script>\n",
              "    </div>\n",
              "  </div>\n",
              "  "
            ]
          },
          "metadata": {},
          "execution_count": 4
        }
      ]
    },
    {
      "cell_type": "code",
      "source": [
        "# Информация по датасету\n",
        "data.info()"
      ],
      "metadata": {
        "colab": {
          "base_uri": "https://localhost:8080/"
        },
        "id": "I8xrSR3sMdfW",
        "outputId": "43cad7d4-90e0-4c0a-fb5a-57b571dcc69c"
      },
      "execution_count": 5,
      "outputs": [
        {
          "output_type": "stream",
          "name": "stdout",
          "text": [
            "<class 'pandas.core.frame.DataFrame'>\n",
            "RangeIndex: 294478 entries, 0 to 294477\n",
            "Data columns (total 5 columns):\n",
            " #   Column     Non-Null Count   Dtype \n",
            "---  ------     --------------   ----- \n",
            " 0   id         294478 non-null  int64 \n",
            " 1   time       294478 non-null  object\n",
            " 2   con_treat  294478 non-null  object\n",
            " 3   page       294478 non-null  object\n",
            " 4   converted  294478 non-null  int64 \n",
            "dtypes: int64(2), object(3)\n",
            "memory usage: 11.2+ MB\n"
          ]
        }
      ]
    },
    {
      "cell_type": "code",
      "source": [
        "# Размерность датасета\n",
        "data.shape"
      ],
      "metadata": {
        "colab": {
          "base_uri": "https://localhost:8080/"
        },
        "id": "l5-MmmPWp5XO",
        "outputId": "0b7133bd-694f-4c6a-e5c6-87a9beec094f"
      },
      "execution_count": 6,
      "outputs": [
        {
          "output_type": "execute_result",
          "data": {
            "text/plain": [
              "(294478, 5)"
            ]
          },
          "metadata": {},
          "execution_count": 6
        }
      ]
    },
    {
      "cell_type": "code",
      "source": [
        "# Посмотрим основные статистики\n",
        "data.describe()"
      ],
      "metadata": {
        "colab": {
          "base_uri": "https://localhost:8080/",
          "height": 300
        },
        "id": "_zTWERpHMdiS",
        "outputId": "daec7713-2e6c-4b06-eff5-d45ee20b3434"
      },
      "execution_count": 7,
      "outputs": [
        {
          "output_type": "execute_result",
          "data": {
            "text/plain": [
              "                  id      converted\n",
              "count  294478.000000  294478.000000\n",
              "mean   787974.124733       0.119659\n",
              "std     91210.823776       0.324563\n",
              "min    630000.000000       0.000000\n",
              "25%    709032.250000       0.000000\n",
              "50%    787933.500000       0.000000\n",
              "75%    866911.750000       0.000000\n",
              "max    945999.000000       1.000000"
            ],
            "text/html": [
              "\n",
              "  <div id=\"df-d3e48f44-0f47-4631-9421-f7e939856a15\">\n",
              "    <div class=\"colab-df-container\">\n",
              "      <div>\n",
              "<style scoped>\n",
              "    .dataframe tbody tr th:only-of-type {\n",
              "        vertical-align: middle;\n",
              "    }\n",
              "\n",
              "    .dataframe tbody tr th {\n",
              "        vertical-align: top;\n",
              "    }\n",
              "\n",
              "    .dataframe thead th {\n",
              "        text-align: right;\n",
              "    }\n",
              "</style>\n",
              "<table border=\"1\" class=\"dataframe\">\n",
              "  <thead>\n",
              "    <tr style=\"text-align: right;\">\n",
              "      <th></th>\n",
              "      <th>id</th>\n",
              "      <th>converted</th>\n",
              "    </tr>\n",
              "  </thead>\n",
              "  <tbody>\n",
              "    <tr>\n",
              "      <th>count</th>\n",
              "      <td>294478.000000</td>\n",
              "      <td>294478.000000</td>\n",
              "    </tr>\n",
              "    <tr>\n",
              "      <th>mean</th>\n",
              "      <td>787974.124733</td>\n",
              "      <td>0.119659</td>\n",
              "    </tr>\n",
              "    <tr>\n",
              "      <th>std</th>\n",
              "      <td>91210.823776</td>\n",
              "      <td>0.324563</td>\n",
              "    </tr>\n",
              "    <tr>\n",
              "      <th>min</th>\n",
              "      <td>630000.000000</td>\n",
              "      <td>0.000000</td>\n",
              "    </tr>\n",
              "    <tr>\n",
              "      <th>25%</th>\n",
              "      <td>709032.250000</td>\n",
              "      <td>0.000000</td>\n",
              "    </tr>\n",
              "    <tr>\n",
              "      <th>50%</th>\n",
              "      <td>787933.500000</td>\n",
              "      <td>0.000000</td>\n",
              "    </tr>\n",
              "    <tr>\n",
              "      <th>75%</th>\n",
              "      <td>866911.750000</td>\n",
              "      <td>0.000000</td>\n",
              "    </tr>\n",
              "    <tr>\n",
              "      <th>max</th>\n",
              "      <td>945999.000000</td>\n",
              "      <td>1.000000</td>\n",
              "    </tr>\n",
              "  </tbody>\n",
              "</table>\n",
              "</div>\n",
              "      <button class=\"colab-df-convert\" onclick=\"convertToInteractive('df-d3e48f44-0f47-4631-9421-f7e939856a15')\"\n",
              "              title=\"Convert this dataframe to an interactive table.\"\n",
              "              style=\"display:none;\">\n",
              "        \n",
              "  <svg xmlns=\"http://www.w3.org/2000/svg\" height=\"24px\"viewBox=\"0 0 24 24\"\n",
              "       width=\"24px\">\n",
              "    <path d=\"M0 0h24v24H0V0z\" fill=\"none\"/>\n",
              "    <path d=\"M18.56 5.44l.94 2.06.94-2.06 2.06-.94-2.06-.94-.94-2.06-.94 2.06-2.06.94zm-11 1L8.5 8.5l.94-2.06 2.06-.94-2.06-.94L8.5 2.5l-.94 2.06-2.06.94zm10 10l.94 2.06.94-2.06 2.06-.94-2.06-.94-.94-2.06-.94 2.06-2.06.94z\"/><path d=\"M17.41 7.96l-1.37-1.37c-.4-.4-.92-.59-1.43-.59-.52 0-1.04.2-1.43.59L10.3 9.45l-7.72 7.72c-.78.78-.78 2.05 0 2.83L4 21.41c.39.39.9.59 1.41.59.51 0 1.02-.2 1.41-.59l7.78-7.78 2.81-2.81c.8-.78.8-2.07 0-2.86zM5.41 20L4 18.59l7.72-7.72 1.47 1.35L5.41 20z\"/>\n",
              "  </svg>\n",
              "      </button>\n",
              "      \n",
              "  <style>\n",
              "    .colab-df-container {\n",
              "      display:flex;\n",
              "      flex-wrap:wrap;\n",
              "      gap: 12px;\n",
              "    }\n",
              "\n",
              "    .colab-df-convert {\n",
              "      background-color: #E8F0FE;\n",
              "      border: none;\n",
              "      border-radius: 50%;\n",
              "      cursor: pointer;\n",
              "      display: none;\n",
              "      fill: #1967D2;\n",
              "      height: 32px;\n",
              "      padding: 0 0 0 0;\n",
              "      width: 32px;\n",
              "    }\n",
              "\n",
              "    .colab-df-convert:hover {\n",
              "      background-color: #E2EBFA;\n",
              "      box-shadow: 0px 1px 2px rgba(60, 64, 67, 0.3), 0px 1px 3px 1px rgba(60, 64, 67, 0.15);\n",
              "      fill: #174EA6;\n",
              "    }\n",
              "\n",
              "    [theme=dark] .colab-df-convert {\n",
              "      background-color: #3B4455;\n",
              "      fill: #D2E3FC;\n",
              "    }\n",
              "\n",
              "    [theme=dark] .colab-df-convert:hover {\n",
              "      background-color: #434B5C;\n",
              "      box-shadow: 0px 1px 3px 1px rgba(0, 0, 0, 0.15);\n",
              "      filter: drop-shadow(0px 1px 2px rgba(0, 0, 0, 0.3));\n",
              "      fill: #FFFFFF;\n",
              "    }\n",
              "  </style>\n",
              "\n",
              "      <script>\n",
              "        const buttonEl =\n",
              "          document.querySelector('#df-d3e48f44-0f47-4631-9421-f7e939856a15 button.colab-df-convert');\n",
              "        buttonEl.style.display =\n",
              "          google.colab.kernel.accessAllowed ? 'block' : 'none';\n",
              "\n",
              "        async function convertToInteractive(key) {\n",
              "          const element = document.querySelector('#df-d3e48f44-0f47-4631-9421-f7e939856a15');\n",
              "          const dataTable =\n",
              "            await google.colab.kernel.invokeFunction('convertToInteractive',\n",
              "                                                     [key], {});\n",
              "          if (!dataTable) return;\n",
              "\n",
              "          const docLinkHtml = 'Like what you see? Visit the ' +\n",
              "            '<a target=\"_blank\" href=https://colab.research.google.com/notebooks/data_table.ipynb>data table notebook</a>'\n",
              "            + ' to learn more about interactive tables.';\n",
              "          element.innerHTML = '';\n",
              "          dataTable['output_type'] = 'display_data';\n",
              "          await google.colab.output.renderOutput(dataTable, element);\n",
              "          const docLink = document.createElement('div');\n",
              "          docLink.innerHTML = docLinkHtml;\n",
              "          element.appendChild(docLink);\n",
              "        }\n",
              "      </script>\n",
              "    </div>\n",
              "  </div>\n",
              "  "
            ]
          },
          "metadata": {},
          "execution_count": 7
        }
      ]
    },
    {
      "cell_type": "code",
      "source": [
        "data.isna().sum()"
      ],
      "metadata": {
        "id": "uGaR4U0hMd2u",
        "colab": {
          "base_uri": "https://localhost:8080/"
        },
        "outputId": "68af1d4f-9185-40bf-88cd-4cdf6a1212d2"
      },
      "execution_count": 8,
      "outputs": [
        {
          "output_type": "execute_result",
          "data": {
            "text/plain": [
              "id           0\n",
              "time         0\n",
              "con_treat    0\n",
              "page         0\n",
              "converted    0\n",
              "dtype: int64"
            ]
          },
          "metadata": {},
          "execution_count": 8
        }
      ]
    },
    {
      "cell_type": "markdown",
      "source": [
        "Пропущенных данных нет."
      ],
      "metadata": {
        "id": "ORYEoitMnczg"
      }
    },
    {
      "cell_type": "markdown",
      "source": [
        "### Тестирование гипотез."
      ],
      "metadata": {
        "id": "su7tsq_Mub1q"
      }
    },
    {
      "cell_type": "markdown",
      "source": [
        "***Гипотеза для коэффициента корелляции.*** Как видно из данных, пользователи контрольной группы (50%) должны были остваться на старой странице, а пользователи тестовой группы (50%) должны были переходить на новую страницу.<br>\n",
        "Таким образом, данные колонки \"con_treat\"\tдолжны идеально коррелироваться с данными колонки \"page\".<br>\n",
        "Проверим это."
      ],
      "metadata": {
        "id": "mASIA1wKnCMf"
      }
    },
    {
      "cell_type": "code",
      "source": [
        "from scipy.stats import pearsonr"
      ],
      "metadata": {
        "id": "W---TRXcuyJG"
      },
      "execution_count": 9,
      "outputs": []
    },
    {
      "cell_type": "code",
      "source": [
        "data.con_treat_bool = data.apply(lambda x: 0 if x.con_treat=='control' else 1, axis=1)\n",
        "data.page_bool = data.apply(lambda x: 0 if x.page=='old_page' else 1, axis=1)\n",
        "\n",
        "stat, p = pearsonr(data.con_treat_bool, data.page_bool)\n",
        "\n",
        "print('stat=%.3f, p=%.3f' % (stat, p))\n",
        "if stat == 1:\n",
        "    print('Группы идеально коррелируют')\n",
        "else:\n",
        "    print('Группы не идеально коррелируют')"
      ],
      "metadata": {
        "colab": {
          "base_uri": "https://localhost:8080/"
        },
        "id": "Uzr2XsJ0uy-Y",
        "outputId": "c97c0108-99b9-40d8-b217-f93fa1657ed6"
      },
      "execution_count": 10,
      "outputs": [
        {
          "output_type": "stream",
          "name": "stdout",
          "text": [
            "stat=0.974, p=0.000\n",
            "Группы не идеально коррелируют\n"
          ]
        }
      ]
    },
    {
      "cell_type": "markdown",
      "source": [
        "Получили странный результат: группы немного различаются.<br>\n",
        "Рассмотрим эти группы подробней."
      ],
      "metadata": {
        "id": "RaaOmbicojhb"
      }
    },
    {
      "cell_type": "code",
      "source": [
        "data.new = data.apply(lambda x: 1 if (x.con_treat=='control' and x.page=='old_page') or\n",
        "                                     (x.con_treat=='treatment' and x.page=='new_page') else 0, axis=1)\n",
        "data.new.value_counts()"
      ],
      "metadata": {
        "colab": {
          "base_uri": "https://localhost:8080/"
        },
        "id": "bpd-jS_Wu9wA",
        "outputId": "34d58ced-b259-45e1-a2f9-779cde5a48de"
      },
      "execution_count": 11,
      "outputs": [
        {
          "output_type": "execute_result",
          "data": {
            "text/plain": [
              "1    290585\n",
              "0      3893\n",
              "dtype: int64"
            ]
          },
          "metadata": {},
          "execution_count": 11
        }
      ]
    },
    {
      "cell_type": "markdown",
      "source": [
        "3 893 пользователя посещяла \"не свою\" страницу!<br>"
      ],
      "metadata": {
        "id": "RFgV5_zVc1vy"
      }
    },
    {
      "cell_type": "code",
      "source": [
        "data.con_treat.value_counts()"
      ],
      "metadata": {
        "colab": {
          "base_uri": "https://localhost:8080/"
        },
        "id": "7FeOO7zfqKlo",
        "outputId": "d83d4c57-6dd7-45af-e76b-14b7df75427c"
      },
      "execution_count": 12,
      "outputs": [
        {
          "output_type": "execute_result",
          "data": {
            "text/plain": [
              "treatment    147276\n",
              "control      147202\n",
              "Name: con_treat, dtype: int64"
            ]
          },
          "metadata": {},
          "execution_count": 12
        }
      ]
    },
    {
      "cell_type": "markdown",
      "source": [
        "Объём выборок в каждой группе примерно одинаковый."
      ],
      "metadata": {
        "id": "lhKfnV7XntZf"
      }
    },
    {
      "cell_type": "code",
      "source": [
        "data.page.value_counts()"
      ],
      "metadata": {
        "id": "TnQE5jf5qK0Y",
        "colab": {
          "base_uri": "https://localhost:8080/"
        },
        "outputId": "12b74bc9-fb62-45d0-9535-6b2fbc114c91"
      },
      "execution_count": 13,
      "outputs": [
        {
          "output_type": "execute_result",
          "data": {
            "text/plain": [
              "old_page    147239\n",
              "new_page    147239\n",
              "Name: page, dtype: int64"
            ]
          },
          "metadata": {},
          "execution_count": 13
        }
      ]
    },
    {
      "cell_type": "markdown",
      "source": [
        "Число посетителей старой и новой страницы одинаково."
      ],
      "metadata": {
        "id": "GJ-E9zAds8xn"
      }
    },
    {
      "cell_type": "code",
      "source": [
        "data[data['con_treat']=='control'].page.value_counts()"
      ],
      "metadata": {
        "colab": {
          "base_uri": "https://localhost:8080/"
        },
        "id": "vOseTU69tHJk",
        "outputId": "77a0ea2e-4892-4a54-baf5-d7aa794292ee"
      },
      "execution_count": 14,
      "outputs": [
        {
          "output_type": "execute_result",
          "data": {
            "text/plain": [
              "old_page    145274\n",
              "new_page      1928\n",
              "Name: page, dtype: int64"
            ]
          },
          "metadata": {},
          "execution_count": 14
        }
      ]
    },
    {
      "cell_type": "code",
      "source": [
        "data[data['con_treat']=='treatment'].page.value_counts()"
      ],
      "metadata": {
        "colab": {
          "base_uri": "https://localhost:8080/"
        },
        "id": "bfXDwF1RtZde",
        "outputId": "61a506aa-690d-47b7-aecd-5c0d9f968f84"
      },
      "execution_count": 15,
      "outputs": [
        {
          "output_type": "execute_result",
          "data": {
            "text/plain": [
              "new_page    145311\n",
              "old_page      1965\n",
              "Name: page, dtype: int64"
            ]
          },
          "metadata": {},
          "execution_count": 15
        }
      ]
    },
    {
      "cell_type": "markdown",
      "source": [
        "1 928 пользователей контрольной группы посетили новую страницу.<br>\n",
        "1 965 пользователей тестовой группы посетили старую страницу."
      ],
      "metadata": {
        "id": "YLE34GL5tpRY"
      }
    },
    {
      "cell_type": "markdown",
      "source": [
        "Визуализируем зависимость между группой и видом страницы:"
      ],
      "metadata": {
        "id": "SoyPzIIl_nx5"
      }
    },
    {
      "cell_type": "code",
      "source": [
        "plt.style.use('default')\n",
        "\n",
        "CrosstabResult=pd.crosstab(index=data['con_treat'],columns=data['page'])\n",
        "print(CrosstabResult)\n",
        "\n",
        "CrosstabResult.plot.bar(figsize=(7,5), rot = 0 )\n",
        "plt.grid(axis = 'y')"
      ],
      "metadata": {
        "colab": {
          "base_uri": "https://localhost:8080/",
          "height": 534
        },
        "id": "2v9VtrAl1CsR",
        "outputId": "36bb88b8-b3e9-4c7f-cbfb-a7706ba78a24"
      },
      "execution_count": 43,
      "outputs": [
        {
          "output_type": "stream",
          "name": "stdout",
          "text": [
            "page       new_page  old_page\n",
            "con_treat                    \n",
            "control        1928    145274\n",
            "treatment    145311      1965\n"
          ]
        },
        {
          "output_type": "display_data",
          "data": {
            "text/plain": [
              "<Figure size 700x500 with 1 Axes>"
            ],
            "image/png": "[encoded data removed]"
          },
          "metadata": {}
        }
      ]
    },
    {
      "cell_type": "markdown",
      "source": [
        "## Поработаем с данными кейса. Почистим данные.\n",
        "***Избавимся от некорретных строк.*** Уберём пользователей, которые попали не на \"свою\" страницу."
      ],
      "metadata": {
        "id": "lgYdYuiNd1rZ"
      }
    },
    {
      "cell_type": "code",
      "source": [
        "data_new = data[(data.con_treat=='control') & (data.page=='old_page') |\n",
        "                  (data.con_treat=='treatment') & (data.page=='new_page')]"
      ],
      "metadata": {
        "id": "5wwbO26We4zA"
      },
      "execution_count": 17,
      "outputs": []
    },
    {
      "cell_type": "code",
      "source": [
        "data_new.shape"
      ],
      "metadata": {
        "colab": {
          "base_uri": "https://localhost:8080/"
        },
        "id": "iuAbQYUHg1dB",
        "outputId": "514ff3c6-6fcd-45be-e5dc-53a46198e9d5"
      },
      "execution_count": 18,
      "outputs": [
        {
          "output_type": "execute_result",
          "data": {
            "text/plain": [
              "(290585, 5)"
            ]
          },
          "metadata": {},
          "execution_count": 18
        }
      ]
    },
    {
      "cell_type": "markdown",
      "source": [
        "Объём выборки уменьшился на 3 893 пользователей."
      ],
      "metadata": {
        "id": "tEPOzC_E3Nzg"
      }
    },
    {
      "cell_type": "markdown",
      "source": [
        "Визуализируем зависимость между группой и видом страницы:"
      ],
      "metadata": {
        "id": "iy1lnZSUADGL"
      }
    },
    {
      "cell_type": "code",
      "source": [
        "plt.style.use('default')\n",
        "\n",
        "CrosstabResult=pd.crosstab(index=data_new['con_treat'],columns=data_new['page'])\n",
        "print(CrosstabResult)\n",
        "\n",
        "CrosstabResult.plot.bar(figsize=(7,5), rot = 0 )\n",
        "plt.grid(axis = 'y')"
      ],
      "metadata": {
        "colab": {
          "base_uri": "https://localhost:8080/",
          "height": 534
        },
        "outputId": "5ebec75b-72fe-4d53-efdd-8d6bac63265c",
        "id": "JltXswezADGM"
      },
      "execution_count": 44,
      "outputs": [
        {
          "output_type": "stream",
          "name": "stdout",
          "text": [
            "page       new_page  old_page\n",
            "con_treat                    \n",
            "control           0    145274\n",
            "treatment    145310         0\n"
          ]
        },
        {
          "output_type": "display_data",
          "data": {
            "text/plain": [
              "<Figure size 700x500 with 1 Axes>"
            ],
            "image/png": "[encoded data removed]"
          },
          "metadata": {}
        }
      ]
    },
    {
      "cell_type": "markdown",
      "source": [
        "Теперь у нас правильное распделение пользователей групп по \"своим\" страницам."
      ],
      "metadata": {
        "id": "0zybOmzdALrY"
      }
    },
    {
      "cell_type": "code",
      "source": [
        "con_treat_bool = data_new.apply(lambda x: 0 if x.con_treat=='control' else 1, axis=1)\n",
        "page_bool = data_new.apply(lambda x: 0 if x.page=='old_page' else 1, axis=1)\n",
        "\n",
        "stat, p = pearsonr(con_treat_bool, page_bool)\n",
        "\n",
        "print('stat=%.3f, p=%.3f' % (stat, p))\n",
        "if round(stat, 3) == 1.0:\n",
        "    print('Группы идеально коррелируют')\n",
        "else:\n",
        "    print('Группы не идеально коррелируют')"
      ],
      "metadata": {
        "colab": {
          "base_uri": "https://localhost:8080/"
        },
        "id": "wLZF6IMdg9fG",
        "outputId": "320fd589-c6d5-4abb-cc7f-55ae5eec142d"
      },
      "execution_count": 20,
      "outputs": [
        {
          "output_type": "stream",
          "name": "stdout",
          "text": [
            "stat=1.000, p=0.000\n",
            "Группы идеально коррелируют\n"
          ]
        }
      ]
    },
    {
      "cell_type": "markdown",
      "source": [
        "Посчитаем, сколько типов групп встречается у каждого пользователя.<br>\n",
        "И есть ли такие, которые попали и в контрольную, и в тестовую группу."
      ],
      "metadata": {
        "id": "dqXtPSPWrveX"
      }
    },
    {
      "cell_type": "code",
      "source": [
        "data_new.groupby('id', as_index=False).agg({'con_treat': pd.Series.nunique}).query('con_treat > 1')"
      ],
      "metadata": {
        "colab": {
          "base_uri": "https://localhost:8080/",
          "height": 49
        },
        "id": "7pmJI_yiotau",
        "outputId": "665f3070-61ef-4e77-beb8-69c5a64f533c"
      },
      "execution_count": 21,
      "outputs": [
        {
          "output_type": "execute_result",
          "data": {
            "text/plain": [
              "Empty DataFrame\n",
              "Columns: [id, con_treat]\n",
              "Index: []"
            ],
            "text/html": [
              "\n",
              "  <div id=\"df-831652ad-fd07-4091-9061-02e833e36ca9\">\n",
              "    <div class=\"colab-df-container\">\n",
              "      <div>\n",
              "<style scoped>\n",
              "    .dataframe tbody tr th:only-of-type {\n",
              "        vertical-align: middle;\n",
              "    }\n",
              "\n",
              "    .dataframe tbody tr th {\n",
              "        vertical-align: top;\n",
              "    }\n",
              "\n",
              "    .dataframe thead th {\n",
              "        text-align: right;\n",
              "    }\n",
              "</style>\n",
              "<table border=\"1\" class=\"dataframe\">\n",
              "  <thead>\n",
              "    <tr style=\"text-align: right;\">\n",
              "      <th></th>\n",
              "      <th>id</th>\n",
              "      <th>con_treat</th>\n",
              "    </tr>\n",
              "  </thead>\n",
              "  <tbody>\n",
              "  </tbody>\n",
              "</table>\n",
              "</div>\n",
              "      <button class=\"colab-df-convert\" onclick=\"convertToInteractive('df-831652ad-fd07-4091-9061-02e833e36ca9')\"\n",
              "              title=\"Convert this dataframe to an interactive table.\"\n",
              "              style=\"display:none;\">\n",
              "        \n",
              "  <svg xmlns=\"http://www.w3.org/2000/svg\" height=\"24px\"viewBox=\"0 0 24 24\"\n",
              "       width=\"24px\">\n",
              "    <path d=\"M0 0h24v24H0V0z\" fill=\"none\"/>\n",
              "    <path d=\"M18.56 5.44l.94 2.06.94-2.06 2.06-.94-2.06-.94-.94-2.06-.94 2.06-2.06.94zm-11 1L8.5 8.5l.94-2.06 2.06-.94-2.06-.94L8.5 2.5l-.94 2.06-2.06.94zm10 10l.94 2.06.94-2.06 2.06-.94-2.06-.94-.94-2.06-.94 2.06-2.06.94z\"/><path d=\"M17.41 7.96l-1.37-1.37c-.4-.4-.92-.59-1.43-.59-.52 0-1.04.2-1.43.59L10.3 9.45l-7.72 7.72c-.78.78-.78 2.05 0 2.83L4 21.41c.39.39.9.59 1.41.59.51 0 1.02-.2 1.41-.59l7.78-7.78 2.81-2.81c.8-.78.8-2.07 0-2.86zM5.41 20L4 18.59l7.72-7.72 1.47 1.35L5.41 20z\"/>\n",
              "  </svg>\n",
              "      </button>\n",
              "      \n",
              "  <style>\n",
              "    .colab-df-container {\n",
              "      display:flex;\n",
              "      flex-wrap:wrap;\n",
              "      gap: 12px;\n",
              "    }\n",
              "\n",
              "    .colab-df-convert {\n",
              "      background-color: #E8F0FE;\n",
              "      border: none;\n",
              "      border-radius: 50%;\n",
              "      cursor: pointer;\n",
              "      display: none;\n",
              "      fill: #1967D2;\n",
              "      height: 32px;\n",
              "      padding: 0 0 0 0;\n",
              "      width: 32px;\n",
              "    }\n",
              "\n",
              "    .colab-df-convert:hover {\n",
              "      background-color: #E2EBFA;\n",
              "      box-shadow: 0px 1px 2px rgba(60, 64, 67, 0.3), 0px 1px 3px 1px rgba(60, 64, 67, 0.15);\n",
              "      fill: #174EA6;\n",
              "    }\n",
              "\n",
              "    [theme=dark] .colab-df-convert {\n",
              "      background-color: #3B4455;\n",
              "      fill: #D2E3FC;\n",
              "    }\n",
              "\n",
              "    [theme=dark] .colab-df-convert:hover {\n",
              "      background-color: #434B5C;\n",
              "      box-shadow: 0px 1px 3px 1px rgba(0, 0, 0, 0.15);\n",
              "      filter: drop-shadow(0px 1px 2px rgba(0, 0, 0, 0.3));\n",
              "      fill: #FFFFFF;\n",
              "    }\n",
              "  </style>\n",
              "\n",
              "      <script>\n",
              "        const buttonEl =\n",
              "          document.querySelector('#df-831652ad-fd07-4091-9061-02e833e36ca9 button.colab-df-convert');\n",
              "        buttonEl.style.display =\n",
              "          google.colab.kernel.accessAllowed ? 'block' : 'none';\n",
              "\n",
              "        async function convertToInteractive(key) {\n",
              "          const element = document.querySelector('#df-831652ad-fd07-4091-9061-02e833e36ca9');\n",
              "          const dataTable =\n",
              "            await google.colab.kernel.invokeFunction('convertToInteractive',\n",
              "                                                     [key], {});\n",
              "          if (!dataTable) return;\n",
              "\n",
              "          const docLinkHtml = 'Like what you see? Visit the ' +\n",
              "            '<a target=\"_blank\" href=https://colab.research.google.com/notebooks/data_table.ipynb>data table notebook</a>'\n",
              "            + ' to learn more about interactive tables.';\n",
              "          element.innerHTML = '';\n",
              "          dataTable['output_type'] = 'display_data';\n",
              "          await google.colab.output.renderOutput(dataTable, element);\n",
              "          const docLink = document.createElement('div');\n",
              "          docLink.innerHTML = docLinkHtml;\n",
              "          element.appendChild(docLink);\n",
              "        }\n",
              "      </script>\n",
              "    </div>\n",
              "  </div>\n",
              "  "
            ]
          },
          "metadata": {},
          "execution_count": 21
        }
      ]
    },
    {
      "cell_type": "markdown",
      "source": [
        "Пользователи, которые попали в обе группы одновременно не вcтретились.<br>\n",
        "Посчитаем, есть ли такие пользователи, которые попали больше одного раза."
      ],
      "metadata": {
        "id": "3Rrz6v7Votkf"
      }
    },
    {
      "cell_type": "code",
      "source": [
        "data_new.shape[0] - data_new.id.nunique()"
      ],
      "metadata": {
        "colab": {
          "base_uri": "https://localhost:8080/"
        },
        "id": "2gF-LUJSrkFI",
        "outputId": "247dd501-63a1-456b-afe9-55c54ab2bfdc"
      },
      "execution_count": 22,
      "outputs": [
        {
          "output_type": "execute_result",
          "data": {
            "text/plain": [
              "1"
            ]
          },
          "metadata": {},
          "execution_count": 22
        }
      ]
    },
    {
      "cell_type": "markdown",
      "source": [
        "Один пользователь встречается несколько раз. Посмотрим на него."
      ],
      "metadata": {
        "id": "X_N1RAZitduc"
      }
    },
    {
      "cell_type": "code",
      "source": [
        "data_new[data_new.duplicated(\"id\") == True]"
      ],
      "metadata": {
        "colab": {
          "base_uri": "https://localhost:8080/",
          "height": 81
        },
        "id": "HKBcCVsusuhO",
        "outputId": "dc1e86b1-e4b2-4c43-891b-1223f9cf5293"
      },
      "execution_count": 23,
      "outputs": [
        {
          "output_type": "execute_result",
          "data": {
            "text/plain": [
              "          id     time  con_treat      page  converted\n",
              "2893  773192  55:59.6  treatment  new_page          0"
            ],
            "text/html": [
              "\n",
              "  <div id=\"df-2533f0fb-dd52-4b31-a33e-44facccd2fde\">\n",
              "    <div class=\"colab-df-container\">\n",
              "      <div>\n",
              "<style scoped>\n",
              "    .dataframe tbody tr th:only-of-type {\n",
              "        vertical-align: middle;\n",
              "    }\n",
              "\n",
              "    .dataframe tbody tr th {\n",
              "        vertical-align: top;\n",
              "    }\n",
              "\n",
              "    .dataframe thead th {\n",
              "        text-align: right;\n",
              "    }\n",
              "</style>\n",
              "<table border=\"1\" class=\"dataframe\">\n",
              "  <thead>\n",
              "    <tr style=\"text-align: right;\">\n",
              "      <th></th>\n",
              "      <th>id</th>\n",
              "      <th>time</th>\n",
              "      <th>con_treat</th>\n",
              "      <th>page</th>\n",
              "      <th>converted</th>\n",
              "    </tr>\n",
              "  </thead>\n",
              "  <tbody>\n",
              "    <tr>\n",
              "      <th>2893</th>\n",
              "      <td>773192</td>\n",
              "      <td>55:59.6</td>\n",
              "      <td>treatment</td>\n",
              "      <td>new_page</td>\n",
              "      <td>0</td>\n",
              "    </tr>\n",
              "  </tbody>\n",
              "</table>\n",
              "</div>\n",
              "      <button class=\"colab-df-convert\" onclick=\"convertToInteractive('df-2533f0fb-dd52-4b31-a33e-44facccd2fde')\"\n",
              "              title=\"Convert this dataframe to an interactive table.\"\n",
              "              style=\"display:none;\">\n",
              "        \n",
              "  <svg xmlns=\"http://www.w3.org/2000/svg\" height=\"24px\"viewBox=\"0 0 24 24\"\n",
              "       width=\"24px\">\n",
              "    <path d=\"M0 0h24v24H0V0z\" fill=\"none\"/>\n",
              "    <path d=\"M18.56 5.44l.94 2.06.94-2.06 2.06-.94-2.06-.94-.94-2.06-.94 2.06-2.06.94zm-11 1L8.5 8.5l.94-2.06 2.06-.94-2.06-.94L8.5 2.5l-.94 2.06-2.06.94zm10 10l.94 2.06.94-2.06 2.06-.94-2.06-.94-.94-2.06-.94 2.06-2.06.94z\"/><path d=\"M17.41 7.96l-1.37-1.37c-.4-.4-.92-.59-1.43-.59-.52 0-1.04.2-1.43.59L10.3 9.45l-7.72 7.72c-.78.78-.78 2.05 0 2.83L4 21.41c.39.39.9.59 1.41.59.51 0 1.02-.2 1.41-.59l7.78-7.78 2.81-2.81c.8-.78.8-2.07 0-2.86zM5.41 20L4 18.59l7.72-7.72 1.47 1.35L5.41 20z\"/>\n",
              "  </svg>\n",
              "      </button>\n",
              "      \n",
              "  <style>\n",
              "    .colab-df-container {\n",
              "      display:flex;\n",
              "      flex-wrap:wrap;\n",
              "      gap: 12px;\n",
              "    }\n",
              "\n",
              "    .colab-df-convert {\n",
              "      background-color: #E8F0FE;\n",
              "      border: none;\n",
              "      border-radius: 50%;\n",
              "      cursor: pointer;\n",
              "      display: none;\n",
              "      fill: #1967D2;\n",
              "      height: 32px;\n",
              "      padding: 0 0 0 0;\n",
              "      width: 32px;\n",
              "    }\n",
              "\n",
              "    .colab-df-convert:hover {\n",
              "      background-color: #E2EBFA;\n",
              "      box-shadow: 0px 1px 2px rgba(60, 64, 67, 0.3), 0px 1px 3px 1px rgba(60, 64, 67, 0.15);\n",
              "      fill: #174EA6;\n",
              "    }\n",
              "\n",
              "    [theme=dark] .colab-df-convert {\n",
              "      background-color: #3B4455;\n",
              "      fill: #D2E3FC;\n",
              "    }\n",
              "\n",
              "    [theme=dark] .colab-df-convert:hover {\n",
              "      background-color: #434B5C;\n",
              "      box-shadow: 0px 1px 3px 1px rgba(0, 0, 0, 0.15);\n",
              "      filter: drop-shadow(0px 1px 2px rgba(0, 0, 0, 0.3));\n",
              "      fill: #FFFFFF;\n",
              "    }\n",
              "  </style>\n",
              "\n",
              "      <script>\n",
              "        const buttonEl =\n",
              "          document.querySelector('#df-2533f0fb-dd52-4b31-a33e-44facccd2fde button.colab-df-convert');\n",
              "        buttonEl.style.display =\n",
              "          google.colab.kernel.accessAllowed ? 'block' : 'none';\n",
              "\n",
              "        async function convertToInteractive(key) {\n",
              "          const element = document.querySelector('#df-2533f0fb-dd52-4b31-a33e-44facccd2fde');\n",
              "          const dataTable =\n",
              "            await google.colab.kernel.invokeFunction('convertToInteractive',\n",
              "                                                     [key], {});\n",
              "          if (!dataTable) return;\n",
              "\n",
              "          const docLinkHtml = 'Like what you see? Visit the ' +\n",
              "            '<a target=\"_blank\" href=https://colab.research.google.com/notebooks/data_table.ipynb>data table notebook</a>'\n",
              "            + ' to learn more about interactive tables.';\n",
              "          element.innerHTML = '';\n",
              "          dataTable['output_type'] = 'display_data';\n",
              "          await google.colab.output.renderOutput(dataTable, element);\n",
              "          const docLink = document.createElement('div');\n",
              "          docLink.innerHTML = docLinkHtml;\n",
              "          element.appendChild(docLink);\n",
              "        }\n",
              "      </script>\n",
              "    </div>\n",
              "  </div>\n",
              "  "
            ]
          },
          "metadata": {},
          "execution_count": 23
        }
      ]
    },
    {
      "cell_type": "code",
      "source": [
        "data_new[data_new.id == 773192]"
      ],
      "metadata": {
        "colab": {
          "base_uri": "https://localhost:8080/",
          "height": 112
        },
        "id": "9QRySk9ytJga",
        "outputId": "19fcb5db-1a8b-4a82-e3c5-794b26b85e46"
      },
      "execution_count": 24,
      "outputs": [
        {
          "output_type": "execute_result",
          "data": {
            "text/plain": [
              "          id     time  con_treat      page  converted\n",
              "1899  773192  37:58.8  treatment  new_page          0\n",
              "2893  773192  55:59.6  treatment  new_page          0"
            ],
            "text/html": [
              "\n",
              "  <div id=\"df-651025ca-0469-40ba-b3aa-c8067fe158dc\">\n",
              "    <div class=\"colab-df-container\">\n",
              "      <div>\n",
              "<style scoped>\n",
              "    .dataframe tbody tr th:only-of-type {\n",
              "        vertical-align: middle;\n",
              "    }\n",
              "\n",
              "    .dataframe tbody tr th {\n",
              "        vertical-align: top;\n",
              "    }\n",
              "\n",
              "    .dataframe thead th {\n",
              "        text-align: right;\n",
              "    }\n",
              "</style>\n",
              "<table border=\"1\" class=\"dataframe\">\n",
              "  <thead>\n",
              "    <tr style=\"text-align: right;\">\n",
              "      <th></th>\n",
              "      <th>id</th>\n",
              "      <th>time</th>\n",
              "      <th>con_treat</th>\n",
              "      <th>page</th>\n",
              "      <th>converted</th>\n",
              "    </tr>\n",
              "  </thead>\n",
              "  <tbody>\n",
              "    <tr>\n",
              "      <th>1899</th>\n",
              "      <td>773192</td>\n",
              "      <td>37:58.8</td>\n",
              "      <td>treatment</td>\n",
              "      <td>new_page</td>\n",
              "      <td>0</td>\n",
              "    </tr>\n",
              "    <tr>\n",
              "      <th>2893</th>\n",
              "      <td>773192</td>\n",
              "      <td>55:59.6</td>\n",
              "      <td>treatment</td>\n",
              "      <td>new_page</td>\n",
              "      <td>0</td>\n",
              "    </tr>\n",
              "  </tbody>\n",
              "</table>\n",
              "</div>\n",
              "      <button class=\"colab-df-convert\" onclick=\"convertToInteractive('df-651025ca-0469-40ba-b3aa-c8067fe158dc')\"\n",
              "              title=\"Convert this dataframe to an interactive table.\"\n",
              "              style=\"display:none;\">\n",
              "        \n",
              "  <svg xmlns=\"http://www.w3.org/2000/svg\" height=\"24px\"viewBox=\"0 0 24 24\"\n",
              "       width=\"24px\">\n",
              "    <path d=\"M0 0h24v24H0V0z\" fill=\"none\"/>\n",
              "    <path d=\"M18.56 5.44l.94 2.06.94-2.06 2.06-.94-2.06-.94-.94-2.06-.94 2.06-2.06.94zm-11 1L8.5 8.5l.94-2.06 2.06-.94-2.06-.94L8.5 2.5l-.94 2.06-2.06.94zm10 10l.94 2.06.94-2.06 2.06-.94-2.06-.94-.94-2.06-.94 2.06-2.06.94z\"/><path d=\"M17.41 7.96l-1.37-1.37c-.4-.4-.92-.59-1.43-.59-.52 0-1.04.2-1.43.59L10.3 9.45l-7.72 7.72c-.78.78-.78 2.05 0 2.83L4 21.41c.39.39.9.59 1.41.59.51 0 1.02-.2 1.41-.59l7.78-7.78 2.81-2.81c.8-.78.8-2.07 0-2.86zM5.41 20L4 18.59l7.72-7.72 1.47 1.35L5.41 20z\"/>\n",
              "  </svg>\n",
              "      </button>\n",
              "      \n",
              "  <style>\n",
              "    .colab-df-container {\n",
              "      display:flex;\n",
              "      flex-wrap:wrap;\n",
              "      gap: 12px;\n",
              "    }\n",
              "\n",
              "    .colab-df-convert {\n",
              "      background-color: #E8F0FE;\n",
              "      border: none;\n",
              "      border-radius: 50%;\n",
              "      cursor: pointer;\n",
              "      display: none;\n",
              "      fill: #1967D2;\n",
              "      height: 32px;\n",
              "      padding: 0 0 0 0;\n",
              "      width: 32px;\n",
              "    }\n",
              "\n",
              "    .colab-df-convert:hover {\n",
              "      background-color: #E2EBFA;\n",
              "      box-shadow: 0px 1px 2px rgba(60, 64, 67, 0.3), 0px 1px 3px 1px rgba(60, 64, 67, 0.15);\n",
              "      fill: #174EA6;\n",
              "    }\n",
              "\n",
              "    [theme=dark] .colab-df-convert {\n",
              "      background-color: #3B4455;\n",
              "      fill: #D2E3FC;\n",
              "    }\n",
              "\n",
              "    [theme=dark] .colab-df-convert:hover {\n",
              "      background-color: #434B5C;\n",
              "      box-shadow: 0px 1px 3px 1px rgba(0, 0, 0, 0.15);\n",
              "      filter: drop-shadow(0px 1px 2px rgba(0, 0, 0, 0.3));\n",
              "      fill: #FFFFFF;\n",
              "    }\n",
              "  </style>\n",
              "\n",
              "      <script>\n",
              "        const buttonEl =\n",
              "          document.querySelector('#df-651025ca-0469-40ba-b3aa-c8067fe158dc button.colab-df-convert');\n",
              "        buttonEl.style.display =\n",
              "          google.colab.kernel.accessAllowed ? 'block' : 'none';\n",
              "\n",
              "        async function convertToInteractive(key) {\n",
              "          const element = document.querySelector('#df-651025ca-0469-40ba-b3aa-c8067fe158dc');\n",
              "          const dataTable =\n",
              "            await google.colab.kernel.invokeFunction('convertToInteractive',\n",
              "                                                     [key], {});\n",
              "          if (!dataTable) return;\n",
              "\n",
              "          const docLinkHtml = 'Like what you see? Visit the ' +\n",
              "            '<a target=\"_blank\" href=https://colab.research.google.com/notebooks/data_table.ipynb>data table notebook</a>'\n",
              "            + ' to learn more about interactive tables.';\n",
              "          element.innerHTML = '';\n",
              "          dataTable['output_type'] = 'display_data';\n",
              "          await google.colab.output.renderOutput(dataTable, element);\n",
              "          const docLink = document.createElement('div');\n",
              "          docLink.innerHTML = docLinkHtml;\n",
              "          element.appendChild(docLink);\n",
              "        }\n",
              "      </script>\n",
              "    </div>\n",
              "  </div>\n",
              "  "
            ]
          },
          "metadata": {},
          "execution_count": 24
        }
      ]
    },
    {
      "cell_type": "markdown",
      "source": [
        "***Избавимся от некорретной строки.*** Уберём одну строку, где пользователь попал второй раз в выборку."
      ],
      "metadata": {
        "id": "sfotR3rTuduy"
      }
    },
    {
      "cell_type": "code",
      "source": [
        "data_new = data_new.drop_duplicates(\"id\")"
      ],
      "metadata": {
        "id": "3LHnqALqur15"
      },
      "execution_count": 25,
      "outputs": []
    },
    {
      "cell_type": "code",
      "source": [
        "data_new.shape[0] - data_new.id.nunique()"
      ],
      "metadata": {
        "colab": {
          "base_uri": "https://localhost:8080/"
        },
        "id": "rB57U49du7rQ",
        "outputId": "10bb1f1e-d3da-4a95-cee1-93feae58c4b3"
      },
      "execution_count": 26,
      "outputs": [
        {
          "output_type": "execute_result",
          "data": {
            "text/plain": [
              "0"
            ]
          },
          "metadata": {},
          "execution_count": 26
        }
      ]
    },
    {
      "cell_type": "code",
      "source": [
        "data_new.shape"
      ],
      "metadata": {
        "colab": {
          "base_uri": "https://localhost:8080/"
        },
        "id": "0d1xKHWEu_Z5",
        "outputId": "70354e40-2092-4930-cc87-e45ed1fe3904"
      },
      "execution_count": 27,
      "outputs": [
        {
          "output_type": "execute_result",
          "data": {
            "text/plain": [
              "(290584, 5)"
            ]
          },
          "metadata": {},
          "execution_count": 27
        }
      ]
    },
    {
      "cell_type": "markdown",
      "source": [
        "#Применение статистических критериев"
      ],
      "metadata": {
        "id": "sTDYCs3OxRn8"
      }
    },
    {
      "cell_type": "markdown",
      "source": [
        "##Метрика конверсия на юзера"
      ],
      "metadata": {
        "id": "_EruvT7Mrw0U"
      }
    },
    {
      "cell_type": "markdown",
      "source": [
        "Чтобы решить, является ли новая страница более успешной, рассмотрим метрику конверсия на пользователя. Рассчитаем коээффициент упешности конверсии.\n",
        "\n",
        "Для измерения этого коэффициента успешности можно использовать коэффициент конверсии. Используем двоичную переменную:\n",
        "* 0: Пользователь не оплатил продукт\n",
        "* 1: Пользователь платит за продукт<br>\n",
        "\n",
        "Далее вычислим среднее значение каждой группы (контроль и тест), чтобы получить скорость преобразования каждой страницы."
      ],
      "metadata": {
        "id": "IjwJ0sJ7DXLw"
      }
    },
    {
      "cell_type": "markdown",
      "source": [
        "Посмотрим на группы по-отдельности:"
      ],
      "metadata": {
        "id": "QKQUi9a3w-bO"
      }
    },
    {
      "cell_type": "code",
      "source": [
        "data_new[data_new['con_treat']=='control'].describe()"
      ],
      "metadata": {
        "colab": {
          "base_uri": "https://localhost:8080/",
          "height": 300
        },
        "id": "XXmqrLLGvM2Q",
        "outputId": "f3697370-d2c6-4cfc-9ba0-0e08b377b1f6"
      },
      "execution_count": 28,
      "outputs": [
        {
          "output_type": "execute_result",
          "data": {
            "text/plain": [
              "                  id      converted\n",
              "count  145274.000000  145274.000000\n",
              "mean   788164.072594       0.120386\n",
              "std     91287.914601       0.325414\n",
              "min    630002.000000       0.000000\n",
              "25%    709279.500000       0.000000\n",
              "50%    788128.500000       0.000000\n",
              "75%    867208.250000       0.000000\n",
              "max    945998.000000       1.000000"
            ],
            "text/html": [
              "\n",
              "  <div id=\"df-8101b09a-7df2-4d6d-870c-a7e8fad1ebe0\">\n",
              "    <div class=\"colab-df-container\">\n",
              "      <div>\n",
              "<style scoped>\n",
              "    .dataframe tbody tr th:only-of-type {\n",
              "        vertical-align: middle;\n",
              "    }\n",
              "\n",
              "    .dataframe tbody tr th {\n",
              "        vertical-align: top;\n",
              "    }\n",
              "\n",
              "    .dataframe thead th {\n",
              "        text-align: right;\n",
              "    }\n",
              "</style>\n",
              "<table border=\"1\" class=\"dataframe\">\n",
              "  <thead>\n",
              "    <tr style=\"text-align: right;\">\n",
              "      <th></th>\n",
              "      <th>id</th>\n",
              "      <th>converted</th>\n",
              "    </tr>\n",
              "  </thead>\n",
              "  <tbody>\n",
              "    <tr>\n",
              "      <th>count</th>\n",
              "      <td>145274.000000</td>\n",
              "      <td>145274.000000</td>\n",
              "    </tr>\n",
              "    <tr>\n",
              "      <th>mean</th>\n",
              "      <td>788164.072594</td>\n",
              "      <td>0.120386</td>\n",
              "    </tr>\n",
              "    <tr>\n",
              "      <th>std</th>\n",
              "      <td>91287.914601</td>\n",
              "      <td>0.325414</td>\n",
              "    </tr>\n",
              "    <tr>\n",
              "      <th>min</th>\n",
              "      <td>630002.000000</td>\n",
              "      <td>0.000000</td>\n",
              "    </tr>\n",
              "    <tr>\n",
              "      <th>25%</th>\n",
              "      <td>709279.500000</td>\n",
              "      <td>0.000000</td>\n",
              "    </tr>\n",
              "    <tr>\n",
              "      <th>50%</th>\n",
              "      <td>788128.500000</td>\n",
              "      <td>0.000000</td>\n",
              "    </tr>\n",
              "    <tr>\n",
              "      <th>75%</th>\n",
              "      <td>867208.250000</td>\n",
              "      <td>0.000000</td>\n",
              "    </tr>\n",
              "    <tr>\n",
              "      <th>max</th>\n",
              "      <td>945998.000000</td>\n",
              "      <td>1.000000</td>\n",
              "    </tr>\n",
              "  </tbody>\n",
              "</table>\n",
              "</div>\n",
              "      <button class=\"colab-df-convert\" onclick=\"convertToInteractive('df-8101b09a-7df2-4d6d-870c-a7e8fad1ebe0')\"\n",
              "              title=\"Convert this dataframe to an interactive table.\"\n",
              "              style=\"display:none;\">\n",
              "        \n",
              "  <svg xmlns=\"http://www.w3.org/2000/svg\" height=\"24px\"viewBox=\"0 0 24 24\"\n",
              "       width=\"24px\">\n",
              "    <path d=\"M0 0h24v24H0V0z\" fill=\"none\"/>\n",
              "    <path d=\"M18.56 5.44l.94 2.06.94-2.06 2.06-.94-2.06-.94-.94-2.06-.94 2.06-2.06.94zm-11 1L8.5 8.5l.94-2.06 2.06-.94-2.06-.94L8.5 2.5l-.94 2.06-2.06.94zm10 10l.94 2.06.94-2.06 2.06-.94-2.06-.94-.94-2.06-.94 2.06-2.06.94z\"/><path d=\"M17.41 7.96l-1.37-1.37c-.4-.4-.92-.59-1.43-.59-.52 0-1.04.2-1.43.59L10.3 9.45l-7.72 7.72c-.78.78-.78 2.05 0 2.83L4 21.41c.39.39.9.59 1.41.59.51 0 1.02-.2 1.41-.59l7.78-7.78 2.81-2.81c.8-.78.8-2.07 0-2.86zM5.41 20L4 18.59l7.72-7.72 1.47 1.35L5.41 20z\"/>\n",
              "  </svg>\n",
              "      </button>\n",
              "      \n",
              "  <style>\n",
              "    .colab-df-container {\n",
              "      display:flex;\n",
              "      flex-wrap:wrap;\n",
              "      gap: 12px;\n",
              "    }\n",
              "\n",
              "    .colab-df-convert {\n",
              "      background-color: #E8F0FE;\n",
              "      border: none;\n",
              "      border-radius: 50%;\n",
              "      cursor: pointer;\n",
              "      display: none;\n",
              "      fill: #1967D2;\n",
              "      height: 32px;\n",
              "      padding: 0 0 0 0;\n",
              "      width: 32px;\n",
              "    }\n",
              "\n",
              "    .colab-df-convert:hover {\n",
              "      background-color: #E2EBFA;\n",
              "      box-shadow: 0px 1px 2px rgba(60, 64, 67, 0.3), 0px 1px 3px 1px rgba(60, 64, 67, 0.15);\n",
              "      fill: #174EA6;\n",
              "    }\n",
              "\n",
              "    [theme=dark] .colab-df-convert {\n",
              "      background-color: #3B4455;\n",
              "      fill: #D2E3FC;\n",
              "    }\n",
              "\n",
              "    [theme=dark] .colab-df-convert:hover {\n",
              "      background-color: #434B5C;\n",
              "      box-shadow: 0px 1px 3px 1px rgba(0, 0, 0, 0.15);\n",
              "      filter: drop-shadow(0px 1px 2px rgba(0, 0, 0, 0.3));\n",
              "      fill: #FFFFFF;\n",
              "    }\n",
              "  </style>\n",
              "\n",
              "      <script>\n",
              "        const buttonEl =\n",
              "          document.querySelector('#df-8101b09a-7df2-4d6d-870c-a7e8fad1ebe0 button.colab-df-convert');\n",
              "        buttonEl.style.display =\n",
              "          google.colab.kernel.accessAllowed ? 'block' : 'none';\n",
              "\n",
              "        async function convertToInteractive(key) {\n",
              "          const element = document.querySelector('#df-8101b09a-7df2-4d6d-870c-a7e8fad1ebe0');\n",
              "          const dataTable =\n",
              "            await google.colab.kernel.invokeFunction('convertToInteractive',\n",
              "                                                     [key], {});\n",
              "          if (!dataTable) return;\n",
              "\n",
              "          const docLinkHtml = 'Like what you see? Visit the ' +\n",
              "            '<a target=\"_blank\" href=https://colab.research.google.com/notebooks/data_table.ipynb>data table notebook</a>'\n",
              "            + ' to learn more about interactive tables.';\n",
              "          element.innerHTML = '';\n",
              "          dataTable['output_type'] = 'display_data';\n",
              "          await google.colab.output.renderOutput(dataTable, element);\n",
              "          const docLink = document.createElement('div');\n",
              "          docLink.innerHTML = docLinkHtml;\n",
              "          element.appendChild(docLink);\n",
              "        }\n",
              "      </script>\n",
              "    </div>\n",
              "  </div>\n",
              "  "
            ]
          },
          "metadata": {},
          "execution_count": 28
        }
      ]
    },
    {
      "cell_type": "code",
      "source": [
        "data_new[data_new['con_treat']=='treatment'].describe()"
      ],
      "metadata": {
        "colab": {
          "base_uri": "https://localhost:8080/",
          "height": 300
        },
        "id": "jxupRRjSvM5M",
        "outputId": "96910548-d7f2-4008-af91-955012d64afa"
      },
      "execution_count": 29,
      "outputs": [
        {
          "output_type": "execute_result",
          "data": {
            "text/plain": [
              "                  id      converted\n",
              "count  145310.000000  145310.000000\n",
              "mean   787845.719290       0.118808\n",
              "std     91161.564429       0.323564\n",
              "min    630000.000000       0.000000\n",
              "25%    708745.750000       0.000000\n",
              "50%    787876.000000       0.000000\n",
              "75%    866718.750000       0.000000\n",
              "max    945999.000000       1.000000"
            ],
            "text/html": [
              "\n",
              "  <div id=\"df-74584c6d-b31b-4856-90ef-bc786b8878ab\">\n",
              "    <div class=\"colab-df-container\">\n",
              "      <div>\n",
              "<style scoped>\n",
              "    .dataframe tbody tr th:only-of-type {\n",
              "        vertical-align: middle;\n",
              "    }\n",
              "\n",
              "    .dataframe tbody tr th {\n",
              "        vertical-align: top;\n",
              "    }\n",
              "\n",
              "    .dataframe thead th {\n",
              "        text-align: right;\n",
              "    }\n",
              "</style>\n",
              "<table border=\"1\" class=\"dataframe\">\n",
              "  <thead>\n",
              "    <tr style=\"text-align: right;\">\n",
              "      <th></th>\n",
              "      <th>id</th>\n",
              "      <th>converted</th>\n",
              "    </tr>\n",
              "  </thead>\n",
              "  <tbody>\n",
              "    <tr>\n",
              "      <th>count</th>\n",
              "      <td>145310.000000</td>\n",
              "      <td>145310.000000</td>\n",
              "    </tr>\n",
              "    <tr>\n",
              "      <th>mean</th>\n",
              "      <td>787845.719290</td>\n",
              "      <td>0.118808</td>\n",
              "    </tr>\n",
              "    <tr>\n",
              "      <th>std</th>\n",
              "      <td>91161.564429</td>\n",
              "      <td>0.323564</td>\n",
              "    </tr>\n",
              "    <tr>\n",
              "      <th>min</th>\n",
              "      <td>630000.000000</td>\n",
              "      <td>0.000000</td>\n",
              "    </tr>\n",
              "    <tr>\n",
              "      <th>25%</th>\n",
              "      <td>708745.750000</td>\n",
              "      <td>0.000000</td>\n",
              "    </tr>\n",
              "    <tr>\n",
              "      <th>50%</th>\n",
              "      <td>787876.000000</td>\n",
              "      <td>0.000000</td>\n",
              "    </tr>\n",
              "    <tr>\n",
              "      <th>75%</th>\n",
              "      <td>866718.750000</td>\n",
              "      <td>0.000000</td>\n",
              "    </tr>\n",
              "    <tr>\n",
              "      <th>max</th>\n",
              "      <td>945999.000000</td>\n",
              "      <td>1.000000</td>\n",
              "    </tr>\n",
              "  </tbody>\n",
              "</table>\n",
              "</div>\n",
              "      <button class=\"colab-df-convert\" onclick=\"convertToInteractive('df-74584c6d-b31b-4856-90ef-bc786b8878ab')\"\n",
              "              title=\"Convert this dataframe to an interactive table.\"\n",
              "              style=\"display:none;\">\n",
              "        \n",
              "  <svg xmlns=\"http://www.w3.org/2000/svg\" height=\"24px\"viewBox=\"0 0 24 24\"\n",
              "       width=\"24px\">\n",
              "    <path d=\"M0 0h24v24H0V0z\" fill=\"none\"/>\n",
              "    <path d=\"M18.56 5.44l.94 2.06.94-2.06 2.06-.94-2.06-.94-.94-2.06-.94 2.06-2.06.94zm-11 1L8.5 8.5l.94-2.06 2.06-.94-2.06-.94L8.5 2.5l-.94 2.06-2.06.94zm10 10l.94 2.06.94-2.06 2.06-.94-2.06-.94-.94-2.06-.94 2.06-2.06.94z\"/><path d=\"M17.41 7.96l-1.37-1.37c-.4-.4-.92-.59-1.43-.59-.52 0-1.04.2-1.43.59L10.3 9.45l-7.72 7.72c-.78.78-.78 2.05 0 2.83L4 21.41c.39.39.9.59 1.41.59.51 0 1.02-.2 1.41-.59l7.78-7.78 2.81-2.81c.8-.78.8-2.07 0-2.86zM5.41 20L4 18.59l7.72-7.72 1.47 1.35L5.41 20z\"/>\n",
              "  </svg>\n",
              "      </button>\n",
              "      \n",
              "  <style>\n",
              "    .colab-df-container {\n",
              "      display:flex;\n",
              "      flex-wrap:wrap;\n",
              "      gap: 12px;\n",
              "    }\n",
              "\n",
              "    .colab-df-convert {\n",
              "      background-color: #E8F0FE;\n",
              "      border: none;\n",
              "      border-radius: 50%;\n",
              "      cursor: pointer;\n",
              "      display: none;\n",
              "      fill: #1967D2;\n",
              "      height: 32px;\n",
              "      padding: 0 0 0 0;\n",
              "      width: 32px;\n",
              "    }\n",
              "\n",
              "    .colab-df-convert:hover {\n",
              "      background-color: #E2EBFA;\n",
              "      box-shadow: 0px 1px 2px rgba(60, 64, 67, 0.3), 0px 1px 3px 1px rgba(60, 64, 67, 0.15);\n",
              "      fill: #174EA6;\n",
              "    }\n",
              "\n",
              "    [theme=dark] .colab-df-convert {\n",
              "      background-color: #3B4455;\n",
              "      fill: #D2E3FC;\n",
              "    }\n",
              "\n",
              "    [theme=dark] .colab-df-convert:hover {\n",
              "      background-color: #434B5C;\n",
              "      box-shadow: 0px 1px 3px 1px rgba(0, 0, 0, 0.15);\n",
              "      filter: drop-shadow(0px 1px 2px rgba(0, 0, 0, 0.3));\n",
              "      fill: #FFFFFF;\n",
              "    }\n",
              "  </style>\n",
              "\n",
              "      <script>\n",
              "        const buttonEl =\n",
              "          document.querySelector('#df-74584c6d-b31b-4856-90ef-bc786b8878ab button.colab-df-convert');\n",
              "        buttonEl.style.display =\n",
              "          google.colab.kernel.accessAllowed ? 'block' : 'none';\n",
              "\n",
              "        async function convertToInteractive(key) {\n",
              "          const element = document.querySelector('#df-74584c6d-b31b-4856-90ef-bc786b8878ab');\n",
              "          const dataTable =\n",
              "            await google.colab.kernel.invokeFunction('convertToInteractive',\n",
              "                                                     [key], {});\n",
              "          if (!dataTable) return;\n",
              "\n",
              "          const docLinkHtml = 'Like what you see? Visit the ' +\n",
              "            '<a target=\"_blank\" href=https://colab.research.google.com/notebooks/data_table.ipynb>data table notebook</a>'\n",
              "            + ' to learn more about interactive tables.';\n",
              "          element.innerHTML = '';\n",
              "          dataTable['output_type'] = 'display_data';\n",
              "          await google.colab.output.renderOutput(dataTable, element);\n",
              "          const docLink = document.createElement('div');\n",
              "          docLink.innerHTML = docLinkHtml;\n",
              "          element.appendChild(docLink);\n",
              "        }\n",
              "      </script>\n",
              "    </div>\n",
              "  </div>\n",
              "  "
            ]
          },
          "metadata": {},
          "execution_count": 29
        }
      ]
    },
    {
      "cell_type": "markdown",
      "source": [
        "Пока мы еще ничего не посчитали, но уже можно заметить, что наши выборки очень похожи.<br>\n",
        "Среднее и среднеквадратичное отклонения в группах схожи между собой."
      ],
      "metadata": {
        "id": "eGwqKXIuxHRD"
      }
    },
    {
      "cell_type": "code",
      "source": [
        "plt.figure(figsize=(7,5))\n",
        "\n",
        "sns.barplot(x=data_new['con_treat'], y=data_new['converted']*100, ci=False)\n",
        "\n",
        "plt.ylim(0, 17)\n",
        "plt.title('Conversion rate by group', pad=20)\n",
        "plt.xlabel('Group', labelpad=15)\n",
        "plt.ylabel('Converted (proportion)', labelpad=15);"
      ],
      "metadata": {
        "colab": {
          "base_uri": "https://localhost:8080/",
          "height": 522
        },
        "id": "AOQua1vWMrxj",
        "outputId": "e538ba90-94ef-4c76-8401-e00302095cde"
      },
      "execution_count": 45,
      "outputs": [
        {
          "output_type": "display_data",
          "data": {
            "text/plain": [
              "<Figure size 700x500 with 1 Axes>"
            ],
            "image/png": "[encoded data removed]"
          },
          "metadata": {}
        }
      ]
    },
    {
      "cell_type": "markdown",
      "source": [
        "Первоначальные данные свидетельствуют об отсутствии существенной разницы в сходимости между тестовой группой и контрольной группой. Поэтому мы можем сделать вывод, что новая страница не оказывает никакого влияния и не приводит к большему количеству конверсий.\n",
        "\n",
        "Тем не менее, для сравнения, мы проведём проверку гипотез, чтобы увидеть, подтверждение графической проверке."
      ],
      "metadata": {
        "id": "djBKA_8tNLAk"
      }
    },
    {
      "cell_type": "markdown",
      "source": [
        "##Проверка гипотез (A/B-тест)\n",
        "Выполним статистический тест для сравнения этих двух групп.<br>\n",
        "Учитывая наш большой размер выборки, мы можем использовать ***z-тест*** для расчета нашего p-значения.<br> В противном случае вместо этого может быть выполнен тест t-student.\n",
        "\n",
        "Давайте рассчитаем p-значение и доверительный интервал для каждой группы"
      ],
      "metadata": {
        "id": "oTtmumwtORXC"
      }
    },
    {
      "cell_type": "code",
      "execution_count": 31,
      "metadata": {
        "id": "MQQNaIlHiz3c",
        "colab": {
          "base_uri": "https://localhost:8080/"
        },
        "outputId": "0902bca7-6184-4290-848b-3ff8965fe52f"
      },
      "outputs": [
        {
          "output_type": "execute_result",
          "data": {
            "text/plain": [
              "0    255831\n",
              "1     34753\n",
              "Name: converted, dtype: int64"
            ]
          },
          "metadata": {},
          "execution_count": 31
        }
      ],
      "source": [
        "data_new['converted'].value_counts()"
      ]
    },
    {
      "cell_type": "code",
      "source": [
        "k1 = data_new[data_new['con_treat']=='control']['converted'].sum()\n",
        "k2 = data_new[data_new['con_treat']=='treatment']['converted'].sum()\n",
        "k1, k2"
      ],
      "metadata": {
        "id": "KiTwAx81x21y",
        "colab": {
          "base_uri": "https://localhost:8080/"
        },
        "outputId": "993d67a1-0eb5-441c-9d6b-1efbba8ab9af"
      },
      "execution_count": 32,
      "outputs": [
        {
          "output_type": "execute_result",
          "data": {
            "text/plain": [
              "(17489, 17264)"
            ]
          },
          "metadata": {},
          "execution_count": 32
        }
      ]
    },
    {
      "cell_type": "code",
      "source": [
        "n1 = data_new[data_new['con_treat']=='control'].shape[0]\n",
        "n2 = data_new[data_new['con_treat']=='treatment'].shape[0]\n",
        "n1, n2"
      ],
      "metadata": {
        "id": "mhE9_jE1x4fe",
        "colab": {
          "base_uri": "https://localhost:8080/"
        },
        "outputId": "48c29a3c-c5e7-4412-c050-d4752e51aecc"
      },
      "execution_count": 33,
      "outputs": [
        {
          "output_type": "execute_result",
          "data": {
            "text/plain": [
              "(145274, 145310)"
            ]
          },
          "metadata": {},
          "execution_count": 33
        }
      ]
    },
    {
      "cell_type": "code",
      "source": [
        "from statsmodels.stats import proportion"
      ],
      "metadata": {
        "id": "1Pi223ETW5eH"
      },
      "execution_count": 34,
      "outputs": []
    },
    {
      "cell_type": "code",
      "source": [
        "z_score, z_pvalue = proportion.proportions_ztest(np.array([k1, k2]),\n",
        "                                                 np.array([n1, n2]))\n",
        "print('Результаты z_score = %.3f, p-value = %.3f'%(z_score, z_pvalue))"
      ],
      "metadata": {
        "colab": {
          "base_uri": "https://localhost:8080/"
        },
        "outputId": "938657f5-9116-4939-ea6c-558efd6e0065",
        "id": "ER0NQCFWQaAI"
      },
      "execution_count": 35,
      "outputs": [
        {
          "output_type": "stream",
          "name": "stdout",
          "text": [
            "Результаты z_score = 1.311, p-value = 0.190\n"
          ]
        }
      ]
    },
    {
      "cell_type": "code",
      "source": [
        "if abs(z_pvalue) < 0.05:\n",
        "    print(\"Мы можем отвергнуть нулевую гипотезу! Стат. значимость существует.\")\n",
        "else:\n",
        "    print(\"Мы не можем отвергнуть нулевую гипотезу. Стат. значимость не обнаружена.\")"
      ],
      "metadata": {
        "colab": {
          "base_uri": "https://localhost:8080/"
        },
        "outputId": "1d77b490-8d5d-477d-c0a6-396ba14a3495",
        "id": "gQ8PabGeQaAJ"
      },
      "execution_count": 36,
      "outputs": [
        {
          "output_type": "stream",
          "name": "stdout",
          "text": [
            "Мы не можем отвергнуть нулевую гипотезу. Стат. значимость не обнаружена.\n"
          ]
        }
      ]
    },
    {
      "cell_type": "code",
      "source": [
        "(lower_con, lower_treat), (upper_con, upper_treat) = proportion.proportion_confint(np.array([k1, k2]),\n",
        "                                                                                   np.array([n1, n2]), alpha=0.05)\n",
        "print(f'ci 95% for control group: [{lower_con:.3f}, {upper_con:.3f}]')\n",
        "print(f'ci 95% for treatment group: [{lower_treat:.3f}, {upper_treat:.3f}]')"
      ],
      "metadata": {
        "colab": {
          "base_uri": "https://localhost:8080/"
        },
        "id": "gRrWLy3lTWb2",
        "outputId": "9409a670-6507-4f17-c1ad-4688844e94bb"
      },
      "execution_count": 37,
      "outputs": [
        {
          "output_type": "stream",
          "name": "stdout",
          "text": [
            "ci 95% for control group: [0.119, 0.122]\n",
            "ci 95% for treatment group: [0.117, 0.120]\n"
          ]
        }
      ]
    },
    {
      "cell_type": "markdown",
      "source": [
        "Наилучший метод чтобы проверить статистическую значимость изменения для пропорций это метод Хи‑Квадрат.<br>\n",
        "***Непараметрический Хи-квадрат:***"
      ],
      "metadata": {
        "id": "kKIFsjFyQl8U"
      }
    },
    {
      "cell_type": "code",
      "source": [
        "from scipy.stats import norm"
      ],
      "metadata": {
        "id": "LcR_QvhgEoDT"
      },
      "execution_count": 38,
      "outputs": []
    },
    {
      "cell_type": "code",
      "source": [
        "chisq, pvalue, table = proportion.proportions_chisquare(np.array([k1, k2]),\n",
        "                                                        np.array([n1, n2]))\n",
        "\n",
        "# Рассчитаем доверительный интервал для изменения\n",
        "lift = (n1/n2)/(k1/k2)\n",
        "std_error = np.sqrt(1/n1 + 1/n2 + 1/k1 + 1/k2)\n",
        "ci = norm.interval(0.95, loc=lift, scale=std_error)\n",
        "\n",
        "# Выводим результаты\n",
        "print(f\"Хи-квадрат = {chisq} p-value = {pvalue}\")\n",
        "print(\"Доверительный интервал изменения: \", ci)\n",
        "\n",
        "# Проверяем есть ли изменение\n",
        "if pvalue < 0.05 and ci[0] > 1:\n",
        "    print(\"Вариант лучше.\")\n",
        "else:\n",
        "    print(\"Стат.разницы нет.\")"
      ],
      "metadata": {
        "colab": {
          "base_uri": "https://localhost:8080/"
        },
        "outputId": "83400ab5-2bf9-4958-90de-a1873bdbe90e",
        "id": "i3_bcxlHQl8V"
      },
      "execution_count": 39,
      "outputs": [
        {
          "output_type": "stream",
          "name": "stdout",
          "text": [
            "Хи-квадрат = 1.7185222540121272 p-value = 0.18988337448194853\n",
            "Доверительный интервал изменения:  (0.9646406761449434, 1.0091397469371604)\n",
            "Стат.разницы нет.\n"
          ]
        }
      ]
    },
    {
      "cell_type": "code",
      "source": [
        "if abs(pvalue) < 0.05:\n",
        "    print(\"Мы можем отвергнуть нулевую гипотезу! Стат. значимость существует.\")\n",
        "else:\n",
        "    print(\"Мы не можем отвергнуть нулевую гипотезу. Стат. значимость не обнаружена.\")"
      ],
      "metadata": {
        "colab": {
          "base_uri": "https://localhost:8080/"
        },
        "outputId": "39f25441-d610-41d8-fb9c-ed5d582d0d96",
        "id": "GccvMHcpQl8V"
      },
      "execution_count": 46,
      "outputs": [
        {
          "output_type": "stream",
          "name": "stdout",
          "text": [
            "Мы не можем отвергнуть нулевую гипотезу. Стат. значимость не обнаружена.\n"
          ]
        }
      ]
    },
    {
      "cell_type": "markdown",
      "source": [
        "\n",
        "***Непараметрический критерий Манна-Уитни:***"
      ],
      "metadata": {
        "id": "av7rzUVtQyW_"
      }
    },
    {
      "cell_type": "code",
      "source": [
        "data.groupby('con_treat')['converted'].describe()"
      ],
      "metadata": {
        "colab": {
          "base_uri": "https://localhost:8080/",
          "height": 143
        },
        "outputId": "683d63f5-8626-471d-a7e1-5b2f7de2d2b1",
        "id": "T7H6WYxfQyXT"
      },
      "execution_count": 47,
      "outputs": [
        {
          "output_type": "execute_result",
          "data": {
            "text/plain": [
              "              count      mean       std  min  25%  50%  75%  max\n",
              "con_treat                                                       \n",
              "control    147202.0  0.120399  0.325429  0.0  0.0  0.0  0.0  1.0\n",
              "treatment  147276.0  0.118920  0.323695  0.0  0.0  0.0  0.0  1.0"
            ],
            "text/html": [
              "\n",
              "  <div id=\"df-8cb9d44f-fd40-4b72-b2f8-8b6a03a70431\">\n",
              "    <div class=\"colab-df-container\">\n",
              "      <div>\n",
              "<style scoped>\n",
              "    .dataframe tbody tr th:only-of-type {\n",
              "        vertical-align: middle;\n",
              "    }\n",
              "\n",
              "    .dataframe tbody tr th {\n",
              "        vertical-align: top;\n",
              "    }\n",
              "\n",
              "    .dataframe thead th {\n",
              "        text-align: right;\n",
              "    }\n",
              "</style>\n",
              "<table border=\"1\" class=\"dataframe\">\n",
              "  <thead>\n",
              "    <tr style=\"text-align: right;\">\n",
              "      <th></th>\n",
              "      <th>count</th>\n",
              "      <th>mean</th>\n",
              "      <th>std</th>\n",
              "      <th>min</th>\n",
              "      <th>25%</th>\n",
              "      <th>50%</th>\n",
              "      <th>75%</th>\n",
              "      <th>max</th>\n",
              "    </tr>\n",
              "    <tr>\n",
              "      <th>con_treat</th>\n",
              "      <th></th>\n",
              "      <th></th>\n",
              "      <th></th>\n",
              "      <th></th>\n",
              "      <th></th>\n",
              "      <th></th>\n",
              "      <th></th>\n",
              "      <th></th>\n",
              "    </tr>\n",
              "  </thead>\n",
              "  <tbody>\n",
              "    <tr>\n",
              "      <th>control</th>\n",
              "      <td>147202.0</td>\n",
              "      <td>0.120399</td>\n",
              "      <td>0.325429</td>\n",
              "      <td>0.0</td>\n",
              "      <td>0.0</td>\n",
              "      <td>0.0</td>\n",
              "      <td>0.0</td>\n",
              "      <td>1.0</td>\n",
              "    </tr>\n",
              "    <tr>\n",
              "      <th>treatment</th>\n",
              "      <td>147276.0</td>\n",
              "      <td>0.118920</td>\n",
              "      <td>0.323695</td>\n",
              "      <td>0.0</td>\n",
              "      <td>0.0</td>\n",
              "      <td>0.0</td>\n",
              "      <td>0.0</td>\n",
              "      <td>1.0</td>\n",
              "    </tr>\n",
              "  </tbody>\n",
              "</table>\n",
              "</div>\n",
              "      <button class=\"colab-df-convert\" onclick=\"convertToInteractive('df-8cb9d44f-fd40-4b72-b2f8-8b6a03a70431')\"\n",
              "              title=\"Convert this dataframe to an interactive table.\"\n",
              "              style=\"display:none;\">\n",
              "        \n",
              "  <svg xmlns=\"http://www.w3.org/2000/svg\" height=\"24px\"viewBox=\"0 0 24 24\"\n",
              "       width=\"24px\">\n",
              "    <path d=\"M0 0h24v24H0V0z\" fill=\"none\"/>\n",
              "    <path d=\"M18.56 5.44l.94 2.06.94-2.06 2.06-.94-2.06-.94-.94-2.06-.94 2.06-2.06.94zm-11 1L8.5 8.5l.94-2.06 2.06-.94-2.06-.94L8.5 2.5l-.94 2.06-2.06.94zm10 10l.94 2.06.94-2.06 2.06-.94-2.06-.94-.94-2.06-.94 2.06-2.06.94z\"/><path d=\"M17.41 7.96l-1.37-1.37c-.4-.4-.92-.59-1.43-.59-.52 0-1.04.2-1.43.59L10.3 9.45l-7.72 7.72c-.78.78-.78 2.05 0 2.83L4 21.41c.39.39.9.59 1.41.59.51 0 1.02-.2 1.41-.59l7.78-7.78 2.81-2.81c.8-.78.8-2.07 0-2.86zM5.41 20L4 18.59l7.72-7.72 1.47 1.35L5.41 20z\"/>\n",
              "  </svg>\n",
              "      </button>\n",
              "      \n",
              "  <style>\n",
              "    .colab-df-container {\n",
              "      display:flex;\n",
              "      flex-wrap:wrap;\n",
              "      gap: 12px;\n",
              "    }\n",
              "\n",
              "    .colab-df-convert {\n",
              "      background-color: #E8F0FE;\n",
              "      border: none;\n",
              "      border-radius: 50%;\n",
              "      cursor: pointer;\n",
              "      display: none;\n",
              "      fill: #1967D2;\n",
              "      height: 32px;\n",
              "      padding: 0 0 0 0;\n",
              "      width: 32px;\n",
              "    }\n",
              "\n",
              "    .colab-df-convert:hover {\n",
              "      background-color: #E2EBFA;\n",
              "      box-shadow: 0px 1px 2px rgba(60, 64, 67, 0.3), 0px 1px 3px 1px rgba(60, 64, 67, 0.15);\n",
              "      fill: #174EA6;\n",
              "    }\n",
              "\n",
              "    [theme=dark] .colab-df-convert {\n",
              "      background-color: #3B4455;\n",
              "      fill: #D2E3FC;\n",
              "    }\n",
              "\n",
              "    [theme=dark] .colab-df-convert:hover {\n",
              "      background-color: #434B5C;\n",
              "      box-shadow: 0px 1px 3px 1px rgba(0, 0, 0, 0.15);\n",
              "      filter: drop-shadow(0px 1px 2px rgba(0, 0, 0, 0.3));\n",
              "      fill: #FFFFFF;\n",
              "    }\n",
              "  </style>\n",
              "\n",
              "      <script>\n",
              "        const buttonEl =\n",
              "          document.querySelector('#df-8cb9d44f-fd40-4b72-b2f8-8b6a03a70431 button.colab-df-convert');\n",
              "        buttonEl.style.display =\n",
              "          google.colab.kernel.accessAllowed ? 'block' : 'none';\n",
              "\n",
              "        async function convertToInteractive(key) {\n",
              "          const element = document.querySelector('#df-8cb9d44f-fd40-4b72-b2f8-8b6a03a70431');\n",
              "          const dataTable =\n",
              "            await google.colab.kernel.invokeFunction('convertToInteractive',\n",
              "                                                     [key], {});\n",
              "          if (!dataTable) return;\n",
              "\n",
              "          const docLinkHtml = 'Like what you see? Visit the ' +\n",
              "            '<a target=\"_blank\" href=https://colab.research.google.com/notebooks/data_table.ipynb>data table notebook</a>'\n",
              "            + ' to learn more about interactive tables.';\n",
              "          element.innerHTML = '';\n",
              "          dataTable['output_type'] = 'display_data';\n",
              "          await google.colab.output.renderOutput(dataTable, element);\n",
              "          const docLink = document.createElement('div');\n",
              "          docLink.innerHTML = docLinkHtml;\n",
              "          element.appendChild(docLink);\n",
              "        }\n",
              "      </script>\n",
              "    </div>\n",
              "  </div>\n",
              "  "
            ]
          },
          "metadata": {},
          "execution_count": 47
        }
      ]
    },
    {
      "cell_type": "code",
      "source": [
        "from scipy.stats import mannwhitneyu"
      ],
      "metadata": {
        "id": "Z-JP9KA-Goi4"
      },
      "execution_count": 48,
      "outputs": []
    },
    {
      "cell_type": "code",
      "source": [
        "mw_stats = mannwhitneyu(x=data_new[data_new['con_treat'] == 'control']['converted'].values,\n",
        "                        y=data_new[data_new['con_treat'] == 'treatment']['converted'].values,\n",
        "                        alternative='two-sided')\n",
        "mw_stats"
      ],
      "metadata": {
        "colab": {
          "base_uri": "https://localhost:8080/"
        },
        "outputId": "96dc2a83-6cde-4cda-f3a9-b1523ceed694",
        "id": "mBArAOt9QyXU"
      },
      "execution_count": 50,
      "outputs": [
        {
          "output_type": "execute_result",
          "data": {
            "text/plain": [
              "MannwhitneyuResult(statistic=10571540597.0, pvalue=0.1898841499342626)"
            ]
          },
          "metadata": {},
          "execution_count": 50
        }
      ]
    },
    {
      "cell_type": "code",
      "source": [
        "print(\"Mann-Whitney U-test:\")\n",
        "print(\"U-statistic: \", mw_stats[0])\n",
        "print(\"p-value:     \", mw_stats[1])"
      ],
      "metadata": {
        "id": "Ogx6ySO90EW_",
        "colab": {
          "base_uri": "https://localhost:8080/"
        },
        "outputId": "cb2c3cd9-2deb-4e27-dca3-a28698edeef2"
      },
      "execution_count": 51,
      "outputs": [
        {
          "output_type": "stream",
          "name": "stdout",
          "text": [
            "Mann-Whitney U-test:\n",
            "U-statistic:  10571540597.0\n",
            "p-value:      0.1898841499342626\n"
          ]
        }
      ]
    },
    {
      "cell_type": "code",
      "source": [
        "if abs(mw_stats[1]) < 0.05:\n",
        "    print(\"Мы можем отвергнуть нулевую гипотезу! Стат. значимость существует.\")\n",
        "else:\n",
        "    print(\"Мы не можем отвергнуть нулевую гипотезу. Стат. значимость не обнаружена.\")"
      ],
      "metadata": {
        "colab": {
          "base_uri": "https://localhost:8080/"
        },
        "id": "8y76piCN7xZf",
        "outputId": "0234b4f7-5dbb-4ded-ceac-37dd393ec872"
      },
      "execution_count": 52,
      "outputs": [
        {
          "output_type": "stream",
          "name": "stdout",
          "text": [
            "Мы не можем отвергнуть нулевую гипотезу. Стат. значимость не обнаружена.\n"
          ]
        }
      ]
    },
    {
      "cell_type": "markdown",
      "source": [
        "Мы проверили 3 критериями: z-тест, Хи-квадрат и Манна-Уитни.<br>\n",
        "***Стат. значимость не обнаружена!***"
      ],
      "metadata": {
        "id": "5g67p41sm_HS"
      }
    },
    {
      "cell_type": "markdown",
      "source": [
        "##Расчет мощности\n"
      ],
      "metadata": {
        "id": "YgABPXzRGvxG"
      }
    },
    {
      "cell_type": "markdown",
      "source": [
        "***Статистическая мощность проверки гипотезы*** - это вероятность обнаружения эффекта, если существует истинный эффект, который необходимо обнаружить.\n",
        "Мощность может быть рассчитана и зарегистрирована для завершенного эксперимента, чтобы прокомментировать уверенность, которую можно иметь в выводах, сделанных на основе результатов исследования."
      ],
      "metadata": {
        "id": "gfWZAXuKBvZI"
      }
    },
    {
      "cell_type": "markdown",
      "source": [
        "d = (M1 – M2) / S_pooled\n",
        "\n",
        "\n",
        "\n",
        "\n"
      ],
      "metadata": {
        "id": "7iaqh9kzDHDX"
      }
    },
    {
      "cell_type": "markdown",
      "source": [
        "## S_pooled ="
      ],
      "metadata": {
        "id": "O0vO78LeDo-V"
      }
    },
    {
      "cell_type": "markdown",
      "source": [
        "  ![Снимок экрана 2022-08-09 в 22.21.17.png](data:image/png;base64,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)"
      ],
      "metadata": {
        "id": "O_3obptBDWNx"
      }
    },
    {
      "cell_type": "markdown",
      "source": [
        "![cohens-d-hypothesized-mean-difference.webp](data:image/webp;base64,UklGRi5YAABXRUJQVlA4TCFYAAAvfcJ0AFWLgrZtpIQ/7Lu9dwAiYgIsgwtxKdkZso4C6JbQOXWOParch7LuIWwhd/6JqWwDr1HiJVuZfINeO5uSCfLesbPQGrCFjXuQTm8WxqNTz7X9yx1LzqeYGbMdMUMzMzPDgWbuPtjcfZhPMZdKp6QSM1NJJSpRiUpSSdosbe2XNmvv/e69xVJwqmpv7ff//spMGZcZQmZ2NGtSp+ycmZm/ADOcAUWtyJwyhsz2G5opnOi4PGa2s2P2P3LE2dAnmFVm+z+wzcx81hoOzVCOZnU2kZmHOdIyc8QcYcaczXRoDDlkONHAWc6YmRlStkPMPB/AzG6KTDIzh3Zkr4raIZ7lj8Fsxe1owOxsmDnqjjAzMzPT8Ix6JjPJzJyNM8ZvwIwRMw0kHgcAVJZm+79zrjxFCILYrdjdCiqiUgrWbBdP/3e1e7MWd3c96xauAFSMbbbgC9v+tW20bVPimOKgnWR6zT0M1/DFzMy4eq/d273IzPcqFpIYAk25He50ONNOmsZ2bFn6//9iyQIzsx0HjLHU/wnAM237ejlydtfMzMzDzGJpBUNi5m5Bg0atFjPTqEesbsGwmFrMLI3U4mZ1nz8c6O7TNDySRgymwXP+/9//PW2mbKu6avMt/gJTk5qdu5iZsTNHHDOTlE+0H8DMilzOmJ0xZF218AUMcsgZt5lJE5s5Ujax2V4ysxdCc8TMnmjK2UJkZnbkYqfM9onMjNFGZpxoal5DyMzslCGaWkzNDF/AWdekOpHpIzi0q83MTBktbzqpa6Od2KzYzBDNRGamnKFNEbMdncxMnW1u5nAyp/4CzOzyp217m2bb9m2HJJvc/91DuGfQJvAM+wm2ZBswhJIKpPdeSE9IiAvyXNuWYtu2bZVmZs5u0JrNOVdoM4YXBDczhVCArcAWaYu0FZpW+z8BhwyH4//789kJZoT8MAC88jCw/5Aa+oNXHhYOGNLAYc4zHIbAIBgMw8Drzt0uCBPBxmG/ICdYwIGAF52hUAT2EW49EoSFWz8E2ASkA685PWBy2D9oDAEB3WESeMv04DWnPGwMsoBfQEBAR9hfMAavOYVhdEkICAgIkMBl7NRrTl4YXQIOnRi86swFo03g0IngAMGLzvh9hujgCQEBS0Bu2FdIC15zNgoJow2hBdQDHdji6Ov1mhNgDtPA6L2HE3qgH9070Id+4DUnwAqe8XoLgS1sdk5oCP5edLxeOsC7E0ptaA+qLNm//vdt37ZMv/zu8SCIUE4qyAgeYXm0OP3eR36k6qj9//1y7NhD98vvHhREMEFBV/4Iyylj81cajYrJorrePWgZCSYo6MofISBA3bc6hnlTRTX9CcNFD1pWogkKuvJHGI5R31+UPP5V19fvqZyq/fu/6f/5/6DlSDhBQVde9XcYbP07++7fypz+ovvbd1VKWadztxBE1gn/br3rr43Hf882/Vupk1+qgno4Q5d7UNaUTh4WQibhjMXQFgF0Us7yF8k7Yfm8d9rx3zUazSRqhYIokBR2egWNYHFQzbTJw6r63NPY6S+7QVNkhkuubMhlOdpnl07/IswTlneqyU81GmulDkIjURVFOSGfIrboYERTQS6wBVVLHzAox0GMj9n2nzsJXrahsmo0VZpNhM6AKAOdiVOngQOg6SzN4OCH6ZOfadh8MJ1BdwbVGY75cOgM23xYtrxTYTlEkwkzCnODWoXSC3V1US10Ekxe8Zc1Z2zkoMUAaEoxhKIp2nUmSpwG9gGm423B49uu2zUaDZ35MjKp+9Btd2y7fdttOiMOHAyUgqVArRr5bmbzUaKHnbQWSB1kGYLIuyTLudvJURlYn3y/tt2BuByW+ZZ6eBIsOVioBXerVoF0iKOF7clt//lpXpfSDQcMgcRDf1Ddf7605Wm2cLFj7MSbfllZpYsfrQXnSS0HncoqHl+2nYG4AiCduLjXW3vC1RZT+MxAVUcPpxusR5EBJixEmLIOGUJRDBKP/P7d9lkWTYAJa6ri2twpPHVIbDV2eiEGDVNYlg0rnlzbxWVcfoisC9GwFYAphfF9QbXRKYwW1+Yn3NzL7VQYSg8Rz+UF1+/0TgnZbZ+lEZpChgCdWYr2UXNmI9q8VjdvwMIVkgjLoFPZeW8Xl7Wl++63f/vywq24rbeuZYpUWhqFk0etwnCjYWF7Ys4coSwqc5gh/bjbPkshZMiME8Ut2pyZ8JKq0ncDhF9XiKwU1RMUFLTheW8XV2Q6dWkUVlstaU1YpU5wNCoLO+tlDSihwbDB3NAjXuoPQnbbZylEMoqwupyeFyYr67Pt0ikYBsG/TKuUpTKT5z1ow/PeLiqgOA7pTstVW0ilJuCvomg1dBJGhTgvpTVTLCIk0t+77bMrQgwSrC/iQydhflfMLfeBcLdVIaSWWYFso5e+Os97u6iYTBxuO2/ZyiJoasJAUElYzJ0EL5/mYlpMNIsh8WFOhiqHFBIG8/sUFx6CwLcyRNKq8WeeG5W2gYpLxbHYzluntNm01rhbFYTZfJLoFdJcrNbMrCY+zcmgySaHhWBOb+xPAcC3EsyiVb1IH0XZiYrsGM8+k9qosk1VB3+VQ6uxmzQipblobRa7mvg4h4DaLoVNwPyueKcwEr3Ai5xZq8ZfWniznhkq9k8tNX5rVza70okEqhh40s90aylupM1iWIyIzz9ORZ70J0pbUqK317CaBf7SIlv1zFDRRVEsMX6rVhZRqTmoFtxomNsdi/US6myKQ5AI8A7leULQFF5fVRS51UJrFfpLbpuVjgMVXxTH4uO3TGXBFd1AlfAUi1sSseOC1hZ/nKQ/my07v+7XeYlwMtmcV507HdEU1kXtRjaV8c9km/WVcQW2TL84juNYEfDMXHde44rZRHKP6uDmFtfk504DdX7BKsjn7Re/3++t8/JcuqamMGcurM8+FLFRRkopykRtNNZOXKE1Gs2KgYyd9E7VrTFQBKoMGHs7eAqUNagmSaIoSYRBKEpY5FjcGD9nFu8QT0XLv5QQdZGsNprETlQSlMRhuV2jlKmMoCpw4n6iV8zq4zjC0wQQoZAhTbYQ7WezexWxUteHEBqreZY2JyoNiuNJlwQTbUk18JlvOHqcoAwMQyARDhnVZHOBM0RjRUmk7GAiRfXSPIaNSkOJqNQXXq9VPRMILqAK6AXGV5y1gOvsRRaRREiEIVRzQXPyasBoPREl/3iKrDWyfqedoxIh5UIybMaQCFQBdtbfZYasqknqEScJi+iJVNiRDI4QYqQ2Q7OVSbQ2mCRQqZBJ3G7YZ19SDuDvM3+pFDfFYUYiApO0Zu7hlzWlxEd9hgcl2JeJtYFKhqzzXp6DhF+Gvh7OqHHmA2ci7cIxTQgiNMIS2pDdmbrsN1gPRScgjGBaI80HKh2Ke8NEiAzQZzN0pywHlMVFDtE0RcIjtEEoaU2GTSDR+dHEtdGdoeUArX13rPMbsNfF6ylDYlafwGKKoGBUY6Wj/VxFQ1pkbnott9q0yAHItEZPOCBYBfIGGsvL05aCnXyPogAJkh7z2oKDqcvBVuOJqPhda/namGwgJ+CdFvGKC2rA65D02Tfw+vLcCEECIS1mNrdHS/ZIvdAQkzuLLji2HDmCydyy28MrzAHuBq4lcYRhCCK+Wdn4Fz/hJ/Qbi1FjLhkSptVFdRE55wMSupf2XSueqf3yeq9XIZDOR+2aGcAX7Oic1rb/2rEYWpKP+KLEMr60ORkRpG5dNPwTCIWK9ELImUwW1t1uoJUfoK6bG4WFUFlDjCaAoJPFUGmnEkal8oaMaNSHkHrZtMd63KGV9kbHwg5BJAGgq60uBMwRDAEEoTQFRqRU1aYD5sJO0heJPrBJqPqT6U5HDn0Ou7zn/0spBX+Qu8KAObyhNE2QShPYYuaz+2J5XdrNiYMJJA5knQ82cS5BSRptBj18uNoByOV2K4kjAkUhWh6wVdQaynIhYcpsPhEFD5heaPKZxXnXcoqPY78X/8kJhf4AcDZDZ/pisMmRoymNFiL9+PQBdkFPrIczxOCIc4XLrteZNJBbpc7bjGqMxmoAABftows7UuclqNXLaFE1iAryrP1QBDY9nWKht+LU7VqOobNg1lrJj/JvvQHcuOz2tOUglZ1jCY0cQpmENBe9oEfr5nTkHU1Cj9nKEg06nQZyrdRG262aqLGqALiFhMnKhjxloCT0cDKqqqDixgVd7gHy2mEzh+r6vLl0B5UF53iL+6Pk65ZIaTEANm1ec/Z8RJed4jDtS93+958v+zLFoAliqZjiJnN7Yt28jjjfhBqTp82xPegkUDGLR9+MGKE4KLGzw+RN/o9VyQNrPRwWHCFrais04yTiw2PHjlUMopdgRTUbPyYxOW3E7TX2P1bz7SqzgQqq0WgUyFva70VmezLNaYGavKwaEoZ/hcMMQdEIS4XYkcjC9uR3Q9rfJ9LM+XAyvTGOi1AaR+v9R3dlnQikPdjgCGioqnFEPC+SiF5CpbV0glcwWI+QZu5J2litpq/UBXKSt6zbcz/shoalANBkZeUoP9tkVznMSmiiKOmQK3+vpCXVCzGE/b2OUYGbU9rp47gJZXE0Pb6TrqgxBmcD88LE4rqKnsjnJWiiGLKIQkmDlDgiPlmENfDorKxmB4/UBnLUOFk+MtzvabWWBjBTlNZi/Lw8X3rABFGEohG7XA0N05X1OXT1Az2jbNeHrO3juApldtY7va70ssDsaZS05o1YPS+yJJPE5bUz6W75DyFrg6SBGh7dqyJnUXH0Pd/ThcoGfkD2o2LH+PoilsMUQRahCWk0loKmYVNBA1W+qSBvQ71PLsoGd2nlmS94e6TUsgUgixln87tTJhwbQhgxyGyKi/zSbjREVFvYQ72ryzlx5C6kbbhdnbECmQGMNec33kpNKcMhRFDGYNDsyIROIs7WRtPRZARjs/qcXSIXXIZy5ya3u5GWDEBsfp88v18z0PgQ0ohRROG+/dLmdBc/QtJNJzeqdnU4OUdOY+PodXPE0LoeCONshwmjYnkV5BAiaGMRqC9LRAZZi7mLInUxiKO1yPm5Mrehq410D0c2rfeDr4Hi1mTqkMSYVAYD3/NxHSO7M8dz5iJ11cVeaCCIAn0js5vDyX5Ajr+QDjdHTNFq8NVq7CR6owWNhF5GBPUsAsXN0dRByYWH6PGrgU5UcnEyNrgOPZsR+WkrrRkC4PX2/mpztsxgiLwho7E8cyFksB6jZyUjo3wPh0v8ATnfKY75nve3ehHocqNByrCc3r3/MQj6DSKI9OGLmrJdgo4a9QZRlthcnCfPfbQL2fX52G1ADVyy8nLcuKhxxBgCRIAhUFaaf8MuPEDNaWXXpHrc3ZuBPOjanPovpaCiN8DWe83uUxM9tJPLUhSIwKhLqE1a27vrAcS83OxaXV52cRx8ILaz7Xu51yeBrXeU5JUWV/B7ETFkMJnTLWb1a938CC3+FSBiZQNOT5GbfPBwfc6vYBX14Wgga1V1XT7SDwxUowkUhbvVWePTF4MO2keLHJIYKr4VyeoH5EXZ6pzrM9/YH0AWT/qZLmV+J/G8iTjqJThnJtBQUR5AiV8bUajKpEcP45wfnsP++J6+NjsxyNIU1cImGMaSpwkQRmPxxtVera+NPNP4Ue7BoqQ35FIr7XuRNz+gwjdyP9jNbpQBPVZnxM9cSeEPV53CqLgtGT1O2vnEeYXh9/t9jaaQMcUn3NpzoT5Krm46rV7fmY1D8TQajVKcQLmvoi86LbgyZZ3EjfN15SqLCJoikSCcDOfMhhSlFYTc7YJi4QtbavpSSfDFyh6/TKx5EbBa9duDJvcNWJZEgyGotCmePCwOoOMPYipq/mZxcyJfUIn3Hj+hi1RHCIQqN+rn9GqZPdAgASIaj9FOezvf2ekSRshQ90STFybbfr15A8XRLPGTUwujoMpoOQqJUM/qDsVDskix2XP7TQV1ZAyEooqU8+wSBfLHyk5FOkTF4h6g6oFGfWVpl6mgSZYk8SAUhYXt8TR3FBm9IZyibZHum0e0Hus9WJk28IMpFxp+qNwOTi8DIiKSOasz7s4uKtRd0RSFOQ26lkfwQgovUjrBF6YspuOAG6Q+qzYkJoQj4sz5sC63iYi7zStkXCSpncgnjHWqtIkUOwOpHk6vryoGhYNGiSeiIuX0qLndGiK+dBpFz9JOnVfQuTemLO2i1BDlRoMLFTdFWQzFhTQVNAPmcDSoO8B0BbLckV8kNozLZIKOBqJajZ0HamVNigKR0Rnp/8GTARICM0CBwsRJ8AyTRJPCZkP+ANXNGzU1+ZBQSC8zRGQuHOOjl1QVkXC3hyiIikQnwTMj+5e2n7AkAFS7NEwc4SvqYqsFtO1tb1sZSEVD5gMhoTUEr02SOirnbnazG2VBcRaz1DYCoBy0N2Ul+BhoQgpISRlC6a3tiTf3BlDwvIVrY1NXEmVmEy9Wm5EAT6saKyqBU/t6GRHR1ZrArPmI3tZGQOBkWM9F8uYd7z1MAUcDTreeNigVt6gsRuLz/DIHlKK2FAIsYVJvrHXkX9b5wdU8CTh9u+mL+6ylRBMoPjSjZWW1eZMkAvJAtiXjeMhHf4mpAE19wLihqUsP9BIg4ssS2mJs7XRnp4sfCU49PXRGyMe1xaIBNPVwRk6vsqA7ymIoQqTJTEQE6TsVnBTuoN9b4SXx+3bQ4AtMXYI+Y2GftbUeoxjpDHR+Z+KGBVcSUoODC15ydDEd9ABgMliOdr6z28Y1KArFiKGsqqQVOBMRXEhorkW3nJdELf+sYgBLN7ewLZ7uEp4zEWOWMIylOGnN3yGeCmwR+BvZw8FkzktU2+tprQNLawNn8McrCWvs2LHKMaK2EpEB9n8JrCIkFdknjkqr0WiU6Bzsbo+DFXxByUl6424/MJGsSLWY6PyuRF5XXGBBlYJFtQc/oW06v9sKQOnfRwQgTUgiShJLeUV5MyhCCGuzV9j14mRazlMOHU8vlABQ+qsV9WkiToTDtCovNmMx9NMEtfYurTJnUucpquN1AkUFSFq181/u21lfEimGIIWdjPazNySoXJBX0SsfyFN33PX4PnhFICAx9oPpS/tmFCciRbRZbF534u8LahpP+3A9H1/5WLY9lJI1AFJ+Vzy7T6EoECuJI2JjZeMNC8kZplbqsXeLs8FXdBb2nZFRqTQA0o0357doSokV4RC9pJgLmCc7hZGAjkhPyTIfPnyFVD7+KgiOHKx/acrIE9FiCGrMBVEBlsk5EFBCWCCUaK0jX2kl3UEFOkiAo7rqQsw4ozNA8RppsjLZfVp5Y1Y4RzOJVrNxFWfOWyhOR4+tOqNiFTCKH+MrG3LvUrwkxiBWNOaTh3nhLATRtTr1+5Xzl49lr+tpvhGMdr5z32zuMJQWL4pBiyRrig5m3QgLpwDkNbIZdB/+GtdrbWyYBqCIsx3OmcPvigj+y77sy5SFsJiqK4IRIdpqOhFMBPg/Sb9plal49M2IEUqllfR6G805QtEzy3ApLUZK+YQ8qsyh04aU3y6URSGEUeONJkkceVyceqtRn8ZwWkAUFkK//fnxGdGZxaL25IIeVSgNILlRp2Fj0+CzK7cY9PhGLQGGejhjh7/evzSHGT57jCYk1zjz4UEklExQNJD9qPnwmc815dMqCDDUVNgID1IaCxjlM8IhWF4ZfihtaCiMYRBaqL/EedjpxPnMmxn2WmZFAxjK7dYKOpM6I0V4fai+gEoakbR5dWHcyOxG9de71Dny+X269Ef3yiYWAkFol2misSzHUEbcRpotfE5vbFFjRhhVwDiQxWYVJ85ryKaz5aBHN7IBCGqThlNXQrKcCEMocXuMRqKWtWQvIQwDKN0QvVm9+W1H3UYtvV4LAAQ9+/gxUW2lRsWNotAqqlU1iZAw1cPpQvANJ9T+zW7DRqXBbz6Oo2YaygggKN0llbbkdEaWiPxQRQX+Mi2mEyFYQsJA9TeqxAXyu1a21mt+5fAiCPoeDSVJlrASAn7CT/gJAmIxlOVx6YPKdQmhPGQx6rrzskkoman98nqvV8lQ6sJ82MIFOi34sbFe4Cyoz4uwGBIE+v1+ATEEUGYtrydZ1JYUQlIwbSyncd2Gkmk0GmUTp9F6s+oatQX4qXUWU4ejahs9KnY0gUYkve9HLoBRsypVets8+v3T+I5JZ8/NmjPQm8BP6pBY3lygDbwkdmSvvKbgF2qXRr53hikC1d2payLfbUOyVedZWUk98LPLDFlTLrGEEz8WU9XlVIon+o5876SyBOo+fdfnPe3LVLnfbzsQer5ZSJiuKyRWE9EbUdvFTJe6pKrke7pQvLE8dp+X4j3cc+3NGjvQKtDz7zPcyjseET+akCaSWNCbzO+M+dxpxdMqf3e4d8dW+O9f222/Rkb1AHpShsRFzQXGIEniJ5kkYX4XcaG+DOZraxsY1d19JHYi/7HO7XbeAoHyA/QER2B5FcVhhogf4RAqbIikeORP7WsnlcnIcu8+eQIY6T5+522s2B7gMVqOon1cTTE5BAEWw7oSNn1Q1uU1fS0lFGisxQ9uyjkBaF3aMe/ZHcOoD8BOdW0ha0BV29gRCDAYaLPVDLda6yz42JjfK3l5urZdSwD4euaTmjzQTmAndVAsa8lyTJYgQFFgk3KZrtgP9LGOMIdRvcNbagNJQOy84/TJaFY1AJ1VYRN0UV1EL1MEAsQoMem9ocvpgYZvzQPpzLI9uq+FCMZT07eAWT8KOvrsw4RRYXEpGEJEs2Xn1/06YellWFQP0wfVVmPXt648a7D6Hl2XrHzHcRzHoXw3tcT0NQsVG0BncU0ha0BT2/gRRAh+dUORiG/IpzzByCyTs1PuHMnQxY2yh09So4UBcjIH5IXtKT1VJBjQBNJZqXPXVud9au3UZtU9vVYlhD3X3X8MA3UGwFkVFWDzmoJ6mSIwpCjp5PMpw2JhR8KnKsE69mfXfROC2EXX/SeT0XkAjj77KGlErCqHHEJAIAYJpfbt5/TFOsWRD6lzCalFfY/uSyaE8bLdNxfKKQDOL33lqhyJIQgK11dSR9+IOavjQ2My6pX//HKJA0nR1UbWg1s3kB/c5PQouV3yZ90bCiwC8nw1ZTjaXNDwoZtex/ziPAFicLZR9uj+29cAm27eiB8Vstr9j5NAkSakieYvWldV8KGakCyU6PJg4yCGPTc8un/rHcHmteKKKnS3YKAocMF87Bhd3JruhZjP+BVFuqX1PngoF8Rw8tbHd/pwvSTY1FeWMtyKyiExBCJDXnD9Tu9UYOTrpfeEc3sSbfKpzzxOVq1cl6dLcyIXfvu3fzsXbGXX6f9SLgXY5HZrOX1xC0pTFCLD7/cL7Q7La/i3bLIc+8xOUmmZXx+rImF4eBgF6BrNTMdP6kC+QNPFj/5qXodk5+KjcGAw0DiSiV5Rm9/wmYaeBIHY252xAYj3L396pTHrRoDGaDlOG5LLnIDFgMCBoiQv1SKD7JLKoq/4mSni/qYlJnUkIE6g2em1mTYANLLyyrlUDhkSo06QjBqPlDWlezjDR94vl1bW21O+GggIxgZ1caUO1/wANAvb42mDaqucXw0Iwsng0nndcRca+Ig9GGjVuj9kcZDEVjxHVe+j5FeCmU5RzxqQM3soq6CcFxIsgtVV0bTBqCnr2EdaQfRAkqediYMkUB7NLGfX24wCGXPWcYZbLqlFP4xAgsEkY83H+riWvKZv+M2viPKVFx01Kg2icLIx78VpbHR1IKMqrmKVQ90LFJJZigZM78nKy76xODxLxsdd3pxIFBIbbS8vA6PWADKPPmE06hCLI6AgRhGFj+9VNGa7Od0nnkRPq9bTfgJkQdspvz51Qy0IENPFj/K6Y8muiFkUJVhwiMptpxb0xJy47xMWnlnMkr1sr0wWWs98JJltRTQQYzF1MlxqcT3NIUhgwWBUX6oleQRT1okvqKspwn+Us9OSBcrjyHFzZTN6P4BpKmgkjUjqXO1ugbHabKiEhCld7oEvXHtBpfQvuzwKJAynOKpeH5t5EICpceai/bxDqoygpK7yv6/qqoRHzAI7a2bnB/mCFJJrar5ssii4Inz7xV/wCxBx3z2vdh2jrcNLNz9a2JGMGw6ZRJpA0yCheA9e0pLtFEY+YOUJpyV73WgbXIHOM+t7e8Y0qgjw0mrsXE5RI80hBI47LGmQMgfkT+0DdRXBPzb3JJA43RPXfThMtHzBRZfbSvDy6tw4gyE4GAyacrORAfoT999eCivSvxcXG+ThbOdc90cWra8Gl2cfNoF4sTwCjhGX2Jo1H6Yc7f5z9SRRMn8r0jjI486a3B8pDDuBli5BL25Lx3gCX4/A8+vNDT+oryr3Qr3fesGMgvPztmXyuDDp1RFdaA7QYjN0M11KcQN3fQDRyyizly7sTLRLp/2lbqiY6bO4RRMJ1DOKMI/HAlpqYKEd7Wg/15yTvVuAsAjUVsYTvfyn7q8+UFCU+TM7x0EichvGT3thraUAWK4raIrghTJFAUBWm0yNwLmIxXzSXz8bR9ToO4vtJJE15n3a02g+AVY6Bb20ORMzsm8QIU0RQEc6043Jq37K0eqvjSbH5Hc77YJExHF0n22xjXoCrNgM/XS3XFov3SFiCvt/+Yt+EQoIJ4PIcbyqLt/N6/3j10gI9p0fBbnz7Ovfu9mbRQZtfdHTK2xNcwFWONvRy2CsRZoAxPj9fiSwGC1sjb78dmnYP/0gjyLHPD8ehwwPDyMD3f9/Rnne5tUaAqCiKq4HzIUcQm4UJDSBTfnlsBBykn7/XHtkUatFum8yef+8L1suzeNASqc4KmvOxHjDz5uAhCbAgjOTVvd+ev9IhUOqTX5204mTicTO+i+bjtKNQApPe2lDUnmtfIcwIXoJzrixqyms90KjP/waCqF/0rEhmdDxlL+XMEbWHkg5X9AUMJhrq4HCIZTqZkpak93cqD82m13It0hS64QysvfkDfaXmgpqOBnQFDVm3vDbhPh5gfKEFlcnE7z8n+qPnf11p8oYF4SCx5bsrZRR2hmcvIRnFu8hOBkSoKw2m9szFkJuedgfzsLB1OYyebSksobZ+2asOD44ceJB8rBYWRNjEYSKZJG1ias7JstxP/jVEyIWSRZPJJX77vJWIitJAE5shs7sedxibI1ChTzf0FCkvrLYCw3vBWaEIkWSOCcWkZ0D/pjMyBIDk4HmguaM+QcWMSqBhcUov0PJ7lWv1nv+3919aYxzYvm0Mwj/m82FQCjp4vXS5nTSELxDApa9VYWlkDDsEHXvrX5QtckGDYkFnaKZ5bP81CgoaZMHcWNCbVXihaGntONPr+IqEDHaLg52+Ntuh3jqNXUtiFrZmtyy/cY3ruiKUPJz5p85sWIMlPCkP3Vl30bbo+hBqFHmZywG7vrmvHblpSpbl1sQu7LTPE+ntDqQDDQXtP6fQeYIYFkMk4fYsubMKq+dhU0NnQbBoFtrTPKTLAQg6eKNorZ0yiB7h5BhCKxxZmLHmB5O95YTHPQStj2QZJ1t6MxzOZEvjLzXaB9TX54ZgcxjtBiPJq3tdfO6t6pA/CVM5kSz5rw/WU/RG2DEhYcT1/YcpD0KGcJiNHnlwRP1VkootzQmdaK5MIfvMr3i+EDk5przmzd1fQS0DEFJw8zP9ZLfJMi2SFqiQbmNg10kaxGI9HBGQVc8s18cgs1ITU02boz10pNM4BGlgWTr5CLxIs0j+EPIrQdHSFVhhSEANpLRXJ+45v9u3jEFA4zKnHDWnHuRUgr9AULe6I5/3XELbYoC2BCagEmrD36Pd6KAuRKdDcJ5a+rPphKWAgC5ufrKQliIYDBJUFzj/K87uAN0kMQRrrI+65XNriX9ynTLuSZ46+U3/+bRIkpiyFs5SEwEALIqZUhY1JQaQZLf70fI4tri5/RKG4gA/4hcOzw8jBaUrEaiwuYThgJ8dAnG5NUAlZ2XwMNYCxNv7q3yRlYoBKL2IB6x8wpluhx/+Hit42/uPiECHh0Dl7aYTrwxJXTVojtOPNtgaptQ8IWPkpZU6qDAEAQfiqHEEb6qLueFNz0YQf6wsS0nHiqJvlfHgXkkAB8hk0BeVpPgQzHq2SV4WS8sCMmVrDNH4kE2ioSljQePdmk4/tau3pAGEEMoq6k//taeFxJAxXCJ8kFA65ar7Y39oENVVA+K4DQhCXxGrSg7ac3faux41AGwiRUdL89XI6Ct0MIhQQB0Pr2nSwBEtEaQ5OEX12Q9KgdYOE339mBTJ6D79Ni/D9YjA+iYsuLnbMcg+t2V9dkP5NFTyqmx6/VxBIQrJ6ipBMCx96S1gJ6qIGIJZbJ2L+3R+2gWLrbX6dRJaFzZpekJwFFVn7tmHQMgGqVN8rTlfaux48Fj2RdndNy/xZkjCWkdFYeEgCPaR3/kdwkiojXCJI9Q48x7EA+w9QWjW6/9GBEhu9UOEQ4XNAZugCdDhtCo0tg+eD2vBymUga6ozyYPCx6cDmCTecOh38ZxUMnDh//Df0DPSyfwVAXQ0OW15s6Qr4/A+BOxOSeTV/0e3HuAlYi6c79pOQjJOzIDfQCNi+X2xFqMFJAe8GubfSP8h5frAx6eN/J/m5JkA8n4HGyFiQE0Amfw585QGkik2Qy/z9tbrg/2vSp+nFmXkNC+NyZAqwOGEw+mrATVVjQKJcrAlDXnUgfF5TouwIJ5Q/nTrDcpObRHIlQdAGNJZSl+lG82IwJkmkKOcNr85ozF8PJc64+M+XW66cE8krKo7abIEAAj2SOUN+a+PpTIqMwBAmfJVuPJcrzIK8/9ZVr90ElMTHuc9qQwHMBi1R+icpos4eDUZKHSBuVntxybAWxbQa/9ZeYFg2k9y45PrXgSsOCyj4KmgdJGjoKJMIxbXFeIHWOX9YoOD4zw9FjLzzO7g4lJ3T4fRooyABbPLGtAu6sRdKkcb1784miRjLLQ4qg94Qe7jAd0NMGI+WXmB98okvMfPHLFV4wgpPJRWysygEXYBGyorDKUI+j2+/1oIaOyHOLh/69lhABsA9ko+n3qatA0PDyMInFnUL9prS8FijZ5OG0pqLfU9ZiX4DSiNXP5Xan8rtgyTgGNnc/HlT/PvDtA+XRv+7tsCSiWVBeTPFGVlSQIR4/EEX5xdTJ0Ai7tvx1R0AN+m/4BNwqpXr0xV6iMABTxo1xFY5FmPKQIi9HiYvwvOVh/KWkAO7Wgz///1MeDFLKd0eR9m1GhBon3OvsGrihM6REvQYrFUGln0obkuuriUt7WVshQPJn65KASJ96hM6Y3HC5IaArrseO8zEGOEEh9NcYQLWsppAwJu7rW43DGjMMJ7oeZWwXVlffs9zRqzQMgMb9PLmrP6EyCBCrJgITqKu2hdPGjtWvXlgLsZKIR+/+px3ajoKJTpwa9cvg5DkBED6eHhEFVdVSPWViR1bVFZOy4QOe0165dOyGDnVnW655PvkFgSXJveXdMr+gLAMHZDqMCbF0hMURTBKuRZquY05/65WvXXuDkPLbVnoX6fnZ3WCGbRrv++P93BIiS1lROb7zZwhNgEQ5zBS1UjI9du7YRYCcVjbnPHB/xRoHlY7veCq+sHAAQYSFY56yaUIxiEFp3W16JRwW4VmN37XVvKOmLXtvVW/PQQklrVDk/QyvBg9XUjQjSS0pEg8xK0BpV5vAZbqW2prh2Y97YQLe0fDM3Bi5JEs2GLXIgWwCHWmc+w60qc5gRgvQa53/dwR2gh6LAjBLFbZl0D2+8MJ9K0Ce8mtRtOW8U2W/+zb95RO2o50bNblQMwCFxhCttyT5likK0IVl6YaW1VMYYF0UGp+WxnLeTmi0nutD9aS6brVpjbRKgwWboxfrYRU5KjxgCb4agxnyuwCUfu6RyBm7M+s7+j+CFTtmof3BH02sjYHi0aUOKPI8bARhNgJnFU+tKB6stTHg/yTyaHwPY+hbbLX2g+QAY0tziK3vEQwAjFoJm2tXDFbfSVMs7vVGAb0W2U81CJQZYsLPeRYtrSb1MEYBTDLTLiXHpiYOU1KuvT9T3FyCGsjQq7j6xtNwAFBrLy+eS5wmrIcZRskFObZq2nKArnmspae4vgUycRNvJa2RkDqCQ3afm9KlmnByCmImBRCl1qgvb5LZEjodnP9jlmy6IMc7Z8VtIkw4gwc4GyZ5oflNELyMCcIoCF0rMyUwc78poKixmjPI1x0PlxgLE0NlF6d0nTqC9AIK8rJo6JMvzo6shxjLQIMfPDCd3/Mi0Xd5NG9eyaaNpc2EMYlIXTfYfw1BbgoOBL502KJlRcgh5xd1/vMVbRI+RgVQUWw9Olnzm+1L78/uU7BGRe2OXbzmRtcXGt5/ck0PXc1DjN9uSPAAHnzp1WFnQiutlSJDv9/vRY2TUVDl/1MxY10fQ9v5sXfbH6T518f5Iub6ArOHhYXShPA6TvSdRoCUBDNRFtRRPVJEXHYHY02/EsXOAqa1OlF7lHK/4LOc7CT6Yy5rND1xjEFuz+dFj2NBJQMFAcWsq0cOacGIIYkZKZmHlOJyj9DTZpq469I2Od57UpjfyBmO6Nzb5tgtidBKScc1QpDyCGgh40ksfVLI78L0IwGiG9IQOFEtHSJ92HoV4zY1dUW9jtj8lqFYmTj86xPAhTY6elGa5AxCoimvxY6LGER+BGMvAEhw9M3DscJboVc5izKte+6e70f5QobGhfTw/BrGfa392GYSf6wMMdPPGM4vzAqsUH4KYiTAFQuWQ0Ka4yLu0VYxxx1t3RuPtAle86bX1kUNsGy7bNfU8f/HRgIDV1EkbUgqbECcDAjCaQRZHQzK2w6U7fR/9Ds3r0DcwdsY8V5k4EV2k6ar1BYihvBnFzm7DQIcLAoqSakSQ5cyFIYg9/RrMnwpYA8+znco5jDF2aD7nwYfhgd0Sa6P5m7ndISa20e360m2oHkBApzgqak/FegkbHzsvwCQDYfL55v6hxZBu8+rqrnD7u9Xsho8KXDHFK6ti2wWxbbivN73PUlAxCADAlNVJGpEqqwUWAQIwosXi9IzthFdHfcf37JpvKc6YW2fkY6b4sh1MubEIMXRphunlOYcRAwDQWFGeF0a81KAoCTGWwRrCHhPakq9a7co5vFSHttaWuB0SuFeeW/+iKyHGxuFwe8QN1cAj/Nql4ZdOGoStgnpeUSjs/+Uv+kVo4QiTy3X2dX3i3L3Na2tLw+3vVgpqdnM8Sv0Tq2LbiaSzr3/vZm8WbVqPta7/Wp5qlOAzZh1H+zlZUZLBJAE4Q5GG8NtlLBte1nuV83iZfMxtkVIBi6AFH7V8Pf+eUYR+WTSr3566Wkcl+BorKgEzuwYkEIizFNZR+kDQXHF16NLcy3Jo6+3qazFDu5VtGdVvU3tCjIqj3wMxgjUfCD0XGub0alndSC8jkNGETueGB0ifdCRuOPT1ZWHXzmpjvhgd4RY/tSi3nBDTerZ7/tctg9J9CTyj5SRoiqRsxSGIMRSqCX0GMLHjdbtDXcXL61avzJr+UFbY0Hw3OwYwZOJpO9tnNbIAYXe1VfWFkOD+CyMQZwlNwdN7DE2G9Amvuper7YPnprKHlcbfJldCDF1bkfC1lFDqB4LugcWOcVXOGIsgyFooPRWY1rvudMQ38XLzituKcjPWwlXPLJ8cZP9b43lPpNlI0DXnNyet+Tu5Y4oSIFNT5iBgLPfq2KV5lg+3RTeivHuVDVnFDzNjEBPZGDQr02k+RMi91+w+LauX4RBFIE5TagHA9pXutenr2ENnzCvPVyPDsOE3+0qI4Q7yvJdMSu8n4GyG3qz5MGMtDYGMouxJADY5M3DpPk/smrvv/GDyaqClsKn6eg5kn2f7socW7EG49XB6dW0+eCK8FxHNq7qqq0KICWKXAcaMV22H7vMEu6Lu/FY2czAq/3YaPb/gF/wC9KFrHNE+t3IiX8HWJg/DQmhJReY5i4ff70fHte0E9FNmRk7diz3mFY8Jpaau+uuf2r4xcoaHh0Xg5+p85RiaCxVqN8fY2zv9Zaedb4+AjCLCvoGx8LLO62ueYdeOJ3I8UtGWln85D7Kv7fe0TYA28BNoT/FGFnTJDCYJxBhKzIfY/jK6S3VjL/KqT2PlA+bCyqd2kKF0dZb6yf/19wLt201bDv5DmkCISTYUPQbUA8E49mrbe3fglL+hpiR/6AQZ7cLlfp/Uc/FqQXZz1bW5T/E4CcRoBjho3Aswzp5lHfqmVy4iLy0HThMtTydBhrLmzFEkY9HdCrJOcTRnDlcXVgnITJQ4MxxuAi02zYu9uqbrRJm0tqctanwFkDEu7G7OqWrdiCBTF9enrgRcfJWiCGI0Q00ocV+hUXmiOeIXvYMd6kp1XTEkhAxPp8cghs7NmbIkn+AnxOZFwNsbIRAzGIhJcLQOZ7fq67y+7qVB2zU1ZWXPZDmWP3CBzKfz+TmFN3dBgOmzj6asBowsK0HsNxvk9L6hkXMi2uNb2NsO1bOwMxM7zCvvLYEMXyVyaeUVAuxNl7SmaUISiOkZHgUHR4AWfXzLqa157dwG4J+6uK/exfYE2fguMJHQDwSXxXwybSmos8RoiiD2GNuk7L7hKJ5z2BI3Br2G7fpa5nAyq1tV/m8RZPe58OEdzFMXBNf8fjlrIEYTADKOkbmwdxAw0XQccekXsffPrRM+mboYopPjiu15iCEdRyPNOQqtbzdlJaC2i0RkL37xiyPBSfEjciczuSlr/BqvrfUDbk1uxPuEopq04u4SSvIfPHLFVywWyO6+M2ALgcAqbU7Gj/EUA2KDSI6BMqF0cDhefRR06RdxPw46Eld1Bf3JS35j0izfdiJETLcxn2FmEFafcvztB4zj6MIgsxvwU3DHW3Mz+uRrTs3XH9ihX7SefBwT5IorCn8DZGi3XYPB3gTVkqpieIimTFGaUhBjGWgQa4eAEwUHu674Ju7XQT5xtbm4M3nFb90z/yOQ4TxGs4Gg+qmyihrNGALxVoZvxrc34aa1e2+7NF//YF7fNJ3eiQuIRcUl5d1FkPlYrbeQwjsKKHVxLWQSaawsQyiIsZRgherBOGvy4afu+Abu50Fn8paqvD1lNWDbM8u2XBDDJ6sQENUjoCIDVEVjkTKwBOJmRkzjW6eCdtneu27N21+YVzf0Z28mBKJF+SXlvUWQrddt2EMrvaNgYu3tuTNA7oAMQRCjGeEWqgcF44HQ2r7/3h79tsa5+2Z9dWP6it+RNMs2XRBDUT7KKcUEwZQ2GC3oTOmMLIG4iRERQv3EcLI8dbdN8+H+dyprzOXrST5loaOsur8Isiu36LdwWgt5BNLrnT1P1BUSLEYi1GzZ+XW/TnA2Bo8rNHYEZnvqI17z+sAa197tmtpi4ELInrQ8RkRYpl8cx3HwiY9Dv5uieIKfMMrvjGf3x5otLEOgCPn9fqEZGZkpVteBUwsO7nVoHuyLTsVHX72e7FMX2iqajcUxNGg0Gj5BcertBj18oI4giG59+mJIXlY2oqgEMStFGwiNs2fGDaltl+rxiT3cu3fKG9Khs6RdN8s2nBDzcRj0EktLAkNBCFU0ZM+lslEjBGB6RiwSyyfgpmOOHnRpbuybTsWry7yZ5I8VWavN24tjAMOjazlskUKtJoC6+FF4CFbUpwxYlAAmWQm1ldjYIK1rD+66NK+P7OHaf7+kSY6J0FbVKlt3Qex8HAbNpEzJhSEgfBrLyxdtzEMMQQRgLCMUYn5dOD3zyN+nLmNfdcY8LfB2UkAtstZbHrrkj5wAQ6mLJutttoZWEzxXm+AVCttklooSwCQbYaYI9ZNy07KPEbfm9hmH6nOl3i9o4ZJCrDFmvmmI+TiMWsHfrCf4Cp3m/EaMn68tBhyCBGAsi+ikzEkzts2vj/oOti/PZ7Az5qa4DxNCWqG9Qj2elz90AgxXbbxdYzY+twKB82AzXNGcLo5hPAGYZCNcoNA8AT9dd0y0qRew7+7RnvwgvwUlTXCUMiG/vwAxJnFqvRf6yi99y8JGl9uM8QvVZegOIcYwshmlzwDsZ7pq9aY+vBsfws7oKgd24kJafl6R+mb+VgGGqzabPAkaq4FH0Fzt/H4lvZ+mDQIBGE2BnfAR/MGxOEftJ6ZdOY99eY/O+Pv5jURyiNfETIr7LojdvXjYCrwXfaVrFzJ0Tut7V1ZSHEIQ+xlNKHbWjH2jy3rP/nt341OYj61YrkPxIbWgoKD7bu7yAYbSOFrv34lXVi2PgOmB+oIeLdlN/mECMIohOxZSuPaROEfNifSysW/v0aXdKaqNpAR5WXRcsb4IMW+nfs/3uhtqjREujL0dPyaWV9PXJ1rVdf94JVciHIYBNVa3BPbTX1a799526Gs+hh3KsuOSjp2QFxbnWn6cuVWhBWx9/v29P/FBSTw7HV+JGqsqJlh6ofGl4zxhlnIjoiVkikEbEfO4zqE5e/VZ4mVjX79Ep/pWmROlBMW6nXHl+oLQxJlOXd7r+Z+21EpuIFS+fvyoWFZD6SVEAM5SoMHq9hnbqS+rXbuvPTyfww7Va9+9GeHdLq4oN/80vTvAUBxPy4srTmPNDwKlF2KF7YmkEckhVShKQsxEyflYOjh0VJ3nXjYWYNt7d2XJftKEWPN2XLmxADE6ddd8FJjtqbRWFyZGy9EHKq8VTSJ/YYAxFKmxsA03OuVFtStxfVAIg8749QjvR6XOouaXacUDJ8CQjYK+OSOHqoAJkl44VtKSjgpwvFSlaIQAXM9gIRIOAiYrL4pt6jIWZNv7lbpCGDvFVb82qTadENPKO1Hkadc3koIQMWedJHrF0nrBKLESwK5Ng4UdoXHSy3qXvjUojEG3cinC+0lZQ17989SeAMNbdL87jrMsCJF/Pi8CnWLjqxGAcxSWYf6A0Fp+WXVrK1igrqhbmcOHzcHqFxPKbRfEtPLEy8z2/2JAeDyQpBGxpIHXI5oA/NqaCDcOjq1/1ezS17Fg3bHN2KH7CztS8l+mVwIMX7Pfwx7FqCQMAcFR4yzMmsddQn0EYiyFVUTYHzAvuqy51VXh8IqHNsZnrYarXpqVD5wQw4+sOSsxtU5SaNhZ968WNwp3S0R9UeufX+pSgvgfWsJOBKYTXh10q24sYPeOL70nnO3W5L86Vgpo/MZXL+/yxApd3YzxthXR9ANh0QcMWVll+lKQlxoj4ub3+wXxMeuIsF8wUXJVd6tuId2OTcxMuLXHOQ7VX82NCWd4eFi0JHG0mW0RRPagFhRO0kv0CkXNEoshTRHEdISaDEzHznS61FUsaFfUs7CRSRzjFL9NroQYyuMPKT9KDlEfEBIDmsLGtGW/A9UpCiB2bY1EepLFF+UXJCyH6um4yo+7s9tUWlU+ngfZ79rM9ukwW1ALiCcdP8q/JBYBAjFpCpg4ZmbQpa5ggTujK7WV8dAwUvx/EmTo3Jy55jml4pmEw4AurzVlJdCKKzQhQabAyn4AVnyed2o+oX2ovpPC7PlIXX1hJchoFy6P+ySevakFQ4c4ih3nilpUFpEEYh9mCjAdHRid6goWvENZUdjogLmI8rkVZChtznkWaXbF4iAUbk6X25q6FDTTEk0AyBQ4th+gF50leX1dePjhRAapoq6EYmsBZFQSS94dEy/5JaHw00InUXlDikUEgZiBEluDsXWgqU1bxQgc1DFq2mJI/mFiDGLINGeLKoUSFgaB8KOmLfmtuDgEsWtrkJP3HeiVJzJGojPmyRjUUodF1b1FkFGJD7g6Z1UqKQiDDuk0YC7UWF5kMEEgZjZENgDGBpzVqXnQgPUC+Xka4rp8wwUxpOJod3FO61ldECypKs5YCNqk3N4QYxisljL3AxpLPrEOfRMRe5S2F0LDwPzccfkQQ6coDIR0ghBol0+nLQWaC5o0IQjEbAw/IRxtyU/a9XWMyA9rTodmL4QVuQ3F3UWQYfeT+x5sQQCUN2SDI0SrlJYg4PuMIVIk5vcHscaPJK9vogJjeeXBjLmwfsfyoYUAwDcroZkFyM+FBy/8648SgFMM9IHiEeDYJM5h07cwMnn9ov3UHzElFVVnVf9ZAhk67N8hoSkQX2FHLH6Mt8hxAnHOgOeC3iHAhOwo4NQ30YHXqMgHs2cJbQpTbLlAxiTe1Oh8d0Z4NkN36kpAZedGIba6SygfAOqBnMOWuPYFETLYun85y5NOaFc0/z4DMrrlzOS9ixJAeFkD0Uy3SkBuMOCx3MlRgEV2eN8Z38Qo/cLN4rtzp+j6i7783gLEcCutx+/kisMlOqPlePpSSGVnQEZT0inW7js0wrgpR/K1QaQ4tHVb6tXirvKfcL2flG05IYaOnfFDhkB0SR4hrytJGSiQmRk+mz86PmeTHdx1a+sYrbx2UQfuREX4KnNDeXcRZGw6Omy9oUVrExztaAfciCjtNEMQxBhGGsX6fuFYPDfp3n3r4SFmjXPv7cUN9dk3wuaEWb7pghhS3V7WrI8juBgfU9KaoQw0gbiVRsbxB6eANsX+x25tDaOW1zbYqzvJPiUnr6j+YglkbOYWG/UUagCxNRU2XoTShkbBUF+2/PN/vu+wjNAKtYNBUypn7dq7swdysCu2Xme8GTLLaD/qinWXj9VxP/6GbyABrWTQaxlNBJsltIGIICpvzNIGjoDR7/f7jpWSWwnNM0CrMvWxS1/D6L2I8exOpieeWJLW3FvyMY1GQwLIpt5tvRoazQWEJiuvRgYZRQ4chZieRuqF6pGgI/bgXqfmxSh2R9ca2BtRU0J9uqPaXIDYp7mNWifRd4uByD5l6AT65wwTJIhZKTi70NgQmptS227NgyRe9do/fjS/X8vwSo63dtmGE2C4rs2oZof0MBRIrNZZiPWJcgfFYkgAZmBEmVQ+FpyKPbjfra5iNLuiXrV8J25SLsEHmq2FMYChzHn97fra70hgncLooVTWp/REkiBmptRZhMZGGYw6vOtSvYj6UO2pT3N6lA/AKOavBrHnoLdqwSW6wmbJq6Ihk+SNfsvVBGAmSuRKxePD2fhDf4+yjFHtjHro9DtJYyjXXG166BwDGEpttJ68icP1ksTVJg/nRcjy+oQRRSWA/WY9pc8kNjdMD42pu07Niyzc8c5Tlv92fERq3DOU9xchRjt336zFS4uoNIa0nm7aoKLJ5hkMCbwoilopk8E3jsfNph/j3coyRjeveK0nHyWPEBmOourL+c8JMGTd7LbRDP+siGIIkJXV2JkXQdXOpEVSKAoB9iiMcvocGfsZro+dqW2n6kEYbnu/Wm+9FzstLOGOtY+cYwBD1yjmPXqiN/SERNXD6bndWqqL0ZoZhgACL8lKuFChfgzoWPSR6lAvYJQ7NK/r8F6SC893K9oXdsWGC2LPIdquxvOUU7Q0kBTlOIgM8hWVUC8jAjCOEUqUODWwb3x10Lv/0R5Iw64PFxhEREyLpcZW89dzigfzAMOzb3JyxQpXAyCoDnGU3aem91OMQSQA+81GwgUIB8fhHOqzqFs5j9H+oboTdxd0sKkBqfGVRbnhghidhOtmzfRdUonGkNNzj/HzS4oFTobQaCzeuNqr9QEDJauRemI4Pf7qsO/4Y7vuQxzmY6uWT7cjfQ+KbDXV97O7+0gj94Pd7IYgUNyctldX/HBds5qUHljWgJLZSxmwJEHDJ6+Nwfx04fjY123D3jsudQUjv/3dSnUJET3LLn49oVp3+QgwRy42aqW+c3yjVUiprroQGWSb7LHrIwA3MFCKpGOB6fCzdK9yDqOfV33O/Tsxo/7ckpLs25k9AYaMDdGwJ/gqJUQ7IyM766UOSdldjEmWJIBdWxNhxnPdE162XjWvr4kAdu0sUyZ15q2Ikhw2fT03BjB0ij7UfdxnDWQFZFTemA4PsUZDniYkgbdkJvxivntgaC+4KHYq57EYrmnX307tC8/3So0/Tf0FiHk797v+R8mjdFokZDZ34seE4kbRJAkSwB6lmvDbAOspL5sdyVcd+rooYEfsgourB86BOnv9G4wBDMXNcHjepgn0pwTUxRulzZnQQIDDtETgLekJl8f17zU0N19W3eoFLI5r2tXXKmrUyGlU/5Pjk0NM69bteedZ1+AJ5GOwHkUEmZoK9fkSgLMUKgh7GmA5x1WrK3F1UCTwHs74tTC/v7SqIPtqbgxgePfifIT7yvMpBgPpdIinhR3JqDFcj1gCcZqwSXC0LzjhAkcObQWLpjPm1tnyE+8ELXL/FUIMZdE0/yy7dAHSefdzpwlNXo5FACQ64/7t3m7/MBTJKXN0YA68Pu6IXxwUD+zSLmX0oQcl+3rWB+oeLbyjdwQOdGp50nnOJ7plsmmTBzm9SqoL6GWagNTv9/ePjjBBADv09XFbfGMQi+ibaucOJ60G1LkNxZfz/Tc8PAwPJg7mKx+0qDOQjTa/MXV532SqrYbYx1RgZj/ANP/60KV5sKjy2mZ1dWxehJB/PQsyPPIiPzmRqDeQzANLGuEL2gQOIQIxijLbwfH1rrvtmheLrFNdDw1Gyhoyyi/nQSayMWxhwUWV4GjIZaCxojR5JdjGH4xAjKYUB4x7BbDGq7ZT84rNeWhrYdztPafclz9wQgxZG43n+Rz/gFycpB8WQlVO5asRiNGEOxXAzp45/e1YdNdk96qJg6L661mQocxGisKyiIYAqayqaMgGTgcNEiIQu7ZygF0mMMxXTYe+Jj7YzTcm3vKr8huKTRfItsF+lQOFnZCKg/YD5iKKwjRDIMhoLBwFGIEAc6qrWITtuq+2TAqchKofpy8fYsjaWWFJVOgPhHItcaO0XgYEYnpKRkJs39DUe1F26Ot8hO36elSIL2xNUN/Myx85IUalMeS9BFdsmUysxpMpKwHampcgRlNSg6IvOe28aFfdmJcdiS2tVZ2+ErRKQ9n6AsRwd83eto8fQyJdvPEnSlri10cARjHII/VsADsxtDj0NSzOg7bERkFPLnKY0/08szvEkHWRTiklkIisrDzpZsCGyhLEWIar4el9A+NVZylH/KJY8fErFlGbvUzUO+rK/y2BjG65/WyfALoAebjQMGAOryuLUpQkAJMsKH4k7nQcZ7frG9csUnjQHl+rKcbn+mn1s0n5hgtiuI0agcJDHyCOvC4t2seyGBLIXupSl/KSieFx3GC/0K49UZzxLSzavLpuPriS6I8taNPMP8/KH8x7r3j0zYgRxMK0Y+G7Y3ajUkAapqzjWfMhtUMjEGco0EqpQ3B63OeoXVvjtTXxOs8vUlrCwTcABbvyu4veI1pR4k1ujlACC4QRFqIWtqdogkBmN+Cbw8763AybvO7SfFjEedVn379V3F0J8zDss0n5tgtiTOp/my/8HAPIQl1UmzMb0Vni7xJiHItUyulDQiznE+NIXB4Us0GXdpWRiYhZoSS7rv73QxDTXkLnqytsqMYekugQT2fOBxVlDYYgAnCKgQ4pdxygb8bPmJKvfWcs6msc+mZ1/t1Qn6CMmuT3FwCGdBbaBc7P8EpjCKK4LRHj5zhDnCEUxMwsnMy3jwhsZcekO76FRd6peE0nt1N9qcwe2frnjGzbCTAUJ241aHorKxdGDibLyZy5SH0hKxGA/0NWyh8O6sH8tHP3Nq95xW7QqV9ptNyLmWLr0h3l3SWI4SXUPbln16sHEEOCl8vtTX59AnEbi4zj6+txM7Jjoi1+cVDsMK94XAd3i3rK0V6GfmdTbDohdvfMRpuz8TkCDAdC0BTWQyeRPI99wBB7SNVi/micOfoYfx2DWPQH3bEtSvbHR+QFtK7570MQQ2lrtD2+44WrsocQZs+Hq+oLHOElgFGU6AOFMwHs9JyDTn1yQQzA87iUzfKC9+J8UmPCUKwvkBhKUi93/DzR4RJBZX02boxT2XkWUwS8lY1/8RN+gkdGRqSLleNDR/pxqF1bxyC8ptbzvXi/mj0gG59NUzZWCFP75fVeL+Gsbz19UzeUE0jAznqBM7imuGVCCsUgfPx+vycMI81S/rhg/Kyc3XW461TdMMCu2EZj1ifxk2L5aUd1f9Ebw8PDwEFZ4jUP7/iBjpEAcnqUTJeqzZJGCcAsjJwjFdeDjtLj8FvFQLRr7p4DkNuXTfXyTe/NHwZitHP3vSePUSzYGe/pcluRQbq6DNwtARjHyHoptw7nmHRMdGseDEZnzMuIgdgIuwC01RsLEENJEu0O7ySGikjNcz2ccbuXzTFFgpiZgR3FwvrAqj7e/0FwwG0fvGXFHycFpLpdQ7XlhBi6uChxciUwSwQ8t6SyGD8mNhQwLIYEYAaG8qTCutAR+gl2a6sYkLyy6j5BIWGqcEDTPXV8aIjdN3186yjlFQJ5rU0ahIVgcWvSKiUoCgDGUMIsJzfLmE8AMMdxmNc9kMDuD6tK425UGJV96qu2nWMAQ1k8615cD90C+GxVWXM6eZhV2wSGQAIwI0VxYu540JH7mevQljEsO9+4M1u2032yOjqheuiEmMjNpY/uHJ5kojE8ps8+jApyJbWkXkYEYC9NjuKnzVg3BUbfGXSobmDwiseSjgSFcVVFseWn2csHGLJx9Dy8Yy+pLAwB3uriR3ld8eQhjjWoDAYAoxliGQqUSkfPGPKjkFu5gKHZ9m65rhBERpi6fV31aB5iKF+dc9+dMY0sgbf+09NoKBJZBAi8JCOly6XiceB0wGm8TzmHwflSew6oiAAqHFCUP08ptp0Qo5K58PEdq+b/vpSnHlj8qJgxINiEBEUhwK6MwdJkYDtKuscf7e8JD+yMLjP8g+DpYMVZf/cxgKEkinZHz2xVaiYMBV7q4fTq2nyUDzRlCwwmCcA4wmSI5cNBW+lFrkM5iyHa/na5qJ6Knqa1cZPq8TzE6Gx4rEbe1y2BkQfw0uOOCnAl9eyrJ2DWGfdv93aXwVGgxPxpwORGmWHfadiueUHi0HzOz6FdIsGapqzyq/mVy/OO3tE7ghH+LnvwzFpYRcGfhzrEUUlrKmYU6KlKEwin5ZR0DEUI9cNe93SHOy7lgkPfBAl27lygs4tz5knZ56Hy8fzyAFra/NDqI4fS6gk89NznzgB1XppFJIG3pCe0QqgfHNjDL5s9ylkM1Av17IYyXHJygB/7xhCjEl9y+uot0xyKL+UdFx6mDElpLtYqxSgGAcZQqKP0xIz1qOmuO/UJr/mggh3KquVsO3AmWCkdyrZdEEMmDtvxG6ZMOzwanunmjVpnKSgcoozcEAE4Q6hC4WBfcEKRPmmLncNwde2syktLU+742SNM8XgeYujUnFUXaUalN+UZB+2GhGFljaaXAAE4Q1ELResAyzmB3pd6fw1gBl0H21F+LrdPVW64QKZ13q6xCiskDAde6RJGJS3pKB9pwKIEMR0DEfzxIdID49477wtD1qF6DWdvzVgIyqRj2aYLYviY8kpTKyxAzSctea1JawHOUh2iKQL4u+T443sHTOngtF1dwbB1Kr7Kxvyc+ZBr3yx/6IQYlYXnqJXCIgoBPNoh6QleIbtXMsqCBLEr2wKMrZcZOpOvDwIHtx69FRFExY1pxf1FiOFIetCi1Fwzf/RCvb6yOHs2wFBWIrCWF1y/0zslhJRynXsLMCPQec2DoevQNsyW7sQ1fwvf+55Lmb/9xK/5NZBC1rqd5x0Y4I0O8XT2fKihvLAXAbbf7ydET8ERAPa13ckbGL787msF3dnQUVr9xdJShoeHQYWS3siL4gFf9HBGfmc8doziME0gxlIQyPUPnzHMieuDABo0fbweGqbKCiqK9UWQaXt1RxhPdeAJ1na43d93rMZDmgCI0RSYuME9A1ghMC6BIczHL2uKmjv99VPLpS7fdEEM6Va0hoMUlgRe+JRRfqaoVWMxRSBmIGADONwYjLXqlzGMrQfX5w9ocV2Ken0BZOiYewaPEaj5oK46FzAbZggiIMuHg/uYGbNkRnx8C0iXYE6vzL2B6iwN1eYCyHys8jGVZks80MXr05aDyqISgdmh4GBOZmRNXMJAHrTv36quzQUuhJ1HE7INF8SQ6oyqNcFhIHDewJdKHRIloB0HWrj4lWuGEubVNePH62mjsQxnsmnbOQYxH9t86Gn9qJrraMfBDn/bsRjbBGi56e6XHwTTGnfiTdpWC1wKK6QT5RcLENNK8m5d2CEpzp/jOoVRyCQsr9MoCqBmjF92amsYzrzqa03dKGqLhnRL6i/nIIY+vfJRskhH3Q+4ragtFTbBUAwQiFso7vf73ZoPQ9oZ8zEXryVMyHllWZChOPHua/1LigOn2Vl32tK+qiBPMxpiLANazPv9/hcLqjXu5O2aCm3uCgkzb+lar/eTptYSA4d1c3qMjylqT1+YAFxqxeImsO/3+zGsedVrObyZ0w1ghudjl4/c85JS2Bl31VeW5swBk7HKEgZiJkOkgGsdCEzm5l5tNv2r2vi3wMLuHU8Tf3uy2RJ6MJv86LlbBRhK3Wy30aI11njOctBecARUVynnlQD2M3RYWocbjD8vmRPXPhmG9hrX7u2iOhA3RTfvYYp7ixDzlvR7hbcSReEMXJUyJKYPqi1GaoTAm6LQjZWJsHcPDfsfdKhuDO/bsZ59mjmSTq9Oan6YlW86AYasi17bNVtjpYNBwE263OYus0BREOcwIwHMwPBasXoMYAs6T7uTt3htDWB2fa1LfUeVI0fOsA1ZB+w3zocKsE9z7/fWr2X2QI2Bk67wuxc20xcmAGcoMCD1tLB7Vm7aeHDPpa1iiDtUD598Nac5MN8rNX8wK+4vAAzpJNi8F37ZkilcgYuuOM4nqW0MQyiI2RgeIZWODmcKzlI9iRtrQIad0VVTBo+ZUPIqMtqfZ3cHGL6AzeGTrPH5PjjIYD2KDNCVVTxLWALwp9aA1JPy+s6nCT5xhde8GOZr2rW3FpfS0bN8VXKk/mIBYltx7Y0qz1u0UBYezunhsJhxdkFvgjVEGQIAdl470rbgTo/FzzQf4+3KMoa6Q/XxyRtpPTsZrWn5b5OKTRfAkHH+gJlnu7HWwsA1jRXlqAAnK5T1iJUAZmLEAjl9XDg97yzZFb/i0NfBhl07KwaR2WUJVZSVWn6cvVWAoSSePS6uKOEqAxxjZ51YH5/fDPcmAP8ZGiRvAsc2OYm74lvfGcP94bWpN0qcIG5KqH1jUm24IKZ16Qyz5z2+kR1wS35nLHFU0mUpTwhgH9ON1CQwOgLnqPzMd6grDn0DY+z3++G16foPh4fxRZza5Tj33fyWtPyXKcW2E2B496eSfLZn01oSuESX24obZyuqWT2iCMD1jKyUY6cE9vFnsU59cxB02Blz08borOWIxtHUfj93qwBDaRSd7/bwgRoAh7RLp4kj/D+wSTmKkgC7MhYpOwDjKNDqPIk61WUMu0G3slXQSH6I+v9b/wLE0Dl1k9mmo3Uj3FFfWYz2s6pcbW8CcCMFWUg9CrCnnyY7dN8g8PCgK3YxOLBd1pxT/ji1EmJUFP0fSzytQrAzrjBlnSSOCPnNQC8jAnCWwUYsbwrMm5xnunWvQ99YOuDwNWmtyowl3GLqPJ4xgKHURbtZCa21aY4YuOyIEG2meZqQAJOMWErImO4nnKDOEl9rBQC7d3w5bTBlVGj8bXIlxNAl9jyvOYXCDbhBm9+M9jN1pQKHIAE4R+EirBwXWoMuCl3KMl4RcKju7ovyjMVwbV1B+fUsyCgbfWZbCJEZDAYucJJB2pCc5A4bRUQAfm3NRNguYz4WNPWBkl1dXSHAzqhblROdvRha8sS6EmIojqPp8x5KjBI4oBcasrLKvDBBZ6XvFmIshblIOwAYrz6N/zu8YoDdO56MPibVKyh/nQIZyqPIOM8pRH+gfEbL0V8uqxP1EiAAZyiSIW0dYNvustmjnscrCg7N685kx9/2y6oqK0FGW194th+iqLIwHJStSxjldcfCJqCTr4xAjKZMSMZ8H+BY24nm0L0rDJiPrcry2Dmz4cZnNvkDJ8RQHEWDpy20xwmUbOD8wZGIKk9lMEkALlXgxL/JPtXalAsOfWPFAbuintQhMcXLa3+fBhnKm9OoSlczAJSLJ4PYcX5BF2cQAQE4TSmjHD9dxnyadK9POY+Xu7zxD8/kmcBr3OMnn/7TX45BGydPuB1UlVaV6y6Q0YnLHvYJFdejVKtqnMWA2ZCJZmkCIMZSUJwx3deM3nIivf/lg//tNDjCgZGI8rX1WUIMb8D8fg+JraREfcAwWo6DpklVUeGHEYirpPRBwVhsZtSuXsArmH832aumeATuj2n5QyfE0DmKOSA5KFEPZ6QNRZM8fBsojkLMwMitgOnInLnnE71mRcMRv6gX4cwVoHI0lHcXQUan7nB1TqvVFJSnuaARMBfWWTSKEATgDCOK5Px+gF77ETq0VbzC6dB8tbn3A8NA88EsW3dBDO+75uUZDFZSFicezlwI1ThzLAIE4JJVLBwUmCbBiTbNjVc8eW3dltxKHo+luqPWJ7MPFWIocZ7KKIVHWRa2J+eFkRknJYgZDZFAoB+EsxmOQnhFlNe3dPKDoDlSkdVS/G8JZHTLu59eIYXmoBycrT1jIai2i0ME4NdWL5T3BbHio6BTc6+QDPKJ6w017cBJQquYZfcXIIZs5i1CzeBxB0GEhGFRW4LFiEDcwfATguGZuclz4xVTp3ap9WI/yReb3ys7nzpk206I3bHz4T1HKENQhrqqQnCEpI0SgbjBEIkTa4eE4/KDHV7fWEFxaOu8uq7G22EzTANuK+4+BDH0bn/wRFJqAopnp93xt3c/oQQxmgFOqN9ngCXwDkfi8qAXlhT92ef6XPAK/Wn8Lu7CE8yrXn7/7eqmVtAkQesmxaYTZJJubxBqevAEhUseFjLcmp5IBOI2hp+Z652MczCpbT6+ib3o9/vhNTw87NGgU9sypHeSglpKSabp32cghuJsOEwfo2Cl9SiauqgaOIs3WVgJYnoWyRMaB4PmRQfbTn0Nr7DgQae6ITO+Fxniqy66yntLEEM29ebTN4rW2SrWqikrwYaK8vMjAKcY2Sk0/9oEzm7ZfZ3X1lZg8OW5Dj4u6SyGhiGtmRUbLojRScjWW5VwzeRZFBQqvzOe6BVaTCyBuIVFJvOH60Bb4/4HLm0dQ+LhObQ1Lz483x0eHn54y+Y137JdipcF20lBKc1e1NxdGvO2N5QP5wSqfDT3fzz9St78MV5UPZzrb2nSrcfPs2ZjKRJrO5q6ErSauhxmIMYxop5vHCgztoCztu+9vcY7Ov6/XvfrFiWH5nadt91X4+4rzOO2K8N2YbKcmy0XZk+N51b61MGcTnrs+nOLv7t43r/JN/kmOTuP3eRNfpNlNxw5649cy2w4dMpSS9nYNrOqkwemG/ceXnLwmYdef3Cmau+Rir1HPa7ce6R094mC5DOFyac9zk88k6U/nxV/3uNk5RXPU5SXY3a+GBX9ksfR0S+G7nw1+N3Xg99/3dO5774x4+13Z779jsd/fuLLH3hxh2c/3v7ZTzw94Xy7f8w9+XPu6Z+Xc+7pX54wy96fDY9+W/f9WwoU7meKWrItTPjiOkJ7V4dpj1sIMMMD56WNvzJ7yl+bbVdW47nDdD7p6Q/Vnc15UfXZpfy84OnfaDheqjs8U3d0xtO64zPVRw8vSj1annrE40X7j+TvP1Ow/7TnWYnnPMxLPrdh4vlNEs/H6C+naC8lay96mqy/GKe+Ehn7QlTs855GxL4YtPO14J2vej7z/bc8nvnhW6WPf1bq6GfLe/Kr7+z88gfbvfjx9i9+5PE2L36y2bNfbv7sFx5f6ExPfuvpmf7/282e/Wrz57/yfLPnv972+c+2f/lTT7d/8dOdXv148uvvT3r9A49Ln/yy/MXPln9Q9BvB0a8vOzj6jbmxr0/d+8KM5Bfn7Xzj03/6DxgR+3KU8iWPI5Uvx2lfSNFeTtZe8ThVe3l+8vms5AseF+497XnB3jNlqcfLU495vCj1+OLDP6k7ftjj+uPPqD4vKj8vefyMdWfzXjSeT5nOHZ7+yFLV1bc++lbHcl+6Opaq9hbV0XBZFOice1/f7sVPHuNjfIyPcfPnv/Li5i9+dZYnvzvzk997eqYnfzjn019v8eKXWzz/padbPPvl1s9/vuPLH+/w8ieevoLJb77vxVnvvzP7/bc9/Uhzo9+cF/u6x/OiXw+PfiVW+UKM8kWPY9Uvpuovpegve56dfG75n+/E5HMnTj4XkniuePfpor2nPF6493RZ6omqg0cqDx71tPrwkcajhxqOzniuPln0WHWyJF+422Isb/ps/ndZL+3WC7vHtitb2/WE+9rs8ctfe7+KKwuObJe2XXekTV7suDathe0JgDEOYmsfoP8fwAwBAA==)"
      ],
      "metadata": {
        "id": "4rmmcxiyC8Rt"
      }
    },
    {
      "cell_type": "code",
      "source": [
        "control = data_new.query('con_treat == \"control\"')\n",
        "test = data_new.query('con_treat == \"treatment\"')"
      ],
      "metadata": {
        "id": "ZE3Hu0A0SVzW"
      },
      "execution_count": 55,
      "outputs": []
    },
    {
      "cell_type": "code",
      "source": [
        "C_mean = control.converted.values.mean()\n",
        "T_mean = test.converted.values.mean()\n",
        "\n",
        "C_std = control.converted.values.std()\n",
        "T_std = test.converted.values.std()"
      ],
      "metadata": {
        "id": "M7TJrx6jD1q8"
      },
      "execution_count": 56,
      "outputs": []
    },
    {
      "cell_type": "code",
      "source": [
        "print(len(control.converted.values), len(test.converted.values))"
      ],
      "metadata": {
        "colab": {
          "base_uri": "https://localhost:8080/"
        },
        "id": "o6jkrvmvFEtJ",
        "outputId": "5940a193-038d-4398-962d-15610cadffc8"
      },
      "execution_count": 57,
      "outputs": [
        {
          "output_type": "stream",
          "name": "stdout",
          "text": [
            "145274 145310\n"
          ]
        }
      ]
    },
    {
      "cell_type": "code",
      "source": [
        "n =  len(control.converted.values)"
      ],
      "metadata": {
        "id": "YCEoDJWEFEzj"
      },
      "execution_count": 58,
      "outputs": []
    },
    {
      "cell_type": "code",
      "source": [
        "##S = np.sqrt((sd_t**2 / n_t) + (sd_c**2 / n_c))\n",
        "\n",
        "S = np.sqrt((T_std**2 + C_std **2)/ 2)"
      ],
      "metadata": {
        "id": "SCL3ZIaID1uG"
      },
      "execution_count": 59,
      "outputs": []
    },
    {
      "cell_type": "code",
      "source": [
        "effect =float((T_mean-C_mean)/ S)"
      ],
      "metadata": {
        "id": "mNUISzqsExWT"
      },
      "execution_count": 60,
      "outputs": []
    },
    {
      "cell_type": "code",
      "source": [
        "from statsmodels.stats.power import TTestIndPower"
      ],
      "metadata": {
        "id": "3J8zui5BFUgn"
      },
      "execution_count": 61,
      "outputs": []
    },
    {
      "cell_type": "code",
      "source": [
        "# parameters for power analysis\n",
        "\n",
        "alpha = 0.05\n",
        "\n",
        "# perform power analysis\n",
        "analysis = TTestIndPower()\n",
        "result = analysis.solve_power(effect, power=None, nobs1=n, ratio=1.0, alpha=alpha)\n",
        "\n",
        "result"
      ],
      "metadata": {
        "id": "JGlkViNQxbyI",
        "colab": {
          "base_uri": "https://localhost:8080/"
        },
        "outputId": "b6c296ca-65ba-40b0-ca24-9748af28855d"
      },
      "execution_count": 62,
      "outputs": [
        {
          "output_type": "execute_result",
          "data": {
            "text/plain": [
              "0.258666000105756"
            ]
          },
          "metadata": {},
          "execution_count": 62
        }
      ]
    },
    {
      "cell_type": "markdown",
      "source": [
        "***Статистическая мощность*** — это вероятность того, что тест правильно отклонит ложную нулевую гипотезу.<br>\n",
        "Получили очень маленькую мощность теста, всего примерно 26%<br>\n",
        "Между выборками нет различий с вероятностью 26%"
      ],
      "metadata": {
        "id": "9k3mnGQ6MmXP"
      }
    },
    {
      "cell_type": "markdown",
      "source": [
        "Что делать, чтобы повысить мощность теста?<br>\n",
        "Возможно нам не хватает объёма выборки?"
      ],
      "metadata": {
        "id": "jq84f3SXjdRj"
      }
    },
    {
      "cell_type": "code",
      "source": [
        "# вычисление размера выборок на основе количества уникальных значений id\n",
        "n1 = len(data[data['con_treat'] == 'control']['id'].unique())\n",
        "n2 = len(data[data['con_treat'] == 'treatment']['id'].unique())\n",
        "\n",
        "# вычисление ожидаемого эффекта на основе наблюдаемого эффекта\n",
        "observed_effect = data[data['con_treat'] == 'treatment']['converted'].mean() - data[data['con_treat'] == 'control']['converted'].mean()\n",
        "effect_size = observed_effect / data['converted'].std()\n",
        "\n",
        "# задание параметров теста\n",
        "alpha = 0.05  # уровень значимости\n",
        "power = 0.8  # мощность теста\n",
        "\n",
        "# вычисление мощности теста\n",
        "power_analysis = TTestIndPower()\n",
        "sample_size = power_analysis.solve_power(effect_size=effect_size, alpha=alpha, power=power, ratio=n2/n1)\n",
        "power = power_analysis.power(effect_size=effect_size, nobs1=sample_size, alpha=alpha, ratio=n2/n1)\n",
        "\n",
        "# вывод результатов\n",
        "print(\"Требуемый размер выборки: \", sample_size)\n",
        "print(\"Мощность теста:           \", power)"
      ],
      "metadata": {
        "colab": {
          "base_uri": "https://localhost:8080/"
        },
        "id": "XLLvz6vRafsL",
        "outputId": "160fa1e5-ba3c-4b9b-a4a8-7ddc86a794cd"
      },
      "execution_count": 63,
      "outputs": [
        {
          "output_type": "stream",
          "name": "stdout",
          "text": [
            "Требуемый размер выборки:  755118.0996670319\n",
            "Мощность теста:            0.8\n"
          ]
        }
      ]
    },
    {
      "cell_type": "markdown",
      "source": [
        "Чтобы повысить статистическую мощность теста до 80%, нам необходимо повысить объём выборки до примерно 755 200 человек."
      ],
      "metadata": {
        "id": "ki98kcfoj4Ki"
      }
    },
    {
      "cell_type": "markdown",
      "source": [
        "## Выводы:"
      ],
      "metadata": {
        "id": "ScnL56ClqhNZ"
      }
    },
    {
      "cell_type": "markdown",
      "source": [
        "1. У нас нет статистически значимой разницы по метрике конверсии между контрольной  и тестовой группами.\n",
        "2. Тест изначательно был поставлен не корректно, 3 893 пользователя посещали \"не свою\" страницу, а один пользователь попал в тест 2 раза.\n",
        "3. Мощность теста очень маленькая, чтобы с уверенностью сказать, что у нас действительно нет статистической значимости между группами.\n",
        "4. У нас недостаточный объём выборки."
      ],
      "metadata": {
        "id": "maxCqRPHqmpy"
      }
    },
    {
      "cell_type": "markdown",
      "source": [
        "##Рекомендации менеджеру:"
      ],
      "metadata": {
        "id": "HmoiJwkesPle"
      }
    },
    {
      "cell_type": "markdown",
      "source": [
        "1. **Не рекомендую выкатывать изменения в продакшен.** Новая страница не увеличивает конверсию.\n",
        "2. Перезапустить тест. Поставить тест корректно, проверить сплитование.\n",
        "3. Увеличить объём выборки до 760 000 и время проведения эксперимента."
      ],
      "metadata": {
        "id": "YD-K17NzsUpd"
      }
    },
    {
      "cell_type": "markdown",
      "source": [
        "# Задание 2\n",
        "Проанализируйте результаты эксперимента и напишите свои рекомендации менеджеру.<br>\n",
        "Mobile Games AB Testing with Cookie Cats"
      ],
      "metadata": {
        "id": "8AhJ4fq6UScf"
      }
    },
    {
      "cell_type": "markdown",
      "source": [
        "результаты А_B.xlsx<br>\n",
        "Данные у нас есть от 90 189 игроков, которые установили игру, пока работал AB-тест.<br>\n",
        "Когда игрок устанавливал игру, он или она были случайным образом назначены любому из них."
      ],
      "metadata": {
        "id": "II96UrBDUScf"
      }
    },
    {
      "cell_type": "markdown",
      "source": [
        "#Поработаем с датасетом"
      ],
      "metadata": {
        "id": "Sr4nW0feVB8L"
      }
    },
    {
      "cell_type": "markdown",
      "source": [
        "Переменные:<br>\n",
        "userid - уникальный номер, идентифицирующий каждого игрока.<br>\n",
        "версия - был ли игрок поставлен в контрольную группу (gate_30) или тестовую группу (gate_40).<br>\n",
        "sum_gamerounds - количество игровых раундов, проведенных игроком в течение первых 14 дней после установки.<br>\n",
        "retention_1 - вернулся ли игрок и сыграл через 1 день после установки?<br>\n",
        "retention_7 - вернулся ли игрок и сыграл через 7 дней после установки?<br>\n",
        "Когда игрок устанавливал игру, он или она случайным образом присваивались либо gate_30, либо gate_40."
      ],
      "metadata": {
        "id": "o9PmKxLXYav1"
      }
    },
    {
      "cell_type": "markdown",
      "source": [
        "##Подготовка данных"
      ],
      "metadata": {
        "id": "l9ejxJHWVB8M"
      }
    },
    {
      "cell_type": "code",
      "source": [
        "#Подгружаем данные\n",
        "data = pd.read_excel('результаты А_B.xlsx')"
      ],
      "metadata": {
        "id": "KMVPH4shVB8M"
      },
      "execution_count": 64,
      "outputs": []
    },
    {
      "cell_type": "code",
      "source": [
        "data.head(10)"
      ],
      "metadata": {
        "colab": {
          "base_uri": "https://localhost:8080/",
          "height": 363
        },
        "outputId": "72b29d9e-9d7a-49fa-f110-8e7932393c0a",
        "id": "LmnbLl-yVB8M"
      },
      "execution_count": 65,
      "outputs": [
        {
          "output_type": "execute_result",
          "data": {
            "text/plain": [
              "   userid  version  sum_gamerounds  retention_1  retention_7\n",
              "0     116  gate_30               3            0            0\n",
              "1     337  gate_30              38            1            0\n",
              "2     377  gate_40             165            1            0\n",
              "3     483  gate_40               1            0            0\n",
              "4     488  gate_40             179            1            1\n",
              "5     540  gate_40             187            1            1\n",
              "6    1066  gate_30               0            0            0\n",
              "7    1444  gate_40               2            0            0\n",
              "8    1574  gate_40             108            1            1\n",
              "9    1587  gate_40             153            1            0"
            ],
            "text/html": [
              "\n",
              "  <div id=\"df-b450f6c6-62f1-41fe-93a5-d48f597a528e\">\n",
              "    <div class=\"colab-df-container\">\n",
              "      <div>\n",
              "<style scoped>\n",
              "    .dataframe tbody tr th:only-of-type {\n",
              "        vertical-align: middle;\n",
              "    }\n",
              "\n",
              "    .dataframe tbody tr th {\n",
              "        vertical-align: top;\n",
              "    }\n",
              "\n",
              "    .dataframe thead th {\n",
              "        text-align: right;\n",
              "    }\n",
              "</style>\n",
              "<table border=\"1\" class=\"dataframe\">\n",
              "  <thead>\n",
              "    <tr style=\"text-align: right;\">\n",
              "      <th></th>\n",
              "      <th>userid</th>\n",
              "      <th>version</th>\n",
              "      <th>sum_gamerounds</th>\n",
              "      <th>retention_1</th>\n",
              "      <th>retention_7</th>\n",
              "    </tr>\n",
              "  </thead>\n",
              "  <tbody>\n",
              "    <tr>\n",
              "      <th>0</th>\n",
              "      <td>116</td>\n",
              "      <td>gate_30</td>\n",
              "      <td>3</td>\n",
              "      <td>0</td>\n",
              "      <td>0</td>\n",
              "    </tr>\n",
              "    <tr>\n",
              "      <th>1</th>\n",
              "      <td>337</td>\n",
              "      <td>gate_30</td>\n",
              "      <td>38</td>\n",
              "      <td>1</td>\n",
              "      <td>0</td>\n",
              "    </tr>\n",
              "    <tr>\n",
              "      <th>2</th>\n",
              "      <td>377</td>\n",
              "      <td>gate_40</td>\n",
              "      <td>165</td>\n",
              "      <td>1</td>\n",
              "      <td>0</td>\n",
              "    </tr>\n",
              "    <tr>\n",
              "      <th>3</th>\n",
              "      <td>483</td>\n",
              "      <td>gate_40</td>\n",
              "      <td>1</td>\n",
              "      <td>0</td>\n",
              "      <td>0</td>\n",
              "    </tr>\n",
              "    <tr>\n",
              "      <th>4</th>\n",
              "      <td>488</td>\n",
              "      <td>gate_40</td>\n",
              "      <td>179</td>\n",
              "      <td>1</td>\n",
              "      <td>1</td>\n",
              "    </tr>\n",
              "    <tr>\n",
              "      <th>5</th>\n",
              "      <td>540</td>\n",
              "      <td>gate_40</td>\n",
              "      <td>187</td>\n",
              "      <td>1</td>\n",
              "      <td>1</td>\n",
              "    </tr>\n",
              "    <tr>\n",
              "      <th>6</th>\n",
              "      <td>1066</td>\n",
              "      <td>gate_30</td>\n",
              "      <td>0</td>\n",
              "      <td>0</td>\n",
              "      <td>0</td>\n",
              "    </tr>\n",
              "    <tr>\n",
              "      <th>7</th>\n",
              "      <td>1444</td>\n",
              "      <td>gate_40</td>\n",
              "      <td>2</td>\n",
              "      <td>0</td>\n",
              "      <td>0</td>\n",
              "    </tr>\n",
              "    <tr>\n",
              "      <th>8</th>\n",
              "      <td>1574</td>\n",
              "      <td>gate_40</td>\n",
              "      <td>108</td>\n",
              "      <td>1</td>\n",
              "      <td>1</td>\n",
              "    </tr>\n",
              "    <tr>\n",
              "      <th>9</th>\n",
              "      <td>1587</td>\n",
              "      <td>gate_40</td>\n",
              "      <td>153</td>\n",
              "      <td>1</td>\n",
              "      <td>0</td>\n",
              "    </tr>\n",
              "  </tbody>\n",
              "</table>\n",
              "</div>\n",
              "      <button class=\"colab-df-convert\" onclick=\"convertToInteractive('df-b450f6c6-62f1-41fe-93a5-d48f597a528e')\"\n",
              "              title=\"Convert this dataframe to an interactive table.\"\n",
              "              style=\"display:none;\">\n",
              "        \n",
              "  <svg xmlns=\"http://www.w3.org/2000/svg\" height=\"24px\"viewBox=\"0 0 24 24\"\n",
              "       width=\"24px\">\n",
              "    <path d=\"M0 0h24v24H0V0z\" fill=\"none\"/>\n",
              "    <path d=\"M18.56 5.44l.94 2.06.94-2.06 2.06-.94-2.06-.94-.94-2.06-.94 2.06-2.06.94zm-11 1L8.5 8.5l.94-2.06 2.06-.94-2.06-.94L8.5 2.5l-.94 2.06-2.06.94zm10 10l.94 2.06.94-2.06 2.06-.94-2.06-.94-.94-2.06-.94 2.06-2.06.94z\"/><path d=\"M17.41 7.96l-1.37-1.37c-.4-.4-.92-.59-1.43-.59-.52 0-1.04.2-1.43.59L10.3 9.45l-7.72 7.72c-.78.78-.78 2.05 0 2.83L4 21.41c.39.39.9.59 1.41.59.51 0 1.02-.2 1.41-.59l7.78-7.78 2.81-2.81c.8-.78.8-2.07 0-2.86zM5.41 20L4 18.59l7.72-7.72 1.47 1.35L5.41 20z\"/>\n",
              "  </svg>\n",
              "      </button>\n",
              "      \n",
              "  <style>\n",
              "    .colab-df-container {\n",
              "      display:flex;\n",
              "      flex-wrap:wrap;\n",
              "      gap: 12px;\n",
              "    }\n",
              "\n",
              "    .colab-df-convert {\n",
              "      background-color: #E8F0FE;\n",
              "      border: none;\n",
              "      border-radius: 50%;\n",
              "      cursor: pointer;\n",
              "      display: none;\n",
              "      fill: #1967D2;\n",
              "      height: 32px;\n",
              "      padding: 0 0 0 0;\n",
              "      width: 32px;\n",
              "    }\n",
              "\n",
              "    .colab-df-convert:hover {\n",
              "      background-color: #E2EBFA;\n",
              "      box-shadow: 0px 1px 2px rgba(60, 64, 67, 0.3), 0px 1px 3px 1px rgba(60, 64, 67, 0.15);\n",
              "      fill: #174EA6;\n",
              "    }\n",
              "\n",
              "    [theme=dark] .colab-df-convert {\n",
              "      background-color: #3B4455;\n",
              "      fill: #D2E3FC;\n",
              "    }\n",
              "\n",
              "    [theme=dark] .colab-df-convert:hover {\n",
              "      background-color: #434B5C;\n",
              "      box-shadow: 0px 1px 3px 1px rgba(0, 0, 0, 0.15);\n",
              "      filter: drop-shadow(0px 1px 2px rgba(0, 0, 0, 0.3));\n",
              "      fill: #FFFFFF;\n",
              "    }\n",
              "  </style>\n",
              "\n",
              "      <script>\n",
              "        const buttonEl =\n",
              "          document.querySelector('#df-b450f6c6-62f1-41fe-93a5-d48f597a528e button.colab-df-convert');\n",
              "        buttonEl.style.display =\n",
              "          google.colab.kernel.accessAllowed ? 'block' : 'none';\n",
              "\n",
              "        async function convertToInteractive(key) {\n",
              "          const element = document.querySelector('#df-b450f6c6-62f1-41fe-93a5-d48f597a528e');\n",
              "          const dataTable =\n",
              "            await google.colab.kernel.invokeFunction('convertToInteractive',\n",
              "                                                     [key], {});\n",
              "          if (!dataTable) return;\n",
              "\n",
              "          const docLinkHtml = 'Like what you see? Visit the ' +\n",
              "            '<a target=\"_blank\" href=https://colab.research.google.com/notebooks/data_table.ipynb>data table notebook</a>'\n",
              "            + ' to learn more about interactive tables.';\n",
              "          element.innerHTML = '';\n",
              "          dataTable['output_type'] = 'display_data';\n",
              "          await google.colab.output.renderOutput(dataTable, element);\n",
              "          const docLink = document.createElement('div');\n",
              "          docLink.innerHTML = docLinkHtml;\n",
              "          element.appendChild(docLink);\n",
              "        }\n",
              "      </script>\n",
              "    </div>\n",
              "  </div>\n",
              "  "
            ]
          },
          "metadata": {},
          "execution_count": 65
        }
      ]
    },
    {
      "cell_type": "code",
      "source": [
        "# Информация по датасету\n",
        "data.info()"
      ],
      "metadata": {
        "colab": {
          "base_uri": "https://localhost:8080/"
        },
        "outputId": "98cc17d7-b9c4-4075-efaf-e754c1fde4e6",
        "id": "NPajFbZ3VB8M"
      },
      "execution_count": 66,
      "outputs": [
        {
          "output_type": "stream",
          "name": "stdout",
          "text": [
            "<class 'pandas.core.frame.DataFrame'>\n",
            "RangeIndex: 90189 entries, 0 to 90188\n",
            "Data columns (total 5 columns):\n",
            " #   Column          Non-Null Count  Dtype \n",
            "---  ------          --------------  ----- \n",
            " 0   userid          90189 non-null  int64 \n",
            " 1   version         90189 non-null  object\n",
            " 2   sum_gamerounds  90189 non-null  int64 \n",
            " 3   retention_1     90189 non-null  int64 \n",
            " 4   retention_7     90189 non-null  int64 \n",
            "dtypes: int64(4), object(1)\n",
            "memory usage: 3.4+ MB\n"
          ]
        }
      ]
    },
    {
      "cell_type": "code",
      "source": [
        "# Размерность датасета\n",
        "data.shape"
      ],
      "metadata": {
        "colab": {
          "base_uri": "https://localhost:8080/"
        },
        "outputId": "4700669b-0e57-4244-c39c-369744a41789",
        "id": "M8U7Bl5dVB8N"
      },
      "execution_count": 67,
      "outputs": [
        {
          "output_type": "execute_result",
          "data": {
            "text/plain": [
              "(90189, 5)"
            ]
          },
          "metadata": {},
          "execution_count": 67
        }
      ]
    },
    {
      "cell_type": "code",
      "source": [
        "# Посмотрим основные статистики\n",
        "data.describe()"
      ],
      "metadata": {
        "colab": {
          "base_uri": "https://localhost:8080/",
          "height": 300
        },
        "outputId": "3328f400-647a-4d6f-bf5f-e0e251b9b384",
        "id": "sh_-leUhVB8N"
      },
      "execution_count": 68,
      "outputs": [
        {
          "output_type": "execute_result",
          "data": {
            "text/plain": [
              "             userid  sum_gamerounds   retention_1   retention_7\n",
              "count  9.018900e+04    90189.000000  90189.000000  90189.000000\n",
              "mean   4.998412e+06       51.872457      0.445210      0.186065\n",
              "std    2.883286e+06      195.050858      0.496992      0.389161\n",
              "min    1.160000e+02        0.000000      0.000000      0.000000\n",
              "25%    2.512230e+06        5.000000      0.000000      0.000000\n",
              "50%    4.995815e+06       16.000000      0.000000      0.000000\n",
              "75%    7.496452e+06       51.000000      1.000000      0.000000\n",
              "max    9.999861e+06    49854.000000      1.000000      1.000000"
            ],
            "text/html": [
              "\n",
              "  <div id=\"df-173d859c-d744-4ad4-9904-1c2e92b747f1\">\n",
              "    <div class=\"colab-df-container\">\n",
              "      <div>\n",
              "<style scoped>\n",
              "    .dataframe tbody tr th:only-of-type {\n",
              "        vertical-align: middle;\n",
              "    }\n",
              "\n",
              "    .dataframe tbody tr th {\n",
              "        vertical-align: top;\n",
              "    }\n",
              "\n",
              "    .dataframe thead th {\n",
              "        text-align: right;\n",
              "    }\n",
              "</style>\n",
              "<table border=\"1\" class=\"dataframe\">\n",
              "  <thead>\n",
              "    <tr style=\"text-align: right;\">\n",
              "      <th></th>\n",
              "      <th>userid</th>\n",
              "      <th>sum_gamerounds</th>\n",
              "      <th>retention_1</th>\n",
              "      <th>retention_7</th>\n",
              "    </tr>\n",
              "  </thead>\n",
              "  <tbody>\n",
              "    <tr>\n",
              "      <th>count</th>\n",
              "      <td>9.018900e+04</td>\n",
              "      <td>90189.000000</td>\n",
              "      <td>90189.000000</td>\n",
              "      <td>90189.000000</td>\n",
              "    </tr>\n",
              "    <tr>\n",
              "      <th>mean</th>\n",
              "      <td>4.998412e+06</td>\n",
              "      <td>51.872457</td>\n",
              "      <td>0.445210</td>\n",
              "      <td>0.186065</td>\n",
              "    </tr>\n",
              "    <tr>\n",
              "      <th>std</th>\n",
              "      <td>2.883286e+06</td>\n",
              "      <td>195.050858</td>\n",
              "      <td>0.496992</td>\n",
              "      <td>0.389161</td>\n",
              "    </tr>\n",
              "    <tr>\n",
              "      <th>min</th>\n",
              "      <td>1.160000e+02</td>\n",
              "      <td>0.000000</td>\n",
              "      <td>0.000000</td>\n",
              "      <td>0.000000</td>\n",
              "    </tr>\n",
              "    <tr>\n",
              "      <th>25%</th>\n",
              "      <td>2.512230e+06</td>\n",
              "      <td>5.000000</td>\n",
              "      <td>0.000000</td>\n",
              "      <td>0.000000</td>\n",
              "    </tr>\n",
              "    <tr>\n",
              "      <th>50%</th>\n",
              "      <td>4.995815e+06</td>\n",
              "      <td>16.000000</td>\n",
              "      <td>0.000000</td>\n",
              "      <td>0.000000</td>\n",
              "    </tr>\n",
              "    <tr>\n",
              "      <th>75%</th>\n",
              "      <td>7.496452e+06</td>\n",
              "      <td>51.000000</td>\n",
              "      <td>1.000000</td>\n",
              "      <td>0.000000</td>\n",
              "    </tr>\n",
              "    <tr>\n",
              "      <th>max</th>\n",
              "      <td>9.999861e+06</td>\n",
              "      <td>49854.000000</td>\n",
              "      <td>1.000000</td>\n",
              "      <td>1.000000</td>\n",
              "    </tr>\n",
              "  </tbody>\n",
              "</table>\n",
              "</div>\n",
              "      <button class=\"colab-df-convert\" onclick=\"convertToInteractive('df-173d859c-d744-4ad4-9904-1c2e92b747f1')\"\n",
              "              title=\"Convert this dataframe to an interactive table.\"\n",
              "              style=\"display:none;\">\n",
              "        \n",
              "  <svg xmlns=\"http://www.w3.org/2000/svg\" height=\"24px\"viewBox=\"0 0 24 24\"\n",
              "       width=\"24px\">\n",
              "    <path d=\"M0 0h24v24H0V0z\" fill=\"none\"/>\n",
              "    <path d=\"M18.56 5.44l.94 2.06.94-2.06 2.06-.94-2.06-.94-.94-2.06-.94 2.06-2.06.94zm-11 1L8.5 8.5l.94-2.06 2.06-.94-2.06-.94L8.5 2.5l-.94 2.06-2.06.94zm10 10l.94 2.06.94-2.06 2.06-.94-2.06-.94-.94-2.06-.94 2.06-2.06.94z\"/><path d=\"M17.41 7.96l-1.37-1.37c-.4-.4-.92-.59-1.43-.59-.52 0-1.04.2-1.43.59L10.3 9.45l-7.72 7.72c-.78.78-.78 2.05 0 2.83L4 21.41c.39.39.9.59 1.41.59.51 0 1.02-.2 1.41-.59l7.78-7.78 2.81-2.81c.8-.78.8-2.07 0-2.86zM5.41 20L4 18.59l7.72-7.72 1.47 1.35L5.41 20z\"/>\n",
              "  </svg>\n",
              "      </button>\n",
              "      \n",
              "  <style>\n",
              "    .colab-df-container {\n",
              "      display:flex;\n",
              "      flex-wrap:wrap;\n",
              "      gap: 12px;\n",
              "    }\n",
              "\n",
              "    .colab-df-convert {\n",
              "      background-color: #E8F0FE;\n",
              "      border: none;\n",
              "      border-radius: 50%;\n",
              "      cursor: pointer;\n",
              "      display: none;\n",
              "      fill: #1967D2;\n",
              "      height: 32px;\n",
              "      padding: 0 0 0 0;\n",
              "      width: 32px;\n",
              "    }\n",
              "\n",
              "    .colab-df-convert:hover {\n",
              "      background-color: #E2EBFA;\n",
              "      box-shadow: 0px 1px 2px rgba(60, 64, 67, 0.3), 0px 1px 3px 1px rgba(60, 64, 67, 0.15);\n",
              "      fill: #174EA6;\n",
              "    }\n",
              "\n",
              "    [theme=dark] .colab-df-convert {\n",
              "      background-color: #3B4455;\n",
              "      fill: #D2E3FC;\n",
              "    }\n",
              "\n",
              "    [theme=dark] .colab-df-convert:hover {\n",
              "      background-color: #434B5C;\n",
              "      box-shadow: 0px 1px 3px 1px rgba(0, 0, 0, 0.15);\n",
              "      filter: drop-shadow(0px 1px 2px rgba(0, 0, 0, 0.3));\n",
              "      fill: #FFFFFF;\n",
              "    }\n",
              "  </style>\n",
              "\n",
              "      <script>\n",
              "        const buttonEl =\n",
              "          document.querySelector('#df-173d859c-d744-4ad4-9904-1c2e92b747f1 button.colab-df-convert');\n",
              "        buttonEl.style.display =\n",
              "          google.colab.kernel.accessAllowed ? 'block' : 'none';\n",
              "\n",
              "        async function convertToInteractive(key) {\n",
              "          const element = document.querySelector('#df-173d859c-d744-4ad4-9904-1c2e92b747f1');\n",
              "          const dataTable =\n",
              "            await google.colab.kernel.invokeFunction('convertToInteractive',\n",
              "                                                     [key], {});\n",
              "          if (!dataTable) return;\n",
              "\n",
              "          const docLinkHtml = 'Like what you see? Visit the ' +\n",
              "            '<a target=\"_blank\" href=https://colab.research.google.com/notebooks/data_table.ipynb>data table notebook</a>'\n",
              "            + ' to learn more about interactive tables.';\n",
              "          element.innerHTML = '';\n",
              "          dataTable['output_type'] = 'display_data';\n",
              "          await google.colab.output.renderOutput(dataTable, element);\n",
              "          const docLink = document.createElement('div');\n",
              "          docLink.innerHTML = docLinkHtml;\n",
              "          element.appendChild(docLink);\n",
              "        }\n",
              "      </script>\n",
              "    </div>\n",
              "  </div>\n",
              "  "
            ]
          },
          "metadata": {},
          "execution_count": 68
        }
      ]
    },
    {
      "cell_type": "code",
      "source": [
        "data.isna().sum()"
      ],
      "metadata": {
        "colab": {
          "base_uri": "https://localhost:8080/"
        },
        "outputId": "a0a0847a-6169-4fba-8e37-1fe83e1120af",
        "id": "rT3qr94qVB8N"
      },
      "execution_count": 88,
      "outputs": [
        {
          "output_type": "execute_result",
          "data": {
            "text/plain": [
              "userid            0\n",
              "version           0\n",
              "sum_gamerounds    0\n",
              "retention_1       0\n",
              "retention_7       0\n",
              "dtype: int64"
            ]
          },
          "metadata": {},
          "execution_count": 88
        }
      ]
    },
    {
      "cell_type": "markdown",
      "source": [
        "Пропущенных данных нет."
      ],
      "metadata": {
        "id": "Ggg3T9baVB8N"
      }
    },
    {
      "cell_type": "markdown",
      "source": [
        "**Проверим наши данные на корректность**: каждый пользователь встрчается у нас только один раз?"
      ],
      "metadata": {
        "id": "E_xsMm82Aczb"
      }
    },
    {
      "cell_type": "code",
      "source": [
        "data.groupby('userid', as_index=False).agg({'version': pd.Series.nunique}).query('version > 1')"
      ],
      "metadata": {
        "colab": {
          "base_uri": "https://localhost:8080/",
          "height": 49
        },
        "id": "drk5KwCHPq_C",
        "outputId": "0c3ebfdf-c3b3-4173-f2ec-7007a94319df"
      },
      "execution_count": 161,
      "outputs": [
        {
          "output_type": "execute_result",
          "data": {
            "text/plain": [
              "Empty DataFrame\n",
              "Columns: [userid, version]\n",
              "Index: []"
            ],
            "text/html": [
              "\n",
              "  <div id=\"df-a45c2a53-a535-40cb-99b9-c63dad9a71aa\">\n",
              "    <div class=\"colab-df-container\">\n",
              "      <div>\n",
              "<style scoped>\n",
              "    .dataframe tbody tr th:only-of-type {\n",
              "        vertical-align: middle;\n",
              "    }\n",
              "\n",
              "    .dataframe tbody tr th {\n",
              "        vertical-align: top;\n",
              "    }\n",
              "\n",
              "    .dataframe thead th {\n",
              "        text-align: right;\n",
              "    }\n",
              "</style>\n",
              "<table border=\"1\" class=\"dataframe\">\n",
              "  <thead>\n",
              "    <tr style=\"text-align: right;\">\n",
              "      <th></th>\n",
              "      <th>userid</th>\n",
              "      <th>version</th>\n",
              "    </tr>\n",
              "  </thead>\n",
              "  <tbody>\n",
              "  </tbody>\n",
              "</table>\n",
              "</div>\n",
              "      <button class=\"colab-df-convert\" onclick=\"convertToInteractive('df-a45c2a53-a535-40cb-99b9-c63dad9a71aa')\"\n",
              "              title=\"Convert this dataframe to an interactive table.\"\n",
              "              style=\"display:none;\">\n",
              "        \n",
              "  <svg xmlns=\"http://www.w3.org/2000/svg\" height=\"24px\"viewBox=\"0 0 24 24\"\n",
              "       width=\"24px\">\n",
              "    <path d=\"M0 0h24v24H0V0z\" fill=\"none\"/>\n",
              "    <path d=\"M18.56 5.44l.94 2.06.94-2.06 2.06-.94-2.06-.94-.94-2.06-.94 2.06-2.06.94zm-11 1L8.5 8.5l.94-2.06 2.06-.94-2.06-.94L8.5 2.5l-.94 2.06-2.06.94zm10 10l.94 2.06.94-2.06 2.06-.94-2.06-.94-.94-2.06-.94 2.06-2.06.94z\"/><path d=\"M17.41 7.96l-1.37-1.37c-.4-.4-.92-.59-1.43-.59-.52 0-1.04.2-1.43.59L10.3 9.45l-7.72 7.72c-.78.78-.78 2.05 0 2.83L4 21.41c.39.39.9.59 1.41.59.51 0 1.02-.2 1.41-.59l7.78-7.78 2.81-2.81c.8-.78.8-2.07 0-2.86zM5.41 20L4 18.59l7.72-7.72 1.47 1.35L5.41 20z\"/>\n",
              "  </svg>\n",
              "      </button>\n",
              "      \n",
              "  <style>\n",
              "    .colab-df-container {\n",
              "      display:flex;\n",
              "      flex-wrap:wrap;\n",
              "      gap: 12px;\n",
              "    }\n",
              "\n",
              "    .colab-df-convert {\n",
              "      background-color: #E8F0FE;\n",
              "      border: none;\n",
              "      border-radius: 50%;\n",
              "      cursor: pointer;\n",
              "      display: none;\n",
              "      fill: #1967D2;\n",
              "      height: 32px;\n",
              "      padding: 0 0 0 0;\n",
              "      width: 32px;\n",
              "    }\n",
              "\n",
              "    .colab-df-convert:hover {\n",
              "      background-color: #E2EBFA;\n",
              "      box-shadow: 0px 1px 2px rgba(60, 64, 67, 0.3), 0px 1px 3px 1px rgba(60, 64, 67, 0.15);\n",
              "      fill: #174EA6;\n",
              "    }\n",
              "\n",
              "    [theme=dark] .colab-df-convert {\n",
              "      background-color: #3B4455;\n",
              "      fill: #D2E3FC;\n",
              "    }\n",
              "\n",
              "    [theme=dark] .colab-df-convert:hover {\n",
              "      background-color: #434B5C;\n",
              "      box-shadow: 0px 1px 3px 1px rgba(0, 0, 0, 0.15);\n",
              "      filter: drop-shadow(0px 1px 2px rgba(0, 0, 0, 0.3));\n",
              "      fill: #FFFFFF;\n",
              "    }\n",
              "  </style>\n",
              "\n",
              "      <script>\n",
              "        const buttonEl =\n",
              "          document.querySelector('#df-a45c2a53-a535-40cb-99b9-c63dad9a71aa button.colab-df-convert');\n",
              "        buttonEl.style.display =\n",
              "          google.colab.kernel.accessAllowed ? 'block' : 'none';\n",
              "\n",
              "        async function convertToInteractive(key) {\n",
              "          const element = document.querySelector('#df-a45c2a53-a535-40cb-99b9-c63dad9a71aa');\n",
              "          const dataTable =\n",
              "            await google.colab.kernel.invokeFunction('convertToInteractive',\n",
              "                                                     [key], {});\n",
              "          if (!dataTable) return;\n",
              "\n",
              "          const docLinkHtml = 'Like what you see? Visit the ' +\n",
              "            '<a target=\"_blank\" href=https://colab.research.google.com/notebooks/data_table.ipynb>data table notebook</a>'\n",
              "            + ' to learn more about interactive tables.';\n",
              "          element.innerHTML = '';\n",
              "          dataTable['output_type'] = 'display_data';\n",
              "          await google.colab.output.renderOutput(dataTable, element);\n",
              "          const docLink = document.createElement('div');\n",
              "          docLink.innerHTML = docLinkHtml;\n",
              "          element.appendChild(docLink);\n",
              "        }\n",
              "      </script>\n",
              "    </div>\n",
              "  </div>\n",
              "  "
            ]
          },
          "metadata": {},
          "execution_count": 161
        }
      ]
    },
    {
      "cell_type": "code",
      "source": [
        "data.shape[0] - data.userid.nunique()"
      ],
      "metadata": {
        "colab": {
          "base_uri": "https://localhost:8080/"
        },
        "outputId": "c51b4f85-355d-4799-8b34-9473464c3b46",
        "id": "RHFvmBI2Aact"
      },
      "execution_count": 89,
      "outputs": [
        {
          "output_type": "execute_result",
          "data": {
            "text/plain": [
              "0"
            ]
          },
          "metadata": {},
          "execution_count": 89
        }
      ]
    },
    {
      "cell_type": "markdown",
      "source": [
        "**Наши данные корректны!**"
      ],
      "metadata": {
        "id": "LV-rH3-pAxoi"
      }
    },
    {
      "cell_type": "markdown",
      "source": [
        "## Применение статистических критериев"
      ],
      "metadata": {
        "id": "-4mZEyzKVB8O"
      }
    },
    {
      "cell_type": "markdown",
      "source": [
        "Рассмотрим эти группы подробней."
      ],
      "metadata": {
        "id": "ElrAScQNVB8O"
      }
    },
    {
      "cell_type": "code",
      "source": [
        "data.version.value_counts()"
      ],
      "metadata": {
        "colab": {
          "base_uri": "https://localhost:8080/"
        },
        "outputId": "32de7ff9-90fa-4bcb-bf78-a9553f98c7ac",
        "id": "8Mddp-zeVB8P"
      },
      "execution_count": 70,
      "outputs": [
        {
          "output_type": "execute_result",
          "data": {
            "text/plain": [
              "gate_40    45489\n",
              "gate_30    44700\n",
              "Name: version, dtype: int64"
            ]
          },
          "metadata": {},
          "execution_count": 70
        }
      ]
    },
    {
      "cell_type": "markdown",
      "source": [
        "Объём выборок в каждой группе примерно одинаковый."
      ],
      "metadata": {
        "id": "sZ2XYsuyVB8P"
      }
    },
    {
      "cell_type": "markdown",
      "source": [
        "**Рассмотрим зависимость вида группы на удержание игрока.**<br>\n",
        "Построим график распределения количества игровых раундов игроков, сыгранных в течение первой недели в игре."
      ],
      "metadata": {
        "id": "NpCdsAJvZ37i"
      }
    },
    {
      "cell_type": "code",
      "source": [
        "from matplotlib import legend"
      ],
      "metadata": {
        "id": "yDe8nagIgwJi"
      },
      "execution_count": 71,
      "outputs": []
    },
    {
      "cell_type": "code",
      "source": [
        "plt.style.use('default')\n",
        "\n",
        "CrosstabResult=pd.crosstab(index=data['version'],columns=data['sum_gamerounds'])\n",
        "#print(CrosstabResult)\n",
        "\n",
        "CrosstabResult.plot.bar(figsize=(10,5), rot = 0, legend=False)\n",
        "plt.ylabel(\"sum_gamerounds\", size=10)\n",
        "plt.grid(axis = 'y')"
      ],
      "metadata": {
        "colab": {
          "base_uri": "https://localhost:8080/",
          "height": 465
        },
        "outputId": "673ecaae-7388-4c38-ad89-0c990b5d0c4f",
        "id": "fKilwMGkVB8R"
      },
      "execution_count": 72,
      "outputs": [
        {
          "output_type": "display_data",
          "data": {
            "text/plain": [
              "<Figure size 1000x500 with 1 Axes>"
            ],
            "image/png": "[encoded data removed]"
          },
          "metadata": {}
        }
      ]
    },
    {
      "cell_type": "code",
      "source": [
        "# Распределение игровых раундов\n",
        "\n",
        "# Подсчет количества игроков для каждого количества sum_gamerounds по группам\n",
        "plot_df_30 = data[data.version =='gate_30'].groupby(\"sum_gamerounds\")[\"userid\"].count()\n",
        "plot_df_40 = data[data.version =='gate_40'].groupby(\"sum_gamerounds\")[\"userid\"].count()\n",
        "\n",
        "# Составление графика распределения игроков, сыгравших от 0 до 100 sum_gamerounds\n",
        "ax1 = plot_df_30.head(100).plot(label='gate_30')\n",
        "ax2 = plot_df_40.head(100).plot(label='gate_40')\n",
        "plt.title(\"Распределение игроков по числу сыгранных раундов\", fontweight=\"bold\", size=14)\n",
        "plt.xlabel(\"sum_gamerounds\", size=12)\n",
        "plt.ylabel(\"Число игроков\", size=12)\n",
        "ax1.legend()\n",
        "plt.show(ax1, ax2)"
      ],
      "metadata": {
        "colab": {
          "base_uri": "https://localhost:8080/",
          "height": 477
        },
        "id": "2si4ELvDhGyI",
        "outputId": "86dc1f9e-3314-4244-ce7d-ce744d187411"
      },
      "execution_count": 76,
      "outputs": [
        {
          "output_type": "display_data",
          "data": {
            "text/plain": [
              "<Figure size 640x480 with 1 Axes>"
            ],
            "image/png": "[encoded data removed]"
          },
          "metadata": {}
        }
      ]
    },
    {
      "cell_type": "markdown",
      "source": [
        "Как видно из графиков, распределения в обоих группах очень похожи.<br>\n",
        "Также мы видим, что достаточное кол-во игроков в обоих группах устанавливают игру, но в дальнейшем не играют в неё.<br>\n",
        "Найдём их кол-во:"
      ],
      "metadata": {
        "id": "tprA05Y5nRQh"
      }
    },
    {
      "cell_type": "code",
      "source": [
        "data[data.sum_gamerounds == 0].userid.count()"
      ],
      "metadata": {
        "colab": {
          "base_uri": "https://localhost:8080/"
        },
        "id": "6jXoH76oftAl",
        "outputId": "d2017f20-b754-4fda-a3c4-94f420f7aeac"
      },
      "execution_count": 74,
      "outputs": [
        {
          "output_type": "execute_result",
          "data": {
            "text/plain": [
              "3994"
            ]
          },
          "metadata": {},
          "execution_count": 74
        }
      ]
    },
    {
      "cell_type": "markdown",
      "source": [
        "3994 игрока никогда не играли в игру, просто установили ее."
      ],
      "metadata": {
        "id": "JvAZuAJFSmlZ"
      }
    },
    {
      "cell_type": "markdown",
      "source": [
        "Посчитаем процент игроков, которые возвращаются и играют в игру 1 день и 7 дней после того, как они установили ее.<br>\n",
        "Чем выше возврат игроков, тем интересней игра.<br>\n",
        "В качестве первого шага посмотрим на переменные retention_1 и retention_7."
      ],
      "metadata": {
        "id": "1qLaiqHToFtR"
      }
    },
    {
      "cell_type": "code",
      "source": [
        "data.retention_1.value_counts()"
      ],
      "metadata": {
        "colab": {
          "base_uri": "https://localhost:8080/"
        },
        "id": "ekoykNogS0uT",
        "outputId": "09794c98-dacc-48bc-c30a-4e20ae4f30d8"
      },
      "execution_count": 75,
      "outputs": [
        {
          "output_type": "execute_result",
          "data": {
            "text/plain": [
              "0    50036\n",
              "1    40153\n",
              "Name: retention_1, dtype: int64"
            ]
          },
          "metadata": {},
          "execution_count": 75
        }
      ]
    },
    {
      "cell_type": "code",
      "source": [
        "data.retention_1.value_counts(normalize=True)"
      ],
      "metadata": {
        "colab": {
          "base_uri": "https://localhost:8080/"
        },
        "id": "rRV9B-UFT36I",
        "outputId": "1fa27c18-5512-4970-c43c-566fe5ce636d"
      },
      "execution_count": 77,
      "outputs": [
        {
          "output_type": "execute_result",
          "data": {
            "text/plain": [
              "0    0.55479\n",
              "1    0.44521\n",
              "Name: retention_1, dtype: float64"
            ]
          },
          "metadata": {},
          "execution_count": 77
        }
      ]
    },
    {
      "cell_type": "markdown",
      "source": [
        "retention_1 - вернулся ли игрок и сыграл через 1 день после установки?<br>\n",
        "Видим достаточно большой процент 44.5% игроков, которые играют на следующий день после установки."
      ],
      "metadata": {
        "id": "Y11N_iOlTbJa"
      }
    },
    {
      "cell_type": "code",
      "source": [
        "data.retention_7.value_counts()"
      ],
      "metadata": {
        "colab": {
          "base_uri": "https://localhost:8080/"
        },
        "id": "yGv2KZCaTFBU",
        "outputId": "75df040f-8bbf-4755-c1ec-cf5571f563da"
      },
      "execution_count": 78,
      "outputs": [
        {
          "output_type": "execute_result",
          "data": {
            "text/plain": [
              "0    73408\n",
              "1    16781\n",
              "Name: retention_7, dtype: int64"
            ]
          },
          "metadata": {},
          "execution_count": 78
        }
      ]
    },
    {
      "cell_type": "code",
      "source": [
        "data.retention_7.value_counts(normalize=True)"
      ],
      "metadata": {
        "colab": {
          "base_uri": "https://localhost:8080/"
        },
        "id": "xrkoyd1mUGZf",
        "outputId": "99b739e6-3820-4f1e-db12-7afcd2598002"
      },
      "execution_count": 79,
      "outputs": [
        {
          "output_type": "execute_result",
          "data": {
            "text/plain": [
              "0    0.813935\n",
              "1    0.186065\n",
              "Name: retention_7, dtype: float64"
            ]
          },
          "metadata": {},
          "execution_count": 79
        }
      ]
    },
    {
      "cell_type": "markdown",
      "source": [
        "retention_7 - вернулся ли игрок и сыграл через 7 дней после установки?<br>\n",
        "После 7 дней интерес у пользователей значительно падает.<br>\n",
        "Уже осталось только 18.6%"
      ],
      "metadata": {
        "id": "B8rE6zCqTj6D"
      }
    },
    {
      "cell_type": "markdown",
      "source": [
        "Посмотрим распределение этих же переменных по группам:"
      ],
      "metadata": {
        "id": "mMfxUN6KbhH2"
      }
    },
    {
      "cell_type": "code",
      "source": [
        "plt.style.use('default')\n",
        "\n",
        "CrosstabResult=pd.crosstab(index=data['version'],columns=data['retention_1'])\n",
        "#print(CrosstabResult)\n",
        "\n",
        "plt.figure(figsize=(12, 12))\n",
        "#plt.subplot(3, 4, 1)\n",
        "CrosstabResult.plot.bar(figsize=(5,5), rot = 0)\n",
        "plt.ylabel(\"retention_1\", size=10)\n",
        "plt.grid(axis = 'y')\n",
        "\n",
        "CrosstabResult=pd.crosstab(index=data['version'],columns=data['retention_7'])\n",
        "#plt.subplot(3, 4, 6)\n",
        "CrosstabResult.plot.bar(figsize=(5,5), rot = 0)\n",
        "plt.ylabel(\"retention_7\", size=10)\n",
        "plt.grid(axis = 'y')"
      ],
      "metadata": {
        "colab": {
          "base_uri": "https://localhost:8080/",
          "height": 930
        },
        "id": "05kme3Y9VfmZ",
        "outputId": "0daa0760-5a41-4dff-8d5d-805a27c676bb"
      },
      "execution_count": 80,
      "outputs": [
        {
          "output_type": "display_data",
          "data": {
            "text/plain": [
              "<Figure size 1200x1200 with 0 Axes>"
            ]
          },
          "metadata": {}
        },
        {
          "output_type": "display_data",
          "data": {
            "text/plain": [
              "<Figure size 500x500 with 1 Axes>"
            ],
            "image/png": "[encoded data removed]"
          },
          "metadata": {}
        },
        {
          "output_type": "display_data",
          "data": {
            "text/plain": [
              "<Figure size 500x500 with 1 Axes>"
            ],
            "image/png": "[encoded data removed]"
          },
          "metadata": {}
        }
      ]
    },
    {
      "cell_type": "markdown",
      "source": [
        "Посмотрим сводную таблицу:"
      ],
      "metadata": {
        "id": "OG612FJsbCAr"
      }
    },
    {
      "cell_type": "code",
      "source": [
        "data_retention = data.groupby(\"version\").agg({\"userid\":\"count\", \"retention_1\":\"mean\",\"retention_7\":\"mean\", \"sum_gamerounds\":\"sum\"})\n",
        "data_retention"
      ],
      "metadata": {
        "colab": {
          "base_uri": "https://localhost:8080/",
          "height": 143
        },
        "id": "90s7GfE6bBIX",
        "outputId": "5aefd4c9-4bd7-4f5a-ed82-d754aa86ae8e"
      },
      "execution_count": 81,
      "outputs": [
        {
          "output_type": "execute_result",
          "data": {
            "text/plain": [
              "         userid  retention_1  retention_7  sum_gamerounds\n",
              "version                                                  \n",
              "gate_30   44700     0.448188     0.190201         2344795\n",
              "gate_40   45489     0.442283     0.182000         2333530"
            ],
            "text/html": [
              "\n",
              "  <div id=\"df-34499d83-8ef6-4907-b2ba-84865c36215e\">\n",
              "    <div class=\"colab-df-container\">\n",
              "      <div>\n",
              "<style scoped>\n",
              "    .dataframe tbody tr th:only-of-type {\n",
              "        vertical-align: middle;\n",
              "    }\n",
              "\n",
              "    .dataframe tbody tr th {\n",
              "        vertical-align: top;\n",
              "    }\n",
              "\n",
              "    .dataframe thead th {\n",
              "        text-align: right;\n",
              "    }\n",
              "</style>\n",
              "<table border=\"1\" class=\"dataframe\">\n",
              "  <thead>\n",
              "    <tr style=\"text-align: right;\">\n",
              "      <th></th>\n",
              "      <th>userid</th>\n",
              "      <th>retention_1</th>\n",
              "      <th>retention_7</th>\n",
              "      <th>sum_gamerounds</th>\n",
              "    </tr>\n",
              "    <tr>\n",
              "      <th>version</th>\n",
              "      <th></th>\n",
              "      <th></th>\n",
              "      <th></th>\n",
              "      <th></th>\n",
              "    </tr>\n",
              "  </thead>\n",
              "  <tbody>\n",
              "    <tr>\n",
              "      <th>gate_30</th>\n",
              "      <td>44700</td>\n",
              "      <td>0.448188</td>\n",
              "      <td>0.190201</td>\n",
              "      <td>2344795</td>\n",
              "    </tr>\n",
              "    <tr>\n",
              "      <th>gate_40</th>\n",
              "      <td>45489</td>\n",
              "      <td>0.442283</td>\n",
              "      <td>0.182000</td>\n",
              "      <td>2333530</td>\n",
              "    </tr>\n",
              "  </tbody>\n",
              "</table>\n",
              "</div>\n",
              "      <button class=\"colab-df-convert\" onclick=\"convertToInteractive('df-34499d83-8ef6-4907-b2ba-84865c36215e')\"\n",
              "              title=\"Convert this dataframe to an interactive table.\"\n",
              "              style=\"display:none;\">\n",
              "        \n",
              "  <svg xmlns=\"http://www.w3.org/2000/svg\" height=\"24px\"viewBox=\"0 0 24 24\"\n",
              "       width=\"24px\">\n",
              "    <path d=\"M0 0h24v24H0V0z\" fill=\"none\"/>\n",
              "    <path d=\"M18.56 5.44l.94 2.06.94-2.06 2.06-.94-2.06-.94-.94-2.06-.94 2.06-2.06.94zm-11 1L8.5 8.5l.94-2.06 2.06-.94-2.06-.94L8.5 2.5l-.94 2.06-2.06.94zm10 10l.94 2.06.94-2.06 2.06-.94-2.06-.94-.94-2.06-.94 2.06-2.06.94z\"/><path d=\"M17.41 7.96l-1.37-1.37c-.4-.4-.92-.59-1.43-.59-.52 0-1.04.2-1.43.59L10.3 9.45l-7.72 7.72c-.78.78-.78 2.05 0 2.83L4 21.41c.39.39.9.59 1.41.59.51 0 1.02-.2 1.41-.59l7.78-7.78 2.81-2.81c.8-.78.8-2.07 0-2.86zM5.41 20L4 18.59l7.72-7.72 1.47 1.35L5.41 20z\"/>\n",
              "  </svg>\n",
              "      </button>\n",
              "      \n",
              "  <style>\n",
              "    .colab-df-container {\n",
              "      display:flex;\n",
              "      flex-wrap:wrap;\n",
              "      gap: 12px;\n",
              "    }\n",
              "\n",
              "    .colab-df-convert {\n",
              "      background-color: #E8F0FE;\n",
              "      border: none;\n",
              "      border-radius: 50%;\n",
              "      cursor: pointer;\n",
              "      display: none;\n",
              "      fill: #1967D2;\n",
              "      height: 32px;\n",
              "      padding: 0 0 0 0;\n",
              "      width: 32px;\n",
              "    }\n",
              "\n",
              "    .colab-df-convert:hover {\n",
              "      background-color: #E2EBFA;\n",
              "      box-shadow: 0px 1px 2px rgba(60, 64, 67, 0.3), 0px 1px 3px 1px rgba(60, 64, 67, 0.15);\n",
              "      fill: #174EA6;\n",
              "    }\n",
              "\n",
              "    [theme=dark] .colab-df-convert {\n",
              "      background-color: #3B4455;\n",
              "      fill: #D2E3FC;\n",
              "    }\n",
              "\n",
              "    [theme=dark] .colab-df-convert:hover {\n",
              "      background-color: #434B5C;\n",
              "      box-shadow: 0px 1px 3px 1px rgba(0, 0, 0, 0.15);\n",
              "      filter: drop-shadow(0px 1px 2px rgba(0, 0, 0, 0.3));\n",
              "      fill: #FFFFFF;\n",
              "    }\n",
              "  </style>\n",
              "\n",
              "      <script>\n",
              "        const buttonEl =\n",
              "          document.querySelector('#df-34499d83-8ef6-4907-b2ba-84865c36215e button.colab-df-convert');\n",
              "        buttonEl.style.display =\n",
              "          google.colab.kernel.accessAllowed ? 'block' : 'none';\n",
              "\n",
              "        async function convertToInteractive(key) {\n",
              "          const element = document.querySelector('#df-34499d83-8ef6-4907-b2ba-84865c36215e');\n",
              "          const dataTable =\n",
              "            await google.colab.kernel.invokeFunction('convertToInteractive',\n",
              "                                                     [key], {});\n",
              "          if (!dataTable) return;\n",
              "\n",
              "          const docLinkHtml = 'Like what you see? Visit the ' +\n",
              "            '<a target=\"_blank\" href=https://colab.research.google.com/notebooks/data_table.ipynb>data table notebook</a>'\n",
              "            + ' to learn more about interactive tables.';\n",
              "          element.innerHTML = '';\n",
              "          dataTable['output_type'] = 'display_data';\n",
              "          await google.colab.output.renderOutput(dataTable, element);\n",
              "          const docLink = document.createElement('div');\n",
              "          docLink.innerHTML = docLinkHtml;\n",
              "          element.appendChild(docLink);\n",
              "        }\n",
              "      </script>\n",
              "    </div>\n",
              "  </div>\n",
              "  "
            ]
          },
          "metadata": {},
          "execution_count": 81
        }
      ]
    },
    {
      "cell_type": "markdown",
      "source": [
        "Мы видим небольшое снижение показателе в контрольной группе (gate_40) всех показателей,<br>\n",
        "но даже небольшие изменения могут оказать большое влияние.<br>\n",
        "Пока мы не можем точно сказать, что данные в контрольной группе статистически значимо хуже."
      ],
      "metadata": {
        "id": "60t9feOBb4NB"
      }
    },
    {
      "cell_type": "markdown",
      "source": [
        "##Проверка гипотез (A/B-тест)\n",
        "Выполним статистический тест для сравнения этих двух групп.<br>\n",
        "Учитывая наш большой размер выборки, мы можем использовать ***z-тест*** для расчета нашего p-значения.<br> В противном случае вместо этого может быть выполнен тест t-student.\n",
        "\n",
        "Давайте рассчитаем p-значение и доверительный интервал для каждой группы"
      ],
      "metadata": {
        "id": "caUZXOgKVB8b"
      }
    },
    {
      "cell_type": "markdown",
      "source": [
        "**retention_1** - вернулся ли игрок и сыграл через 1 день после установки?"
      ],
      "metadata": {
        "id": "sfHANoerEQWE"
      }
    },
    {
      "cell_type": "code",
      "execution_count": 92,
      "metadata": {
        "colab": {
          "base_uri": "https://localhost:8080/"
        },
        "outputId": "31dfabef-fb8b-4d90-b950-b4313720af1c",
        "id": "GFcbAzMRVB8d"
      },
      "outputs": [
        {
          "output_type": "execute_result",
          "data": {
            "text/plain": [
              "0    50036\n",
              "1    40153\n",
              "Name: retention_1, dtype: int64"
            ]
          },
          "metadata": {},
          "execution_count": 92
        }
      ],
      "source": [
        "data['retention_1'].value_counts()"
      ]
    },
    {
      "cell_type": "code",
      "source": [
        "k1 = data[data['version']=='gate_30']['retention_1'].sum()\n",
        "k2 = data[data['version']=='gate_40']['retention_1'].sum()\n",
        "k1, k2"
      ],
      "metadata": {
        "colab": {
          "base_uri": "https://localhost:8080/"
        },
        "outputId": "24101869-c719-49c6-c13c-a53ace31065c",
        "id": "B6EmBXB4VB8d"
      },
      "execution_count": 117,
      "outputs": [
        {
          "output_type": "execute_result",
          "data": {
            "text/plain": [
              "(20034, 20119)"
            ]
          },
          "metadata": {},
          "execution_count": 117
        }
      ]
    },
    {
      "cell_type": "code",
      "source": [
        "n1 = data[data['version']=='gate_30'].shape[0]\n",
        "n2 = data[data['version']=='gate_40'].shape[0]\n",
        "n1, n2"
      ],
      "metadata": {
        "colab": {
          "base_uri": "https://localhost:8080/"
        },
        "outputId": "9275cb75-e82e-49a5-d88c-39353f7fb87f",
        "id": "H-CVmUVYVB8d"
      },
      "execution_count": 118,
      "outputs": [
        {
          "output_type": "execute_result",
          "data": {
            "text/plain": [
              "(44700, 45489)"
            ]
          },
          "metadata": {},
          "execution_count": 118
        }
      ]
    },
    {
      "cell_type": "code",
      "source": [
        "from statsmodels.stats import proportion"
      ],
      "metadata": {
        "id": "EAQ7-CJtVB8e"
      },
      "execution_count": 96,
      "outputs": []
    },
    {
      "cell_type": "code",
      "source": [
        "z_score, z_pvalue = proportion.proportions_ztest(np.array([k1, k2]),\n",
        "                                                 np.array([n1, n2]))\n",
        "print('Результаты z_score = %.3f, p-value = %.3f'%(z_score, z_pvalue))"
      ],
      "metadata": {
        "colab": {
          "base_uri": "https://localhost:8080/"
        },
        "outputId": "4634137f-b953-49fb-9586-604d6d300fc3",
        "id": "Z4SpzI24VB8e"
      },
      "execution_count": 97,
      "outputs": [
        {
          "output_type": "stream",
          "name": "stdout",
          "text": [
            "Результаты z_score = 1.784, p-value = 0.074\n"
          ]
        }
      ]
    },
    {
      "cell_type": "code",
      "source": [
        "if abs(z_pvalue) < 0.05:\n",
        "    print(\"Мы можем отвергнуть нулевую гипотезу! Стат. значимость существует.\")\n",
        "else:\n",
        "    print(\"Мы не можем отвергнуть нулевую гипотезу. Стат. значимость не обнаружена.\")"
      ],
      "metadata": {
        "colab": {
          "base_uri": "https://localhost:8080/"
        },
        "outputId": "bd34a0e9-ab97-4065-82d7-e468808751f7",
        "id": "AbtbZjarVB8e"
      },
      "execution_count": 98,
      "outputs": [
        {
          "output_type": "stream",
          "name": "stdout",
          "text": [
            "Мы не можем отвергнуть нулевую гипотезу. Стат. значимость не обнаружена.\n"
          ]
        }
      ]
    },
    {
      "cell_type": "code",
      "source": [
        "(lower_con, lower_treat), (upper_con, upper_treat) = proportion.proportion_confint(np.array([k1, k2]),\n",
        "                                                                                   np.array([n1, n2]), alpha=0.05)\n",
        "print(f'ci 95% for control group: [{lower_con:.3f}, {upper_con:.3f}]')\n",
        "print(f'ci 95% for treatment group: [{lower_treat:.3f}, {upper_treat:.3f}]')"
      ],
      "metadata": {
        "colab": {
          "base_uri": "https://localhost:8080/"
        },
        "outputId": "722c51b6-6d05-43fa-e7c2-a79f3b5170a6",
        "id": "1GFjlwqBVB8e"
      },
      "execution_count": 99,
      "outputs": [
        {
          "output_type": "stream",
          "name": "stdout",
          "text": [
            "ci 95% for control group: [0.444, 0.453]\n",
            "ci 95% for treatment group: [0.438, 0.447]\n"
          ]
        }
      ]
    },
    {
      "cell_type": "markdown",
      "source": [
        "**По показателю retention_1 мы не обнаружили статистически занчимых различий между контрольной и тестовой группой.**"
      ],
      "metadata": {
        "id": "sKOgu44mEZl3"
      }
    },
    {
      "cell_type": "markdown",
      "source": [
        "**retention_7** - вернулся ли игрок и сыграл через 7 дней после установки?"
      ],
      "metadata": {
        "id": "Bihsff0jENG7"
      }
    },
    {
      "cell_type": "code",
      "execution_count": 100,
      "metadata": {
        "colab": {
          "base_uri": "https://localhost:8080/"
        },
        "outputId": "a9eb1ef2-5d11-4f2d-eb63-20c934ce143c",
        "id": "OnybPxAJD0H1"
      },
      "outputs": [
        {
          "output_type": "execute_result",
          "data": {
            "text/plain": [
              "0    73408\n",
              "1    16781\n",
              "Name: retention_7, dtype: int64"
            ]
          },
          "metadata": {},
          "execution_count": 100
        }
      ],
      "source": [
        "data['retention_7'].value_counts()"
      ]
    },
    {
      "cell_type": "code",
      "source": [
        "k1 = data[data['version']=='gate_30']['retention_7'].sum()\n",
        "k2 = data[data['version']=='gate_40']['retention_7'].sum()\n",
        "k1, k2"
      ],
      "metadata": {
        "colab": {
          "base_uri": "https://localhost:8080/"
        },
        "outputId": "f4794876-9be6-460e-f921-cb2bf3dc7bc1",
        "id": "AgTSEVxtD0H2"
      },
      "execution_count": 121,
      "outputs": [
        {
          "output_type": "execute_result",
          "data": {
            "text/plain": [
              "(8502, 8279)"
            ]
          },
          "metadata": {},
          "execution_count": 121
        }
      ]
    },
    {
      "cell_type": "code",
      "source": [
        "z_score, z_pvalue = proportion.proportions_ztest(np.array([k1, k2]),\n",
        "                                                 np.array([n1, n2]))\n",
        "print('Результаты z_score = %.3f, p-value = %.3f'%(z_score, z_pvalue))"
      ],
      "metadata": {
        "colab": {
          "base_uri": "https://localhost:8080/"
        },
        "outputId": "7c6b2a67-cb5c-4c39-cf60-ca141bb7210b",
        "id": "OfFfspspD0H3"
      },
      "execution_count": 103,
      "outputs": [
        {
          "output_type": "stream",
          "name": "stdout",
          "text": [
            "Результаты z_score = 3.164, p-value = 0.002\n"
          ]
        }
      ]
    },
    {
      "cell_type": "code",
      "source": [
        "if abs(z_pvalue) < 0.05:\n",
        "    print(\"Мы можем отвергнуть нулевую гипотезу! Стат. значимость существует.\")\n",
        "else:\n",
        "    print(\"Мы не можем отвергнуть нулевую гипотезу. Стат. значимость не обнаружена.\")"
      ],
      "metadata": {
        "colab": {
          "base_uri": "https://localhost:8080/"
        },
        "outputId": "d40efff7-1952-49a7-94e8-df7a17bd455e",
        "id": "fRVvJAQ3D0H3"
      },
      "execution_count": 104,
      "outputs": [
        {
          "output_type": "stream",
          "name": "stdout",
          "text": [
            "Мы можем отвергнуть нулевую гипотезу! Стат. значимость существует.\n"
          ]
        }
      ]
    },
    {
      "cell_type": "code",
      "source": [
        "(lower_con, lower_treat), (upper_con, upper_treat) = proportion.proportion_confint(np.array([k1, k2]),\n",
        "                                                                                   np.array([n1, n2]), alpha=0.05)\n",
        "print(f'ci 95% for control group: [{lower_con:.3f}, {upper_con:.3f}]')\n",
        "print(f'ci 95% for treatment group: [{lower_treat:.3f}, {upper_treat:.3f}]')"
      ],
      "metadata": {
        "colab": {
          "base_uri": "https://localhost:8080/"
        },
        "outputId": "ad2d5734-f32b-4808-a7be-11d95dd740b1",
        "id": "wKrnf5CcD0H3"
      },
      "execution_count": 105,
      "outputs": [
        {
          "output_type": "stream",
          "name": "stdout",
          "text": [
            "ci 95% for control group: [0.187, 0.194]\n",
            "ci 95% for treatment group: [0.178, 0.186]\n"
          ]
        }
      ]
    },
    {
      "cell_type": "markdown",
      "source": [
        "**По показателю retention_7 мы обнаружили статистически значимые различия между контрольной и тестовой группой.**<br>\n",
        "В контрольной группе показатели лучше."
      ],
      "metadata": {
        "id": "eU342_1_FCFx"
      }
    },
    {
      "cell_type": "markdown",
      "source": [
        "Ещё раз проверим параметр retention_7.<br>\n",
        "Наилучший метод чтобы проверить статистическую значимость изменения для пропорций это метод Хи‑Квадрат.<br>\n",
        "***Непараметрический Хи-квадрат:***"
      ],
      "metadata": {
        "id": "A_5NrfZUVB8e"
      }
    },
    {
      "cell_type": "code",
      "source": [
        "chisq, pvalue, table = proportion.proportions_chisquare(np.array([k1, k2]),\n",
        "                                                        np.array([n1, n2]))\n",
        "\n",
        "# Рассчитаем доверительный интервал для изменения\n",
        "lift = (n1/n2)/(k1/k2)\n",
        "std_error = np.sqrt(1/n1 + 1/n2 + 1/k1 + 1/k2)\n",
        "ci = norm.interval(0.95, loc=lift, scale=std_error)\n",
        "\n",
        "# Выводим результаты\n",
        "print(f\"Хи-квадрат = {chisq} p-value = {pvalue}\")\n",
        "print(\"Доверительный интервал изменения: \", ci)"
      ],
      "metadata": {
        "colab": {
          "base_uri": "https://localhost:8080/"
        },
        "outputId": "9e7a95d9-12c3-4a54-cd20-04cab5798d01",
        "id": "WRClyZUSVB8f"
      },
      "execution_count": 125,
      "outputs": [
        {
          "output_type": "stream",
          "name": "stdout",
          "text": [
            "Хи-квадрат = 10.01316732868897 p-value = 0.0015542499756142788\n",
            "Доверительный интервал изменения:  (0.9239231569529299, 0.9898387732541497)\n"
          ]
        }
      ]
    },
    {
      "cell_type": "code",
      "source": [
        "if abs(pvalue) < 0.05:\n",
        "    print(\"Мы можем отвергнуть нулевую гипотезу! Стат. значимость существует.\")\n",
        "else:\n",
        "    print(\"Мы не можем отвергнуть нулевую гипотезу. Стат. значимость не обнаружена.\")"
      ],
      "metadata": {
        "colab": {
          "base_uri": "https://localhost:8080/"
        },
        "outputId": "10134b33-11b6-4b0f-cbf3-19cbfb5f1e4b",
        "id": "TvtbVKEZVB8f"
      },
      "execution_count": 126,
      "outputs": [
        {
          "output_type": "stream",
          "name": "stdout",
          "text": [
            "Мы можем отвергнуть нулевую гипотезу! Стат. значимость существует.\n"
          ]
        }
      ]
    },
    {
      "cell_type": "markdown",
      "source": [
        "\n",
        "***Непараметрический критерий Манна-Уитни:***"
      ],
      "metadata": {
        "id": "94EJrrfvVB8f"
      }
    },
    {
      "cell_type": "code",
      "source": [
        "data.groupby('version')['retention_7'].describe()"
      ],
      "metadata": {
        "colab": {
          "base_uri": "https://localhost:8080/",
          "height": 143
        },
        "outputId": "7c34a1be-51e4-4f59-c6ba-08887032d510",
        "id": "3HUKSsjQVB8f"
      },
      "execution_count": 128,
      "outputs": [
        {
          "output_type": "execute_result",
          "data": {
            "text/plain": [
              "           count      mean       std  min  25%  50%  75%  max\n",
              "version                                                      \n",
              "gate_30  44700.0  0.190201  0.392464  0.0  0.0  0.0  0.0  1.0\n",
              "gate_40  45489.0  0.182000  0.385849  0.0  0.0  0.0  0.0  1.0"
            ],
            "text/html": [
              "\n",
              "  <div id=\"df-eda93228-e1de-42f9-a452-45db0aa32695\">\n",
              "    <div class=\"colab-df-container\">\n",
              "      <div>\n",
              "<style scoped>\n",
              "    .dataframe tbody tr th:only-of-type {\n",
              "        vertical-align: middle;\n",
              "    }\n",
              "\n",
              "    .dataframe tbody tr th {\n",
              "        vertical-align: top;\n",
              "    }\n",
              "\n",
              "    .dataframe thead th {\n",
              "        text-align: right;\n",
              "    }\n",
              "</style>\n",
              "<table border=\"1\" class=\"dataframe\">\n",
              "  <thead>\n",
              "    <tr style=\"text-align: right;\">\n",
              "      <th></th>\n",
              "      <th>count</th>\n",
              "      <th>mean</th>\n",
              "      <th>std</th>\n",
              "      <th>min</th>\n",
              "      <th>25%</th>\n",
              "      <th>50%</th>\n",
              "      <th>75%</th>\n",
              "      <th>max</th>\n",
              "    </tr>\n",
              "    <tr>\n",
              "      <th>version</th>\n",
              "      <th></th>\n",
              "      <th></th>\n",
              "      <th></th>\n",
              "      <th></th>\n",
              "      <th></th>\n",
              "      <th></th>\n",
              "      <th></th>\n",
              "      <th></th>\n",
              "    </tr>\n",
              "  </thead>\n",
              "  <tbody>\n",
              "    <tr>\n",
              "      <th>gate_30</th>\n",
              "      <td>44700.0</td>\n",
              "      <td>0.190201</td>\n",
              "      <td>0.392464</td>\n",
              "      <td>0.0</td>\n",
              "      <td>0.0</td>\n",
              "      <td>0.0</td>\n",
              "      <td>0.0</td>\n",
              "      <td>1.0</td>\n",
              "    </tr>\n",
              "    <tr>\n",
              "      <th>gate_40</th>\n",
              "      <td>45489.0</td>\n",
              "      <td>0.182000</td>\n",
              "      <td>0.385849</td>\n",
              "      <td>0.0</td>\n",
              "      <td>0.0</td>\n",
              "      <td>0.0</td>\n",
              "      <td>0.0</td>\n",
              "      <td>1.0</td>\n",
              "    </tr>\n",
              "  </tbody>\n",
              "</table>\n",
              "</div>\n",
              "      <button class=\"colab-df-convert\" onclick=\"convertToInteractive('df-eda93228-e1de-42f9-a452-45db0aa32695')\"\n",
              "              title=\"Convert this dataframe to an interactive table.\"\n",
              "              style=\"display:none;\">\n",
              "        \n",
              "  <svg xmlns=\"http://www.w3.org/2000/svg\" height=\"24px\"viewBox=\"0 0 24 24\"\n",
              "       width=\"24px\">\n",
              "    <path d=\"M0 0h24v24H0V0z\" fill=\"none\"/>\n",
              "    <path d=\"M18.56 5.44l.94 2.06.94-2.06 2.06-.94-2.06-.94-.94-2.06-.94 2.06-2.06.94zm-11 1L8.5 8.5l.94-2.06 2.06-.94-2.06-.94L8.5 2.5l-.94 2.06-2.06.94zm10 10l.94 2.06.94-2.06 2.06-.94-2.06-.94-.94-2.06-.94 2.06-2.06.94z\"/><path d=\"M17.41 7.96l-1.37-1.37c-.4-.4-.92-.59-1.43-.59-.52 0-1.04.2-1.43.59L10.3 9.45l-7.72 7.72c-.78.78-.78 2.05 0 2.83L4 21.41c.39.39.9.59 1.41.59.51 0 1.02-.2 1.41-.59l7.78-7.78 2.81-2.81c.8-.78.8-2.07 0-2.86zM5.41 20L4 18.59l7.72-7.72 1.47 1.35L5.41 20z\"/>\n",
              "  </svg>\n",
              "      </button>\n",
              "      \n",
              "  <style>\n",
              "    .colab-df-container {\n",
              "      display:flex;\n",
              "      flex-wrap:wrap;\n",
              "      gap: 12px;\n",
              "    }\n",
              "\n",
              "    .colab-df-convert {\n",
              "      background-color: #E8F0FE;\n",
              "      border: none;\n",
              "      border-radius: 50%;\n",
              "      cursor: pointer;\n",
              "      display: none;\n",
              "      fill: #1967D2;\n",
              "      height: 32px;\n",
              "      padding: 0 0 0 0;\n",
              "      width: 32px;\n",
              "    }\n",
              "\n",
              "    .colab-df-convert:hover {\n",
              "      background-color: #E2EBFA;\n",
              "      box-shadow: 0px 1px 2px rgba(60, 64, 67, 0.3), 0px 1px 3px 1px rgba(60, 64, 67, 0.15);\n",
              "      fill: #174EA6;\n",
              "    }\n",
              "\n",
              "    [theme=dark] .colab-df-convert {\n",
              "      background-color: #3B4455;\n",
              "      fill: #D2E3FC;\n",
              "    }\n",
              "\n",
              "    [theme=dark] .colab-df-convert:hover {\n",
              "      background-color: #434B5C;\n",
              "      box-shadow: 0px 1px 3px 1px rgba(0, 0, 0, 0.15);\n",
              "      filter: drop-shadow(0px 1px 2px rgba(0, 0, 0, 0.3));\n",
              "      fill: #FFFFFF;\n",
              "    }\n",
              "  </style>\n",
              "\n",
              "      <script>\n",
              "        const buttonEl =\n",
              "          document.querySelector('#df-eda93228-e1de-42f9-a452-45db0aa32695 button.colab-df-convert');\n",
              "        buttonEl.style.display =\n",
              "          google.colab.kernel.accessAllowed ? 'block' : 'none';\n",
              "\n",
              "        async function convertToInteractive(key) {\n",
              "          const element = document.querySelector('#df-eda93228-e1de-42f9-a452-45db0aa32695');\n",
              "          const dataTable =\n",
              "            await google.colab.kernel.invokeFunction('convertToInteractive',\n",
              "                                                     [key], {});\n",
              "          if (!dataTable) return;\n",
              "\n",
              "          const docLinkHtml = 'Like what you see? Visit the ' +\n",
              "            '<a target=\"_blank\" href=https://colab.research.google.com/notebooks/data_table.ipynb>data table notebook</a>'\n",
              "            + ' to learn more about interactive tables.';\n",
              "          element.innerHTML = '';\n",
              "          dataTable['output_type'] = 'display_data';\n",
              "          await google.colab.output.renderOutput(dataTable, element);\n",
              "          const docLink = document.createElement('div');\n",
              "          docLink.innerHTML = docLinkHtml;\n",
              "          element.appendChild(docLink);\n",
              "        }\n",
              "      </script>\n",
              "    </div>\n",
              "  </div>\n",
              "  "
            ]
          },
          "metadata": {},
          "execution_count": 128
        }
      ]
    },
    {
      "cell_type": "code",
      "source": [
        "mw_stats = mannwhitneyu(x=data[data['version'] == 'gate_30']['retention_7'].values,\n",
        "                        y=data[data['version'] == 'gate_40']['retention_7'].values,\n",
        "                        alternative='two-sided')\n",
        "mw_stats"
      ],
      "metadata": {
        "colab": {
          "base_uri": "https://localhost:8080/"
        },
        "outputId": "b6d06ee4-0aa6-44d3-8099-ab76cc3b089e",
        "id": "u08-aHddVB8g"
      },
      "execution_count": 133,
      "outputs": [
        {
          "output_type": "execute_result",
          "data": {
            "text/plain": [
              "MannwhitneyuResult(statistic=1025017239.0, pvalue=0.001554344685704005)"
            ]
          },
          "metadata": {},
          "execution_count": 133
        }
      ]
    },
    {
      "cell_type": "code",
      "source": [
        "print(\"Mann-Whitney U-test:\")\n",
        "print(\"U-statistic: \", mw_stats[0])\n",
        "print(\"p-value:     \", mw_stats[1])"
      ],
      "metadata": {
        "colab": {
          "base_uri": "https://localhost:8080/"
        },
        "outputId": "20785664-59f3-47a2-993c-d7906ddaf5e1",
        "id": "2aFyd2VHVB8h"
      },
      "execution_count": 134,
      "outputs": [
        {
          "output_type": "stream",
          "name": "stdout",
          "text": [
            "Mann-Whitney U-test:\n",
            "U-statistic:  1025017239.0\n",
            "p-value:      0.001554344685704005\n"
          ]
        }
      ]
    },
    {
      "cell_type": "code",
      "source": [
        "if abs(mw_stats[1]) < 0.05:\n",
        "    print(\"Мы можем отвергнуть нулевую гипотезу! Стат. значимость существует.\")\n",
        "else:\n",
        "    print(\"Мы не можем отвергнуть нулевую гипотезу. Стат. значимость не обнаружена.\")"
      ],
      "metadata": {
        "colab": {
          "base_uri": "https://localhost:8080/"
        },
        "outputId": "e2719a55-6e7e-4795-d56a-536fe8c5d0ab",
        "id": "w2cdCTuWI1L5"
      },
      "execution_count": 135,
      "outputs": [
        {
          "output_type": "stream",
          "name": "stdout",
          "text": [
            "Мы можем отвергнуть нулевую гипотезу! Стат. значимость существует.\n"
          ]
        }
      ]
    },
    {
      "cell_type": "markdown",
      "source": [
        "Мы проверили 3 критериями: z-тест, Хи-квадрат и Манна-Уитни.<br>\n",
        "***Стат. значимость по критерию retention_7 обнаружена!***"
      ],
      "metadata": {
        "id": "gYYdafDLI1L6"
      }
    },
    {
      "cell_type": "markdown",
      "source": [
        "Стат. значимость по критерию retention_1 не обнаружена."
      ],
      "metadata": {
        "id": "NvD6OBioVB8h"
      }
    },
    {
      "cell_type": "markdown",
      "source": [
        "##Расчет мощности\n"
      ],
      "metadata": {
        "id": "KAQ50x_XVB8j"
      }
    },
    {
      "cell_type": "markdown",
      "source": [
        "***Статистическая мощность проверки гипотезы*** - это вероятность обнаружения эффекта, если существует истинный эффект, который необходимо обнаружить.\n",
        "Мощность может быть рассчитана и зарегистрирована для завершенного эксперимента, чтобы прокомментировать уверенность, которую можно иметь в выводах, сделанных на основе результатов исследования."
      ],
      "metadata": {
        "id": "TZms5hdtVB8j"
      }
    },
    {
      "cell_type": "markdown",
      "source": [
        "d = (M1 – M2) / S_pooled\n",
        "\n",
        "\n",
        "\n",
        "\n"
      ],
      "metadata": {
        "id": "oYmoGx0BVB8j"
      }
    },
    {
      "cell_type": "markdown",
      "source": [
        "## S_pooled ="
      ],
      "metadata": {
        "id": "xIKS0_EuVB8j"
      }
    },
    {
      "cell_type": "markdown",
      "source": [
        "  ![Снимок экрана 2022-08-09 в 22.21.17.png](data:image/png;base64,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)"
      ],
      "metadata": {
        "id": "PpceOjNKVB8k"
      }
    },
    {
      "cell_type": "markdown",
      "source": [
        "![cohens-d-hypothesized-mean-difference.webp](data:image/webp;base64,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)"
      ],
      "metadata": {
        "id": "Luw25lELVB8k"
      }
    },
    {
      "cell_type": "code",
      "source": [
        "control = data.query('version == \"gate_30\"')\n",
        "test = data.query('version == \"gate_40\"')"
      ],
      "metadata": {
        "id": "uN--MljHJ1s-"
      },
      "execution_count": 152,
      "outputs": []
    },
    {
      "cell_type": "code",
      "source": [
        "C_mean = control.retention_7.values.mean()\n",
        "T_mean = test.retention_7.values.mean()\n",
        "\n",
        "C_std = control.retention_7.values.std()\n",
        "T_std = test.retention_7.values.std()"
      ],
      "metadata": {
        "id": "JYw9rDEEVB8m"
      },
      "execution_count": 153,
      "outputs": []
    },
    {
      "cell_type": "code",
      "source": [
        "print(len(control.retention_7.values), len(test.retention_7.values))"
      ],
      "metadata": {
        "colab": {
          "base_uri": "https://localhost:8080/"
        },
        "outputId": "e593bb65-8498-4351-ee28-cb4ca8670988",
        "id": "Rm8dvWdyVB8n"
      },
      "execution_count": 154,
      "outputs": [
        {
          "output_type": "stream",
          "name": "stdout",
          "text": [
            "44700 45489\n"
          ]
        }
      ]
    },
    {
      "cell_type": "code",
      "source": [
        "n =  len(control.retention_7.values)"
      ],
      "metadata": {
        "id": "qm8RmRu5VB8n"
      },
      "execution_count": 155,
      "outputs": []
    },
    {
      "cell_type": "code",
      "source": [
        "##S = np.sqrt((sd_t**2 / n_t) + (sd_c**2 / n_c))\n",
        "\n",
        "S = np.sqrt((T_std**2 + C_std **2)/ 2)"
      ],
      "metadata": {
        "id": "2pS3OaHfVB8n"
      },
      "execution_count": 156,
      "outputs": []
    },
    {
      "cell_type": "code",
      "source": [
        "effect =float((T_mean-C_mean)/ S)"
      ],
      "metadata": {
        "id": "nEdV4CioVB8o"
      },
      "execution_count": 157,
      "outputs": []
    },
    {
      "cell_type": "code",
      "source": [
        "# parameters for power analysis\n",
        "\n",
        "alpha = 0.05\n",
        "\n",
        "# perform power analysis\n",
        "analysis = TTestIndPower()\n",
        "result = analysis.solve_power(effect, power=None, nobs1=n, ratio=1.0, alpha=alpha)\n",
        "\n",
        "result"
      ],
      "metadata": {
        "colab": {
          "base_uri": "https://localhost:8080/"
        },
        "outputId": "f2856352-6f04-449f-a59a-6640e0434ad9",
        "id": "f18YyygcVB8o"
      },
      "execution_count": 158,
      "outputs": [
        {
          "output_type": "execute_result",
          "data": {
            "text/plain": [
              "0.8830851144014207"
            ]
          },
          "metadata": {},
          "execution_count": 158
        }
      ]
    },
    {
      "cell_type": "markdown",
      "source": [
        "***Статистическая мощность*** — это вероятность того, что тест правильно отклонит ложную нулевую гипотезу.<br>\n",
        "Получили достаточно высокую мощность теста, примерно 88.3%<br>\n",
        "Между выборками есть различия с вероятностью 88.3%"
      ],
      "metadata": {
        "id": "RHOSSqR_VB8o"
      }
    },
    {
      "cell_type": "markdown",
      "source": [
        "## Выводы:"
      ],
      "metadata": {
        "id": "mMDdVVw0VB8p"
      }
    },
    {
      "cell_type": "markdown",
      "source": [
        "1. У нас есть статистически значимая разница по метрике удержаний retention_7 между контрольной  и тестовой группами. А эта метрика является наиболее важной.\n",
        "2. Тест был поставлен корректно, каждый пользователь встречается только один раз и не попадает в разные группы.\n",
        "3. Мощность теста достаточная, чтобы с уверенностью 88.3% сказать, что у нас действительно есть статистически значимое различие между группами.\n",
        "4. У нас достаточный объём выборки."
      ],
      "metadata": {
        "id": "4ZWFxnVPVB8q"
      }
    },
    {
      "cell_type": "markdown",
      "source": [
        "##Рекомендации менеджеру:"
      ],
      "metadata": {
        "id": "kA-h58PXVB8q"
      }
    },
    {
      "cell_type": "markdown",
      "source": [
        "1. **Не рекомендую выкатывать изменения в продакшен.**<br>\n",
        "Новая версия игры (gate-40) показывает статистически значимые различия со старой версией игры (gate-30) с уверенностью 88.3%.<br>\n",
        "В контрольной группе (gate-30) показатели по метрике удержаний игроков retention_7 лучше по сравнению с тестовой группой (gate-40).\n",
        "2. Оставляем контрольную версию игры (gate-30).\n",
        "3. Работаем над новой тестовой версией игры."
      ],
      "metadata": {
        "id": "UczUZTgqVB8q"
      }
    }
  ],
  "metadata": {
    "kernelspec": {
      "display_name": "Python 3",
      "language": "python",
      "name": "python3"
    },
    "language_info": {
      "codemirror_mode": {
        "name": "ipython",
        "version": 3
      },
      "file_extension": ".py",
      "mimetype": "text/x-python",
      "name": "python",
      "nbconvert_exporter": "python",
      "pygments_lexer": "ipython3",
      "version": "3.7.10"
    },
    "colab": {
      "provenance": []
    }
  },
  "nbformat": 4,
  "nbformat_minor": 0
}